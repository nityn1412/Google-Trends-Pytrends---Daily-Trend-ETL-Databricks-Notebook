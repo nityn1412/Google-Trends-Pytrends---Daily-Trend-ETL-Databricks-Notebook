{
 "cells": [
  {
   "cell_type": "code",
   "execution_count": 0,
   "metadata": {
    "application/vnd.databricks.v1+cell": {
     "cellMetadata": {
      "byteLimit": 2048000,
      "rowLimit": 10000
     },
     "inputWidgets": {},
     "nuid": "f4baf03e-8f2c-4dff-968b-ec56aaf6f162",
     "showTitle": true,
     "title": "Adding pytrends library"
    }
   },
   "outputs": [
    {
     "output_type": "stream",
     "name": "stdout",
     "output_type": "stream",
     "text": [
      "Collecting pytrends\n  Downloading pytrends-4.9.2-py3-none-any.whl (15 kB)\nRequirement already satisfied: pandas>=0.25 in /databricks/python3/lib/python3.9/site-packages (from pytrends) (1.4.2)\nCollecting lxml\n  Downloading lxml-4.9.3-cp39-cp39-manylinux_2_28_x86_64.whl (8.0 MB)\nRequirement already satisfied: requests>=2.0 in /databricks/python3/lib/python3.9/site-packages (from pytrends) (2.27.1)\nRequirement already satisfied: python-dateutil>=2.8.1 in /databricks/python3/lib/python3.9/site-packages (from pandas>=0.25->pytrends) (2.8.2)\nRequirement already satisfied: pytz>=2020.1 in /databricks/python3/lib/python3.9/site-packages (from pandas>=0.25->pytrends) (2021.3)\nRequirement already satisfied: numpy>=1.18.5 in /databricks/python3/lib/python3.9/site-packages (from pandas>=0.25->pytrends) (1.21.5)\nRequirement already satisfied: six>=1.5 in /databricks/python3/lib/python3.9/site-packages (from python-dateutil>=2.8.1->pandas>=0.25->pytrends) (1.16.0)\nRequirement already satisfied: idna<4,>=2.5 in /databricks/python3/lib/python3.9/site-packages (from requests>=2.0->pytrends) (3.3)\nRequirement already satisfied: charset-normalizer~=2.0.0 in /databricks/python3/lib/python3.9/site-packages (from requests>=2.0->pytrends) (2.0.4)\nRequirement already satisfied: urllib3<1.27,>=1.21.1 in /databricks/python3/lib/python3.9/site-packages (from requests>=2.0->pytrends) (1.26.9)\nRequirement already satisfied: certifi>=2017.4.17 in /databricks/python3/lib/python3.9/site-packages (from requests>=2.0->pytrends) (2021.10.8)\nInstalling collected packages: lxml, pytrends\nSuccessfully installed lxml-4.9.3 pytrends-4.9.2\nWARNING: You are using pip version 21.2.4; however, version 23.2.1 is available.\nYou should consider upgrading via the '/local_disk0/.ephemeral_nfs/envs/pythonEnv-ec15c21d-0a1c-4275-b8fc-a097128ebc3a/bin/python -m pip install --upgrade pip' command.\n"
     ]
    }
   ],
   "source": [
    "%sh\n",
    "\n",
    "pip install pytrends"
   ]
  },
  {
   "cell_type": "code",
   "execution_count": 0,
   "metadata": {
    "application/vnd.databricks.v1+cell": {
     "cellMetadata": {
      "byteLimit": 2048000,
      "rowLimit": 10000
     },
     "inputWidgets": {},
     "nuid": "3d67b3d7-b7f8-46a7-80f6-30177066f4d5",
     "showTitle": true,
     "title": "Importing required modules & setting pytrends variable"
    }
   },
   "outputs": [],
   "source": [
    "from pytrends.request import TrendReq\n",
    "from pyspark.sql.functions import *\n",
    "from pyspark.sql.window import *\n",
    "from pyspark.sql.types import *\n",
    "\n",
    "pytrends = TrendReq(hl='en-IN')"
   ]
  },
  {
   "cell_type": "code",
   "execution_count": 0,
   "metadata": {
    "application/vnd.databricks.v1+cell": {
     "cellMetadata": {
      "byteLimit": 2048000,
      "rowLimit": 10000
     },
     "inputWidgets": {},
     "nuid": "0c00f7f9-1831-40e6-946c-1bf303d3a023",
     "showTitle": true,
     "title": "Sample trending search term data from pytrends"
    }
   },
   "outputs": [
    {
     "output_type": "display_data",
     "data": {
      "text/html": [
       "<div>\n",
       "<style scoped>\n",
       "    .dataframe tbody tr th:only-of-type {\n",
       "        vertical-align: middle;\n",
       "    }\n",
       "\n",
       "    .dataframe tbody tr th {\n",
       "        vertical-align: top;\n",
       "    }\n",
       "\n",
       "    .dataframe thead th {\n",
       "        text-align: right;\n",
       "    }\n",
       "</style>\n",
       "<table border=\"1\" class=\"dataframe\">\n",
       "  <thead>\n",
       "    <tr style=\"text-align: right;\">\n",
       "      <th></th>\n",
       "      <th>0</th>\n",
       "    </tr>\n",
       "  </thead>\n",
       "  <tbody>\n",
       "    <tr>\n",
       "      <th>0</th>\n",
       "      <td>MLC</td>\n",
       "    </tr>\n",
       "    <tr>\n",
       "      <th>1</th>\n",
       "      <td>Man United vs Dortmund</td>\n",
       "    </tr>\n",
       "    <tr>\n",
       "      <th>2</th>\n",
       "      <td>Water</td>\n",
       "    </tr>\n",
       "    <tr>\n",
       "      <th>3</th>\n",
       "      <td>National Girlfriend Day</td>\n",
       "    </tr>\n",
       "    <tr>\n",
       "      <th>4</th>\n",
       "      <td>NTPC share price</td>\n",
       "    </tr>\n",
       "    <tr>\n",
       "      <th>5</th>\n",
       "      <td>Max Verstappen</td>\n",
       "    </tr>\n",
       "    <tr>\n",
       "      <th>6</th>\n",
       "      <td>Prime Minister Narendra Modi</td>\n",
       "    </tr>\n",
       "    <tr>\n",
       "      <th>7</th>\n",
       "      <td>Jasprit Bumrah</td>\n",
       "    </tr>\n",
       "    <tr>\n",
       "      <th>8</th>\n",
       "      <td>Vakkom Purushothaman</td>\n",
       "    </tr>\n",
       "    <tr>\n",
       "      <th>9</th>\n",
       "      <td>Lloyd Steel share price</td>\n",
       "    </tr>\n",
       "  </tbody>\n",
       "</table>\n",
       "</div>"
      ]
     },
     "metadata": {
      "application/vnd.databricks.v1+output": {
       "addedWidgets": {},
       "arguments": {},
       "data": "<div>\n<style scoped>\n    .dataframe tbody tr th:only-of-type {\n        vertical-align: middle;\n    }\n\n    .dataframe tbody tr th {\n        vertical-align: top;\n    }\n\n    .dataframe thead th {\n        text-align: right;\n    }\n</style>\n<table border=\"1\" class=\"dataframe\">\n  <thead>\n    <tr style=\"text-align: right;\">\n      <th></th>\n      <th>0</th>\n    </tr>\n  </thead>\n  <tbody>\n    <tr>\n      <th>0</th>\n      <td>MLC</td>\n    </tr>\n    <tr>\n      <th>1</th>\n      <td>Man United vs Dortmund</td>\n    </tr>\n    <tr>\n      <th>2</th>\n      <td>Water</td>\n    </tr>\n    <tr>\n      <th>3</th>\n      <td>National Girlfriend Day</td>\n    </tr>\n    <tr>\n      <th>4</th>\n      <td>NTPC share price</td>\n    </tr>\n    <tr>\n      <th>5</th>\n      <td>Max Verstappen</td>\n    </tr>\n    <tr>\n      <th>6</th>\n      <td>Prime Minister Narendra Modi</td>\n    </tr>\n    <tr>\n      <th>7</th>\n      <td>Jasprit Bumrah</td>\n    </tr>\n    <tr>\n      <th>8</th>\n      <td>Vakkom Purushothaman</td>\n    </tr>\n    <tr>\n      <th>9</th>\n      <td>Lloyd Steel share price</td>\n    </tr>\n  </tbody>\n</table>\n</div>",
       "datasetInfos": [],
       "metadata": {},
       "removedWidgets": [],
       "textData": null,
       "type": "htmlSandbox"
      }
     },
     "output_type": "display_data"
    }
   ],
   "source": [
    "pytrends.trending_searches(pn='india').head(10)"
   ]
  },
  {
   "cell_type": "code",
   "execution_count": 0,
   "metadata": {
    "application/vnd.databricks.v1+cell": {
     "cellMetadata": {
      "byteLimit": 2048000,
      "rowLimit": 10000
     },
     "inputWidgets": {},
     "nuid": "e03112aa-d74d-47b5-ace4-68eee69a4b7a",
     "showTitle": true,
     "title": "Run if issue in creating tables"
    }
   },
   "outputs": [
    {
     "output_type": "display_data",
     "data": {
      "text/html": [
       "<style scoped>\n",
       "  .ansiout {\n",
       "    display: block;\n",
       "    unicode-bidi: embed;\n",
       "    white-space: pre-wrap;\n",
       "    word-wrap: break-word;\n",
       "    word-break: break-all;\n",
       "    font-family: \"Source Code Pro\", \"Menlo\", monospace;;\n",
       "    font-size: 13px;\n",
       "    color: #555;\n",
       "    margin-left: 4px;\n",
       "    line-height: 19px;\n",
       "  }\n",
       "</style>\n",
       "<div class=\"ansiout\">res0: Boolean = true\n",
       "</div>"
      ]
     },
     "metadata": {
      "application/vnd.databricks.v1+output": {
       "addedWidgets": {},
       "arguments": {},
       "data": "<div class=\"ansiout\">res0: Boolean = true\n</div>",
       "datasetInfos": [],
       "metadata": {
        "isDbfsCommandResult": false
       },
       "removedWidgets": [],
       "type": "html"
      }
     },
     "output_type": "display_data"
    }
   ],
   "source": [
    "%fs\n",
    "\n",
    "rm -r dbfs:/user/hive/warehouse/trending_searches.db/"
   ]
  },
  {
   "cell_type": "code",
   "execution_count": 0,
   "metadata": {
    "application/vnd.databricks.v1+cell": {
     "cellMetadata": {
      "byteLimit": 2048000,
      "implicitDf": true,
      "rowLimit": 10000
     },
     "inputWidgets": {},
     "nuid": "c2850824-e9b4-4cb9-8e43-ded60d2e55c3",
     "showTitle": true,
     "title": "Creating database, countries_trending_searches table & final top_trending table"
    }
   },
   "outputs": [
    {
     "output_type": "display_data",
     "data": {
      "text/html": [
       "<style scoped>\n",
       "  .table-result-container {\n",
       "    max-height: 300px;\n",
       "    overflow: auto;\n",
       "  }\n",
       "  table, th, td {\n",
       "    border: 1px solid black;\n",
       "    border-collapse: collapse;\n",
       "  }\n",
       "  th, td {\n",
       "    padding: 5px;\n",
       "  }\n",
       "  th {\n",
       "    text-align: left;\n",
       "  }\n",
       "</style><div class='table-result-container'><table class='table-result'><thead style='background-color: white'><tr></tr></thead><tbody></tbody></table></div>"
      ]
     },
     "metadata": {
      "application/vnd.databricks.v1+output": {
       "addedWidgets": {},
       "aggData": [],
       "aggError": "",
       "aggOverflow": false,
       "aggSchema": [],
       "aggSeriesLimitReached": false,
       "aggType": "",
       "arguments": {},
       "columnCustomDisplayInfos": {},
       "data": [],
       "datasetInfos": [],
       "dbfsResultPath": null,
       "isJsonSchema": true,
       "metadata": {},
       "overflow": false,
       "plotOptions": {
        "customPlotOptions": {},
        "displayType": "table",
        "pivotAggregation": null,
        "pivotColumns": null,
        "xColumns": null,
        "yColumns": null
       },
       "removedWidgets": [],
       "schema": [],
       "type": "table"
      }
     },
     "output_type": "display_data"
    }
   ],
   "source": [
    "%sql\n",
    "\n",
    "create database if not exists trending_searches;\n",
    "show databases;\n",
    "use trending_searches;"
   ]
  },
  {
   "cell_type": "code",
   "execution_count": 0,
   "metadata": {
    "application/vnd.databricks.v1+cell": {
     "cellMetadata": {
      "byteLimit": 2048000,
      "implicitDf": true,
      "rowLimit": 10000
     },
     "inputWidgets": {},
     "nuid": "bca3e186-8fd1-4963-85fa-c362d049d844",
     "showTitle": false,
     "title": ""
    }
   },
   "outputs": [
    {
     "output_type": "display_data",
     "data": {
      "text/html": [
       "<style scoped>\n",
       "  .table-result-container {\n",
       "    max-height: 300px;\n",
       "    overflow: auto;\n",
       "  }\n",
       "  table, th, td {\n",
       "    border: 1px solid black;\n",
       "    border-collapse: collapse;\n",
       "  }\n",
       "  th, td {\n",
       "    padding: 5px;\n",
       "  }\n",
       "  th {\n",
       "    text-align: left;\n",
       "  }\n",
       "</style><div class='table-result-container'><table class='table-result'><thead style='background-color: white'><tr><th>col_name</th><th>data_type</th><th>comment</th></tr></thead><tbody><tr><td>search_term</td><td>varchar(50)</td><td>null</td></tr><tr><td>country</td><td>string</td><td>null</td></tr><tr><td>rank</td><td>int</td><td>null</td></tr><tr><td>data_as_of_date</td><td>date</td><td>null</td></tr></tbody></table></div>"
      ]
     },
     "metadata": {
      "application/vnd.databricks.v1+output": {
       "addedWidgets": {},
       "aggData": [],
       "aggError": "",
       "aggOverflow": false,
       "aggSchema": [],
       "aggSeriesLimitReached": false,
       "aggType": "",
       "arguments": {},
       "columnCustomDisplayInfos": {},
       "data": [
        [
         "search_term",
         "varchar(50)",
         null
        ],
        [
         "country",
         "string",
         null
        ],
        [
         "rank",
         "int",
         null
        ],
        [
         "data_as_of_date",
         "date",
         null
        ]
       ],
       "datasetInfos": [],
       "dbfsResultPath": null,
       "isJsonSchema": true,
       "metadata": {},
       "overflow": false,
       "plotOptions": {
        "customPlotOptions": {},
        "displayType": "table",
        "pivotAggregation": null,
        "pivotColumns": null,
        "xColumns": null,
        "yColumns": null
       },
       "removedWidgets": [],
       "schema": [
        {
         "metadata": "{\"comment\":\"name of the column\"}",
         "name": "col_name",
         "type": "\"string\""
        },
        {
         "metadata": "{\"comment\":\"data type of the column\"}",
         "name": "data_type",
         "type": "\"string\""
        },
        {
         "metadata": "{\"comment\":\"comment of the column\"}",
         "name": "comment",
         "type": "\"string\""
        }
       ],
       "type": "table"
      }
     },
     "output_type": "display_data"
    }
   ],
   "source": [
    "%sql\n",
    "\n",
    "create table if not exists countries_trending_searches(search_term varchar(50), country string, rank int, data_as_of_date date);\n",
    "desc countries_trending_searches;"
   ]
  },
  {
   "cell_type": "code",
   "execution_count": 0,
   "metadata": {
    "application/vnd.databricks.v1+cell": {
     "cellMetadata": {
      "byteLimit": 2048000,
      "implicitDf": true,
      "rowLimit": 10000
     },
     "inputWidgets": {},
     "nuid": "7a9994a3-4dd1-42a2-80f2-49b5ef3139c5",
     "showTitle": false,
     "title": ""
    }
   },
   "outputs": [
    {
     "output_type": "display_data",
     "data": {
      "text/html": [
       "<style scoped>\n",
       "  .table-result-container {\n",
       "    max-height: 300px;\n",
       "    overflow: auto;\n",
       "  }\n",
       "  table, th, td {\n",
       "    border: 1px solid black;\n",
       "    border-collapse: collapse;\n",
       "  }\n",
       "  th, td {\n",
       "    padding: 5px;\n",
       "  }\n",
       "  th {\n",
       "    text-align: left;\n",
       "  }\n",
       "</style><div class='table-result-container'><table class='table-result'><thead style='background-color: white'><tr><th>col_name</th><th>data_type</th><th>comment</th></tr></thead><tbody><tr><td>search_term</td><td>varchar(75)</td><td>null</td></tr><tr><td>trend_cntry_count</td><td>int</td><td>null</td></tr><tr><td>avg_cntry_trend_rank</td><td>double</td><td>null</td></tr><tr><td>ranking</td><td>int</td><td>null</td></tr><tr><td>country</td><td>varchar(25)</td><td>null</td></tr><tr><td>data_as_of_date</td><td>date</td><td>null</td></tr></tbody></table></div>"
      ]
     },
     "metadata": {
      "application/vnd.databricks.v1+output": {
       "addedWidgets": {},
       "aggData": [],
       "aggError": "",
       "aggOverflow": false,
       "aggSchema": [],
       "aggSeriesLimitReached": false,
       "aggType": "",
       "arguments": {},
       "columnCustomDisplayInfos": {},
       "data": [
        [
         "search_term",
         "varchar(75)",
         null
        ],
        [
         "trend_cntry_count",
         "int",
         null
        ],
        [
         "avg_cntry_trend_rank",
         "double",
         null
        ],
        [
         "ranking",
         "int",
         null
        ],
        [
         "country",
         "varchar(25)",
         null
        ],
        [
         "data_as_of_date",
         "date",
         null
        ]
       ],
       "datasetInfos": [],
       "dbfsResultPath": null,
       "isJsonSchema": true,
       "metadata": {},
       "overflow": false,
       "plotOptions": {
        "customPlotOptions": {},
        "displayType": "table",
        "pivotAggregation": null,
        "pivotColumns": null,
        "xColumns": null,
        "yColumns": null
       },
       "removedWidgets": [],
       "schema": [
        {
         "metadata": "{\"comment\":\"name of the column\"}",
         "name": "col_name",
         "type": "\"string\""
        },
        {
         "metadata": "{\"comment\":\"data type of the column\"}",
         "name": "data_type",
         "type": "\"string\""
        },
        {
         "metadata": "{\"comment\":\"comment of the column\"}",
         "name": "comment",
         "type": "\"string\""
        }
       ],
       "type": "table"
      }
     },
     "output_type": "display_data"
    }
   ],
   "source": [
    "%sql\n",
    "\n",
    "create table if not exists top_trending(search_term varchar(75), trend_cntry_count int,avg_cntry_trend_rank double , ranking int, country varchar(25), data_as_of_date date);\n",
    "desc top_trending;"
   ]
  },
  {
   "cell_type": "code",
   "execution_count": 0,
   "metadata": {
    "application/vnd.databricks.v1+cell": {
     "cellMetadata": {
      "byteLimit": 2048000,
      "rowLimit": 10000
     },
     "inputWidgets": {},
     "nuid": "f8b8a662-2afd-401a-84cf-5a23bedea46c",
     "showTitle": true,
     "title": "Countries where Google Daily search trends is available"
    }
   },
   "outputs": [],
   "source": [
    "#Can't store this data in file or table as data is lost in Community Edition after clusture is terminated\n",
    "\n",
    "dst_coutries = [\"Argentina\",\"Australia\",\"Austria\",\"Belgium\",\"Brazil\",\"Canada\",\"Chile\",\"Colombia\",\"Denmark\",\"Egypt\",\"Finland\",\"France\",\"Germany\",\"Greece\",\"Hong_Kong\",\"Hungary\",\"India\",\"Indonesia\",\"Ireland\",\"Israel\",\"Italy\",\"Japan\",\"Kenya\",\"Malaysia\",\"Mexico\",\"Netherlands\",\"New Zealand\",\"Nigeria\",\"Norway\",\"Philippines\",\"Poland\",\"Portugal\",\"Romania\",\"Russia\",\"Saudi_Arabia\",\"Singapore\",\"South_Africa\",\"South_Korea\",\"Sweden\",\"Switzerland\",\"Taiwan\",\"Thailand\",\"Turkey\",\"Ukraine\",\"United_Kingdom\",\"United_States\",\"Vietnam\"]"
   ]
  },
  {
   "cell_type": "code",
   "execution_count": 0,
   "metadata": {
    "application/vnd.databricks.v1+cell": {
     "cellMetadata": {
      "byteLimit": 2048000,
      "rowLimit": 10000
     },
     "inputWidgets": {},
     "nuid": "33488ecd-16b2-4c8e-a108-310a8224ca5f",
     "showTitle": true,
     "title": "Creating empty spark data structure with schema"
    }
   },
   "outputs": [],
   "source": [
    "schema = StructType([\n",
    "  StructField('search_term', StringType(), True),\n",
    "  StructField('country', StringType(), True),\n",
    "  StructField('rank', IntegerType(), True),\n",
    "  StructField('data_as_of_date', DateType(), True)\n",
    "])\n",
    "\n",
    "comb_df1 = spark.createDataFrame([], schema)"
   ]
  },
  {
   "cell_type": "code",
   "execution_count": 0,
   "metadata": {
    "application/vnd.databricks.v1+cell": {
     "cellMetadata": {
      "byteLimit": 2048000,
      "rowLimit": 10000
     },
     "inputWidgets": {},
     "nuid": "1a2c5483-e28b-4554-a559-c4b78955873b",
     "showTitle": true,
     "title": "Extraction & Transformation_1 - Renaming column, adding trending search term with country, trend rank & date"
    }
   },
   "outputs": [
    {
     "output_type": "display_data",
     "data": {
      "text/html": [
       "<style scoped>\n",
       "  .table-result-container {\n",
       "    max-height: 300px;\n",
       "    overflow: auto;\n",
       "  }\n",
       "  table, th, td {\n",
       "    border: 1px solid black;\n",
       "    border-collapse: collapse;\n",
       "  }\n",
       "  th, td {\n",
       "    padding: 5px;\n",
       "  }\n",
       "  th {\n",
       "    text-align: left;\n",
       "  }\n",
       "</style><div class='table-result-container'><table class='table-result'><thead style='background-color: white'><tr><th>search_term</th><th>country</th><th>rank</th><th>data_as_of_date</th></tr></thead><tbody><tr><td>Manchester United</td><td>Argentina</td><td>1</td><td>2023-07-31</td></tr><tr><td>Caña con ruda</td><td>Argentina</td><td>2</td><td>2023-07-31</td></tr><tr><td>Paro docente</td><td>Argentina</td><td>3</td><td>2023-07-31</td></tr><tr><td>Dembele</td><td>Argentina</td><td>4</td><td>2023-07-31</td></tr><tr><td>Elecciones Villa Allende</td><td>Argentina</td><td>5</td><td>2023-07-31</td></tr><tr><td>Racing de córdoba vs Independiente</td><td>Argentina</td><td>6</td><td>2023-07-31</td></tr><tr><td>Huracan</td><td>Argentina</td><td>7</td><td>2023-07-31</td></tr><tr><td>Manchester City vs Atlético Madrid</td><td>Argentina</td><td>8</td><td>2023-07-31</td></tr><tr><td>Velez</td><td>Argentina</td><td>9</td><td>2023-07-31</td></tr><tr><td>Colon</td><td>Argentina</td><td>10</td><td>2023-07-31</td></tr><tr><td>Nigeria vs Ireland</td><td>Australia</td><td>1</td><td>2023-07-31</td></tr><tr><td>World Cup</td><td>Australia</td><td>2</td><td>2023-07-31</td></tr><tr><td>Buddy Franklin</td><td>Australia</td><td>3</td><td>2023-07-31</td></tr><tr><td>Man United vs Dortmund</td><td>Australia</td><td>4</td><td>2023-07-31</td></tr><tr><td>Women's World Cup results</td><td>Australia</td><td>5</td><td>2023-07-31</td></tr><tr><td>Sebastian Guilhaus</td><td>Australia</td><td>6</td><td>2023-07-31</td></tr><tr><td>Man utd</td><td>Australia</td><td>7</td><td>2023-07-31</td></tr><tr><td>Tony Ferguson</td><td>Australia</td><td>8</td><td>2023-07-31</td></tr><tr><td>Soccer</td><td>Australia</td><td>9</td><td>2023-07-31</td></tr><tr><td>Japan vs Spain</td><td>Australia</td><td>10</td><td>2023-07-31</td></tr><tr><td>Gerhard Struber</td><td>Austria</td><td>1</td><td>2023-07-31</td></tr><tr><td>Gmunden</td><td>Austria</td><td>2</td><td>2023-07-31</td></tr><tr><td>Unfall</td><td>Austria</td><td>3</td><td>2023-07-31</td></tr><tr><td>Demi Vollering</td><td>Austria</td><td>4</td><td>2023-07-31</td></tr><tr><td>Lionel Messi</td><td>Austria</td><td>5</td><td>2023-07-31</td></tr><tr><td>Borussia Mönchengladbach</td><td>Austria</td><td>6</td><td>2023-07-31</td></tr><tr><td>Bruce Willis</td><td>Austria</td><td>7</td><td>2023-07-31</td></tr><tr><td>Jojo Rabbit</td><td>Austria</td><td>8</td><td>2023-07-31</td></tr><tr><td>Dembele</td><td>Austria</td><td>9</td><td>2023-07-31</td></tr><tr><td>Hunter Biden</td><td>Austria</td><td>10</td><td>2023-07-31</td></tr><tr><td>Niger</td><td>Belgium</td><td>1</td><td>2023-07-31</td></tr><tr><td>Manchester United – Dortmund</td><td>Belgium</td><td>2</td><td>2023-07-31</td></tr><tr><td>Helmut Lotti</td><td>Belgium</td><td>3</td><td>2023-07-31</td></tr><tr><td>Nouhaila Benzina</td><td>Belgium</td><td>4</td><td>2023-07-31</td></tr><tr><td>Iliman Ndiaye</td><td>Belgium</td><td>5</td><td>2023-07-31</td></tr><tr><td>Henri PFR</td><td>Belgium</td><td>6</td><td>2023-07-31</td></tr><tr><td>Als ziekte</td><td>Belgium</td><td>7</td><td>2023-07-31</td></tr><tr><td>Club Brugge</td><td>Belgium</td><td>8</td><td>2023-07-31</td></tr><tr><td>Antwerp  Cercle</td><td>Belgium</td><td>9</td><td>2023-07-31</td></tr><tr><td>Als</td><td>Belgium</td><td>10</td><td>2023-07-31</td></tr><tr><td>Irlanda x Nigéria</td><td>Brazil</td><td>1</td><td>2023-07-31</td></tr><tr><td>Palmeiras</td><td>Brazil</td><td>2</td><td>2023-07-31</td></tr><tr><td>Gremio</td><td>Brazil</td><td>3</td><td>2023-07-31</td></tr><tr><td>Sao Paulo</td><td>Brazil</td><td>4</td><td>2023-07-31</td></tr><tr><td>Vitoria</td><td>Brazil</td><td>5</td><td>2023-07-31</td></tr><tr><td>Manchester United x Borussia</td><td>Brazil</td><td>6</td><td>2023-07-31</td></tr><tr><td>Fortaleza</td><td>Brazil</td><td>7</td><td>2023-07-31</td></tr><tr><td>Paysandu</td><td>Brazil</td><td>8</td><td>2023-07-31</td></tr><tr><td>Vila Nova</td><td>Brazil</td><td>9</td><td>2023-07-31</td></tr><tr><td>Criciuma</td><td>Brazil</td><td>10</td><td>2023-07-31</td></tr><tr><td>Chelsea</td><td>Canada</td><td>1</td><td>2023-07-31</td></tr><tr><td>Whitecaps</td><td>Canada</td><td>2</td><td>2023-07-31</td></tr><tr><td>Dark Winds</td><td>Canada</td><td>3</td><td>2023-07-31</td></tr><tr><td>Women's World Cup</td><td>Canada</td><td>4</td><td>2023-07-31</td></tr><tr><td>Osoyoos fire</td><td>Canada</td><td>5</td><td>2023-07-31</td></tr><tr><td>Canada vs Australia</td><td>Canada</td><td>6</td><td>2023-07-31</td></tr><tr><td>Man United vs Dortmund</td><td>Canada</td><td>7</td><td>2023-07-31</td></tr><tr><td>Amber Alert B.C</td><td>Canada</td><td>8</td><td>2023-07-31</td></tr><tr><td>Plane crash Alberta</td><td>Canada</td><td>9</td><td>2023-07-31</td></tr><tr><td>Max Verstappen</td><td>Canada</td><td>10</td><td>2023-07-31</td></tr><tr><td>Dembele</td><td>Chile</td><td>1</td><td>2023-07-31</td></tr><tr><td>U de Chile</td><td>Chile</td><td>2</td><td>2023-07-31</td></tr><tr><td>Magallanes vs U de Chile</td><td>Chile</td><td>3</td><td>2023-07-31</td></tr><tr><td>Manchester United  Dortmund</td><td>Chile</td><td>4</td><td>2023-07-31</td></tr><tr><td>Curicó Unido - U. La Calera</td><td>Chile</td><td>5</td><td>2023-07-31</td></tr><tr><td>Coquimbo Unido  Everton</td><td>Chile</td><td>6</td><td>2023-07-31</td></tr><tr><td>Manchester City vs Atlético Madrid</td><td>Chile</td><td>7</td><td>2023-07-31</td></tr><tr><td>Gonzalo Lama</td><td>Chile</td><td>8</td><td>2023-07-31</td></tr><tr><td>Vesta Lugg</td><td>Chile</td><td>9</td><td>2023-07-31</td></tr><tr><td>Wanderers</td><td>Chile</td><td>10</td><td>2023-07-31</td></tr><tr><td>Dembele</td><td>Colombia</td><td>1</td><td>2023-07-31</td></tr><tr><td>Pico y placa 31 de julio 2023</td><td>Colombia</td><td>2</td><td>2023-07-31</td></tr><tr><td>América  Pasto</td><td>Colombia</td><td>3</td><td>2023-07-31</td></tr><tr><td>Once Caldas - Deportivo Cali</td><td>Colombia</td><td>4</td><td>2023-07-31</td></tr><tr><td>Liverpool  Leicester City</td><td>Colombia</td><td>5</td><td>2023-07-31</td></tr><tr><td>Manchester United  Dortmund</td><td>Colombia</td><td>6</td><td>2023-07-31</td></tr><tr><td>Manchester City vs Atlético Madrid</td><td>Colombia</td><td>7</td><td>2023-07-31</td></tr><tr><td>Loteria de boyaca 29 de julio 2023</td><td>Colombia</td><td>8</td><td>2023-07-31</td></tr><tr><td>Atlético Madrid  Manchester City</td><td>Colombia</td><td>9</td><td>2023-07-31</td></tr><tr><td>Chelsea  Fulham</td><td>Colombia</td><td>10</td><td>2023-07-31</td></tr><tr><td>Man utd  Dortmund</td><td>Denmark</td><td>1</td><td>2023-07-31</td></tr><tr><td>Chelsea</td><td>Denmark</td><td>2</td><td>2023-07-31</td></tr><tr><td>Boris Becker</td><td>Denmark</td><td>3</td><td>2023-07-31</td></tr><tr><td>Klarna</td><td>Denmark</td><td>4</td><td>2023-07-31</td></tr><tr><td>Women's World Cup</td><td>Denmark</td><td>5</td><td>2023-07-31</td></tr><tr><td>Liverpool  Leicester</td><td>Denmark</td><td>6</td><td>2023-07-31</td></tr><tr><td>Tom Cruise</td><td>Denmark</td><td>7</td><td>2023-07-31</td></tr><tr><td>Man City Atlético Madrid</td><td>Denmark</td><td>8</td><td>2023-07-31</td></tr><tr><td>Cluster headache</td><td>Denmark</td><td>9</td><td>2023-07-31</td></tr><tr><td>Canada</td><td>Denmark</td><td>10</td><td>2023-07-31</td></tr><tr><td>مان يونايتد ضد دورتموند</td><td>Egypt</td><td>1</td><td>2023-07-31</td></tr><tr><td>مباراة الزمالك اليوم</td><td>Egypt</td><td>2</td><td>2023-07-31</td></tr><tr><td>جدول قطع الكهرباء في مصر</td><td>Egypt</td><td>3</td><td>2023-07-31</td></tr><tr><td>السودان</td><td>Egypt</td><td>4</td><td>2023-07-31</td></tr><tr><td>تظلمات الثانوية العامة 2023</td><td>Egypt</td><td>5</td><td>2023-07-31</td></tr><tr><td>QNB</td><td>Egypt</td><td>6</td><td>2023-07-31</td></tr><tr><td>الصين</td><td>Egypt</td><td>7</td><td>2023-07-31</td></tr><tr><td>كلية الذكاء الاصطناعي</td><td>Egypt</td><td>8</td><td>2023-07-31</td></tr><tr><td>ليونيل ميسي</td><td>Egypt</td><td>9</td><td>2023-07-31</td></tr><tr><td>مان يونايتد</td><td>Egypt</td><td>10</td><td>2023-07-31</td></tr><tr><td>Baldur's Gate 3</td><td>Finland</td><td>1</td><td>2023-07-31</td></tr><tr><td>Pam</td><td>Finland</td><td>2</td><td>2023-07-31</td></tr><tr><td>Chelsea – Fulham</td><td>Finland</td><td>3</td><td>2023-07-31</td></tr><tr><td>KuPS</td><td>Finland</td><td>4</td><td>2023-07-31</td></tr><tr><td>Sam Kerr</td><td>Finland</td><td>5</td><td>2023-07-31</td></tr><tr><td>Barcelona – Real Madrid</td><td>Finland</td><td>6</td><td>2023-07-31</td></tr><tr><td>Liverpool – Leicester City</td><td>Finland</td><td>7</td><td>2023-07-31</td></tr><tr><td>Cluster headache</td><td>Finland</td><td>8</td><td>2023-07-31</td></tr><tr><td>Ethan Slater</td><td>Finland</td><td>9</td><td>2023-07-31</td></tr><tr><td>Nigeria</td><td>Finland</td><td>10</td><td>2023-07-31</td></tr><tr><td>Var parc aquatique structure gonflable</td><td>France</td><td>1</td><td>2023-07-31</td></tr><tr><td>Manchester United – Dortmund</td><td>France</td><td>2</td><td>2023-07-31</td></tr><tr><td>Declaration bien immobilier</td><td>France</td><td>3</td><td>2023-07-31</td></tr><tr><td>Algérie</td><td>France</td><td>4</td><td>2023-07-31</td></tr><tr><td>Raphael Quenard</td><td>France</td><td>5</td><td>2023-07-31</td></tr><tr><td>Al-Ittihad</td><td>France</td><td>6</td><td>2023-07-31</td></tr><tr><td>Niger</td><td>France</td><td>7</td><td>2023-07-31</td></tr><tr><td>Dembele</td><td>France</td><td>8</td><td>2023-07-31</td></tr><tr><td>Real Madrid</td><td>France</td><td>9</td><td>2023-07-31</td></tr><tr><td>Iliman Ndiaye</td><td>France</td><td>10</td><td>2023-07-31</td></tr><tr><td>Wacken</td><td>Germany</td><td>1</td><td>2023-07-31</td></tr><tr><td>Fußball-WM</td><td>Germany</td><td>2</td><td>2023-07-31</td></tr><tr><td>Ricarda Lang</td><td>Germany</td><td>3</td><td>2023-07-31</td></tr><tr><td>WM</td><td>Germany</td><td>4</td><td>2023-07-31</td></tr><tr><td>Zverev</td><td>Germany</td><td>5</td><td>2023-07-31</td></tr><tr><td>FIFA frauen-wm™</td><td>Germany</td><td>6</td><td>2023-07-31</td></tr><tr><td>Frauen-Fußball-WM</td><td>Germany</td><td>7</td><td>2023-07-31</td></tr><tr><td>Jürgen von der Lippe</td><td>Germany</td><td>8</td><td>2023-07-31</td></tr><tr><td>Eintracht Braunschweig</td><td>Germany</td><td>9</td><td>2023-07-31</td></tr><tr><td>Negah Amiri</td><td>Germany</td><td>10</td><td>2023-07-31</td></tr><tr><td>Φωτια χιοσ</td><td>Greece</td><td>1</td><td>2023-07-31</td></tr><tr><td>Μπεσσυ αργυρακη</td><td>Greece</td><td>2</td><td>2023-07-31</td></tr><tr><td>Τουρισμοσ για ολουσ αιτηση</td><td>Greece</td><td>3</td><td>2023-07-31</td></tr><tr><td>Θασοσ φωτια</td><td>Greece</td><td>4</td><td>2023-07-31</td></tr><tr><td>Johnny Depp</td><td>Greece</td><td>5</td><td>2023-07-31</td></tr><tr><td>Τουρκια</td><td>Greece</td><td>6</td><td>2023-07-31</td></tr><tr><td>The vanished</td><td>Greece</td><td>7</td><td>2023-07-31</td></tr><tr><td>Aek</td><td>Greece</td><td>8</td><td>2023-07-31</td></tr><tr><td>Κωστασ μπιλιρησ</td><td>Greece</td><td>9</td><td>2023-07-31</td></tr><tr><td>UFC</td><td>Greece</td><td>10</td><td>2023-07-31</td></tr><tr><td>鯨魚</td><td>Hong_Kong</td><td>1</td><td>2023-07-31</td></tr><tr><td>楊貫一</td><td>Hong_Kong</td><td>2</td><td>2023-07-31</td></tr><tr><td>羅剎海市</td><td>Hong_Kong</td><td>3</td><td>2023-07-31</td></tr><tr><td>卡努</td><td>Hong_Kong</td><td>4</td><td>2023-07-31</td></tr><tr><td>羅布泊</td><td>Hong_Kong</td><td>5</td><td>2023-07-31</td></tr><tr><td>居屋申請</td><td>Hong_Kong</td><td>6</td><td>2023-07-31</td></tr><tr><td>馬來熊</td><td>Hong_Kong</td><td>7</td><td>2023-07-31</td></tr><tr><td>羅志祥</td><td>Hong_Kong</td><td>8</td><td>2023-07-31</td></tr><tr><td>Tesla 減價</td><td>Hong_Kong</td><td>9</td><td>2023-07-31</td></tr><tr><td>張家朗</td><td>Hong_Kong</td><td>10</td><td>2023-07-31</td></tr><tr><td>Állampapír</td><td>Hungary</td><td>1</td><td>2023-07-31</td></tr><tr><td>Honvéd</td><td>Hungary</td><td>2</td><td>2023-07-31</td></tr><tr><td>Liverpool–leicester</td><td>Hungary</td><td>3</td><td>2023-07-31</td></tr><tr><td>Árfigyelő</td><td>Hungary</td><td>4</td><td>2023-07-31</td></tr><tr><td>Titanic</td><td>Hungary</td><td>5</td><td>2023-07-31</td></tr><tr><td>Chelsea–fulham</td><td>Hungary</td><td>6</td><td>2023-07-31</td></tr><tr><td>Iggy Pop</td><td>Hungary</td><td>7</td><td>2023-07-31</td></tr><tr><td>Aquaman</td><td>Hungary</td><td>8</td><td>2023-07-31</td></tr><tr><td>Márton Anna</td><td>Hungary</td><td>9</td><td>2023-07-31</td></tr><tr><td>Barcelona</td><td>Hungary</td><td>10</td><td>2023-07-31</td></tr><tr><td>MLC</td><td>India</td><td>1</td><td>2023-07-31</td></tr><tr><td>Man United vs Dortmund</td><td>India</td><td>2</td><td>2023-07-31</td></tr><tr><td>Water</td><td>India</td><td>3</td><td>2023-07-31</td></tr><tr><td>National Girlfriend Day</td><td>India</td><td>4</td><td>2023-07-31</td></tr><tr><td>NTPC share price</td><td>India</td><td>5</td><td>2023-07-31</td></tr><tr><td>Max Verstappen</td><td>India</td><td>6</td><td>2023-07-31</td></tr><tr><td>Prime Minister Narendra Modi</td><td>India</td><td>7</td><td>2023-07-31</td></tr><tr><td>Jasprit Bumrah</td><td>India</td><td>8</td><td>2023-07-31</td></tr><tr><td>Vakkom Purushothaman</td><td>India</td><td>9</td><td>2023-07-31</td></tr><tr><td>Lloyd Steel share price</td><td>India</td><td>10</td><td>2023-07-31</td></tr><tr><td>Chelsea vs Fulham</td><td>Indonesia</td><td>1</td><td>2023-07-31</td></tr><tr><td>Mark Lee</td><td>Indonesia</td><td>2</td><td>2023-07-31</td></tr><tr><td>Prabowo Subianto</td><td>Indonesia</td><td>3</td><td>2023-07-31</td></tr><tr><td>Peta konsep</td><td>Indonesia</td><td>4</td><td>2023-07-31</td></tr><tr><td>Doa Nabi Yunus</td><td>Indonesia</td><td>5</td><td>2023-07-31</td></tr><tr><td>Pengertian, Sejarah</td><td>Indonesia</td><td>6</td><td>2023-07-31</td></tr><tr><td>PPG Prajabatan</td><td>Indonesia</td><td>7</td><td>2023-07-31</td></tr><tr><td>LE SSERAFIM</td><td>Indonesia</td><td>8</td><td>2023-07-31</td></tr><tr><td>Primal</td><td>Indonesia</td><td>9</td><td>2023-07-31</td></tr><tr><td>IshowSpeed</td><td>Indonesia</td><td>10</td><td>2023-07-31</td></tr><tr><td>Man United vs Dortmund</td><td>Ireland</td><td>1</td><td>2023-07-31</td></tr><tr><td>Galway Races</td><td>Ireland</td><td>2</td><td>2023-07-31</td></tr><tr><td>Yousef Palani</td><td>Ireland</td><td>3</td><td>2023-07-31</td></tr><tr><td>Circle K</td><td>Ireland</td><td>4</td><td>2023-07-31</td></tr><tr><td>David Raya</td><td>Ireland</td><td>5</td><td>2023-07-31</td></tr><tr><td>F1 Belgian Grand Prix</td><td>Ireland</td><td>6</td><td>2023-07-31</td></tr><tr><td>Wordle hint</td><td>Ireland</td><td>7</td><td>2023-07-31</td></tr><tr><td>Paolo Nutini</td><td>Ireland</td><td>8</td><td>2023-07-31</td></tr><tr><td>Football Women's World Cup 2023</td><td>Ireland</td><td>9</td><td>2023-07-31</td></tr><tr><td>UFC</td><td>Ireland</td><td>10</td><td>2023-07-31</td></tr><tr><td>גיא הוכמן</td><td>Israel</td><td>1</td><td>2023-07-31</td></tr><tr><td>נסרין קדרי</td><td>Israel</td><td>2</td><td>2023-07-31</td></tr><tr><td>רן ארז</td><td>Israel</td><td>3</td><td>2023-07-31</td></tr><tr><td>הקו האדום</td><td>Israel</td><td>4</td><td>2023-07-31</td></tr><tr><td>שלמה וישינסקי</td><td>Israel</td><td>5</td><td>2023-07-31</td></tr><tr><td>ארי שמאי</td><td>Israel</td><td>6</td><td>2023-07-31</td></tr><tr><td>ליבי נחימובסקי</td><td>Israel</td><td>7</td><td>2023-07-31</td></tr><tr><td>טו באב</td><td>Israel</td><td>8</td><td>2023-07-31</td></tr><tr><td>ברצלונה</td><td>Israel</td><td>9</td><td>2023-07-31</td></tr><tr><td>חוק טבריה</td><td>Israel</td><td>10</td><td>2023-07-31</td></tr><tr><td>F1 Spa</td><td>Italy</td><td>1</td><td>2023-07-31</td></tr><tr><td>Jonathan David</td><td>Italy</td><td>2</td><td>2023-07-31</td></tr><tr><td>Giorgia Cardinaletti</td><td>Italy</td><td>3</td><td>2023-07-31</td></tr><tr><td>Salvini</td><td>Italy</td><td>4</td><td>2023-07-31</td></tr><tr><td>Procida</td><td>Italy</td><td>5</td><td>2023-07-31</td></tr><tr><td>Costil</td><td>Italy</td><td>6</td><td>2023-07-31</td></tr><tr><td>Thuram</td><td>Italy</td><td>7</td><td>2023-07-31</td></tr><tr><td>Ghost Rider</td><td>Italy</td><td>8</td><td>2023-07-31</td></tr><tr><td>Lozano</td><td>Italy</td><td>9</td><td>2023-07-31</td></tr><tr><td>Zaccagni</td><td>Italy</td><td>10</td><td>2023-07-31</td></tr><tr><td>台風情報</td><td>Japan</td><td>1</td><td>2023-07-31</td></tr><tr><td>なでしこジャパン</td><td>Japan</td><td>2</td><td>2023-07-31</td></tr><tr><td>みなとみらい 花火</td><td>Japan</td><td>3</td><td>2023-07-31</td></tr><tr><td>バービー</td><td>Japan</td><td>4</td><td>2023-07-31</td></tr><tr><td>久保田梨沙</td><td>Japan</td><td>5</td><td>2023-07-31</td></tr><tr><td>キングダム 運命の炎</td><td>Japan</td><td>6</td><td>2023-07-31</td></tr><tr><td>市川猿之助</td><td>Japan</td><td>7</td><td>2023-07-31</td></tr><tr><td>仙台市議会議員選挙</td><td>Japan</td><td>8</td><td>2023-07-31</td></tr><tr><td>RIZIN</td><td>Japan</td><td>9</td><td>2023-07-31</td></tr><tr><td>アイビスサマーダッシュ</td><td>Japan</td><td>10</td><td>2023-07-31</td></tr><tr><td>KUCCPS) placement</td><td>Kenya</td><td>1</td><td>2023-07-31</td></tr><tr><td>Nouhaila Benzina</td><td>Kenya</td><td>2</td><td>2023-07-31</td></tr><tr><td>Standard Chartered bank</td><td>Kenya</td><td>3</td><td>2023-07-31</td></tr><tr><td>Canada vs Australia</td><td>Kenya</td><td>4</td><td>2023-07-31</td></tr><tr><td>Man United vs Dortmund</td><td>Kenya</td><td>5</td><td>2023-07-31</td></tr><tr><td>Man City vs ATLÉTICO Madrid</td><td>Kenya</td><td>6</td><td>2023-07-31</td></tr><tr><td>Liverpool vs Leicester City</td><td>Kenya</td><td>7</td><td>2023-07-31</td></tr><tr><td>Chelsea</td><td>Kenya</td><td>8</td><td>2023-07-31</td></tr><tr><td>Aston Villa vs Brentford</td><td>Kenya</td><td>9</td><td>2023-07-31</td></tr><tr><td>Amrabat</td><td>Kenya</td><td>10</td><td>2023-07-31</td></tr><tr><td>Man United vs Dortmund</td><td>Malaysia</td><td>1</td><td>2023-07-31</td></tr><tr><td>Chelsea vs Fulham</td><td>Malaysia</td><td>2</td><td>2023-07-31</td></tr><tr><td>Chelsea</td><td>Malaysia</td><td>3</td><td>2023-07-31</td></tr><tr><td>Mini Cooper Clubman</td><td>Malaysia</td><td>4</td><td>2023-07-31</td></tr><tr><td>David Raya</td><td>Malaysia</td><td>5</td><td>2023-07-31</td></tr><tr><td>Fermín López Barcelona</td><td>Malaysia</td><td>6</td><td>2023-07-31</td></tr><tr><td>Manchester United Mason Greenwood</td><td>Malaysia</td><td>7</td><td>2023-07-31</td></tr><tr><td>LPL</td><td>Malaysia</td><td>8</td><td>2023-07-31</td></tr><tr><td>PJD Link</td><td>Malaysia</td><td>9</td><td>2023-07-31</td></tr><tr><td>Liverpool vs Leicester City</td><td>Malaysia</td><td>10</td><td>2023-07-31</td></tr><tr><td>Manchester United</td><td>Mexico</td><td>1</td><td>2023-07-31</td></tr><tr><td>Albacete</td><td>Mexico</td><td>2</td><td>2023-07-31</td></tr><tr><td>Dembele</td><td>Mexico</td><td>3</td><td>2023-07-31</td></tr><tr><td>Monterrey  Seattle Sounders</td><td>Mexico</td><td>4</td><td>2023-07-31</td></tr><tr><td>Tigres  sj Earthquakes</td><td>Mexico</td><td>5</td><td>2023-07-31</td></tr><tr><td>Feyenoord  Benfica</td><td>Mexico</td><td>6</td><td>2023-07-31</td></tr><tr><td>Atlas  Toronto</td><td>Mexico</td><td>7</td><td>2023-07-31</td></tr><tr><td>La Casa de los Famosos México</td><td>Mexico</td><td>8</td><td>2023-07-31</td></tr><tr><td>Tijuana vs Querétaro</td><td>Mexico</td><td>9</td><td>2023-07-31</td></tr><tr><td>New York RB  Atl San Luis</td><td>Mexico</td><td>10</td><td>2023-07-31</td></tr><tr><td>Hakim Ziyech</td><td>Netherlands</td><td>1</td><td>2023-07-31</td></tr><tr><td>Niger</td><td>Netherlands</td><td>2</td><td>2023-07-31</td></tr><tr><td>Feyenoord</td><td>Netherlands</td><td>3</td><td>2023-07-31</td></tr><tr><td>PSV</td><td>Netherlands</td><td>4</td><td>2023-07-31</td></tr><tr><td>Hoyte van Hoytema</td><td>Netherlands</td><td>5</td><td>2023-07-31</td></tr><tr><td>Andre Rieu</td><td>Netherlands</td><td>6</td><td>2023-07-31</td></tr><tr><td>Brand Alblasserdam</td><td>Netherlands</td><td>7</td><td>2023-07-31</td></tr><tr><td>UFC</td><td>Netherlands</td><td>8</td><td>2023-07-31</td></tr><tr><td>SD Worx</td><td>Netherlands</td><td>9</td><td>2023-07-31</td></tr><tr><td>Ueda</td><td>Netherlands</td><td>10</td><td>2023-07-31</td></tr><tr><td>Chelsea</td><td>New Zealand</td><td>1</td><td>2023-07-31</td></tr><tr><td>Full moon August 2023</td><td>New Zealand</td><td>2</td><td>2023-07-31</td></tr><tr><td>Manchester United</td><td>New Zealand</td><td>3</td><td>2023-07-31</td></tr><tr><td>Man United vs Dortmund</td><td>New Zealand</td><td>4</td><td>2023-07-31</td></tr><tr><td>Spain vs Japan</td><td>New Zealand</td><td>5</td><td>2023-07-31</td></tr><tr><td>Wally Lewis</td><td>New Zealand</td><td>6</td><td>2023-07-31</td></tr><tr><td>Tamati Coffey</td><td>New Zealand</td><td>7</td><td>2023-07-31</td></tr><tr><td>Grace Nweke</td><td>New Zealand</td><td>8</td><td>2023-07-31</td></tr><tr><td>Labour Party list 2023</td><td>New Zealand</td><td>9</td><td>2023-07-31</td></tr><tr><td>Chelsea vs Fulham</td><td>New Zealand</td><td>10</td><td>2023-07-31</td></tr><tr><td>Chelsea</td><td>Nigeria</td><td>1</td><td>2023-07-31</td></tr><tr><td>Canada vs Australia</td><td>Nigeria</td><td>2</td><td>2023-07-31</td></tr><tr><td>Japan vs Spain</td><td>Nigeria</td><td>3</td><td>2023-07-31</td></tr><tr><td>Adamawa</td><td>Nigeria</td><td>4</td><td>2023-07-31</td></tr><tr><td>Man United vs Dortmund</td><td>Nigeria</td><td>5</td><td>2023-07-31</td></tr><tr><td>Man City vs atlético Madrid</td><td>Nigeria</td><td>6</td><td>2023-07-31</td></tr><tr><td>Liverpool vs Leicester City</td><td>Nigeria</td><td>7</td><td>2023-07-31</td></tr><tr><td>Aston Villa vs Brentford</td><td>Nigeria</td><td>8</td><td>2023-07-31</td></tr><tr><td>Disasi</td><td>Nigeria</td><td>9</td><td>2023-07-31</td></tr><tr><td>Women's World Cup schedule</td><td>Nigeria</td><td>10</td><td>2023-07-31</td></tr><tr><td>Anette Trettebergstuen</td><td>Norway</td><td>1</td><td>2023-07-31</td></tr><tr><td>Niger</td><td>Norway</td><td>2</td><td>2023-07-31</td></tr><tr><td>Chelsea</td><td>Norway</td><td>3</td><td>2023-07-31</td></tr><tr><td>Lepra</td><td>Norway</td><td>4</td><td>2023-07-31</td></tr><tr><td>Liverpool</td><td>Norway</td><td>5</td><td>2023-07-31</td></tr><tr><td>Brann Viking</td><td>Norway</td><td>6</td><td>2023-07-31</td></tr><tr><td>fotball-VM kvinner</td><td>Norway</td><td>7</td><td>2023-07-31</td></tr><tr><td>Bodø/Glimt Tromsø</td><td>Norway</td><td>8</td><td>2023-07-31</td></tr><tr><td>Barcelona</td><td>Norway</td><td>9</td><td>2023-07-31</td></tr><tr><td>Caroline Graham Hansen</td><td>Norway</td><td>10</td><td>2023-07-31</td></tr><tr><td>Jeremiah Gray</td><td>Philippines</td><td>1</td><td>2023-07-31</td></tr><tr><td>August</td><td>Philippines</td><td>2</td><td>2023-07-31</td></tr><tr><td>F1 Belgian Grand Prix</td><td>Philippines</td><td>3</td><td>2023-07-31</td></tr><tr><td>August Calendar 2023</td><td>Philippines</td><td>4</td><td>2023-07-31</td></tr><tr><td>Falcon update</td><td>Philippines</td><td>5</td><td>2023-07-31</td></tr><tr><td>Malala Yousafzai</td><td>Philippines</td><td>6</td><td>2023-07-31</td></tr><tr><td>Dustin Poirier vs Justin Gaethje UFC 291</td><td>Philippines</td><td>7</td><td>2023-07-31</td></tr><tr><td>Man United vs Dortmund</td><td>Philippines</td><td>8</td><td>2023-07-31</td></tr><tr><td>Japan vs Spain</td><td>Philippines</td><td>9</td><td>2023-07-31</td></tr><tr><td>Full moon August 2023</td><td>Philippines</td><td>10</td><td>2023-07-31</td></tr><tr><td>Man utd – Borussia</td><td>Poland</td><td>1</td><td>2023-07-31</td></tr><tr><td>Dembele</td><td>Poland</td><td>2</td><td>2023-07-31</td></tr><tr><td>Pelnia ksiezyca</td><td>Poland</td><td>3</td><td>2023-07-31</td></tr><tr><td>Inflacja lipiec 2023</td><td>Poland</td><td>4</td><td>2023-07-31</td></tr><tr><td>Andrzej Zieniewicz</td><td>Poland</td><td>5</td><td>2023-07-31</td></tr><tr><td>Palermo</td><td>Poland</td><td>6</td><td>2023-07-31</td></tr><tr><td>US Open 2023</td><td>Poland</td><td>7</td><td>2023-07-31</td></tr><tr><td>SPEED</td><td>Poland</td><td>8</td><td>2023-07-31</td></tr><tr><td>Edyta Górniak</td><td>Poland</td><td>9</td><td>2023-07-31</td></tr><tr><td>Lech Poznań – Radomiak</td><td>Poland</td><td>10</td><td>2023-07-31</td></tr><tr><td>Benfica Feyenoord</td><td>Portugal</td><td>1</td><td>2023-07-31</td></tr><tr><td>Manchester United  Borussia</td><td>Portugal</td><td>2</td><td>2023-07-31</td></tr><tr><td>Manuais escolares</td><td>Portugal</td><td>3</td><td>2023-07-31</td></tr><tr><td>Manchester United</td><td>Portugal</td><td>4</td><td>2023-07-31</td></tr><tr><td>Gremio</td><td>Portugal</td><td>5</td><td>2023-07-31</td></tr><tr><td>Chelsea</td><td>Portugal</td><td>6</td><td>2023-07-31</td></tr><tr><td>Manuais Escolares Gratuitos</td><td>Portugal</td><td>7</td><td>2023-07-31</td></tr><tr><td>Jornadas mundiais da Juventude 2023</td><td>Portugal</td><td>8</td><td>2023-07-31</td></tr><tr><td>Chermiti</td><td>Portugal</td><td>9</td><td>2023-07-31</td></tr><tr><td>Goiás  Grêmio</td><td>Portugal</td><td>10</td><td>2023-07-31</td></tr><tr><td>Loto 30 iulie 2023</td><td>Romania</td><td>1</td><td>2023-07-31</td></tr><tr><td>Meghan Markle</td><td>Romania</td><td>2</td><td>2023-07-31</td></tr><tr><td>China</td><td>Romania</td><td>3</td><td>2023-07-31</td></tr><tr><td>Antarctica</td><td>Romania</td><td>4</td><td>2023-07-31</td></tr><tr><td>Man United vs Dortmund</td><td>Romania</td><td>5</td><td>2023-07-31</td></tr><tr><td>Formula 1 Marele Premiu al Belgiei</td><td>Romania</td><td>6</td><td>2023-07-31</td></tr><tr><td>Terence Crawford</td><td>Romania</td><td>7</td><td>2023-07-31</td></tr><tr><td>Barcelona  Real Madrid</td><td>Romania</td><td>8</td><td>2023-07-31</td></tr><tr><td>Farul Constanța - Poli Iași</td><td>Romania</td><td>9</td><td>2023-07-31</td></tr><tr><td>CFR Cluj</td><td>Romania</td><td>10</td><td>2023-07-31</td></tr><tr><td>Кривой Рог</td><td>Russia</td><td>1</td><td>2023-07-31</td></tr><tr><td>Baldur's Gate 3</td><td>Russia</td><td>2</td><td>2023-07-31</td></tr><tr><td>Team Spirit</td><td>Russia</td><td>3</td><td>2023-07-31</td></tr><tr><td>Ирина Мирошниченко</td><td>Russia</td><td>4</td><td>2023-07-31</td></tr><tr><td>Батуми</td><td>Russia</td><td>5</td><td>2023-07-31</td></tr><tr><td>31 июля праздник</td><td>Russia</td><td>6</td><td>2023-07-31</td></tr><tr><td>Аркадий Бабченко</td><td>Russia</td><td>7</td><td>2023-07-31</td></tr><tr><td>Манчестер Юнайтед</td><td>Russia</td><td>8</td><td>2023-07-31</td></tr><tr><td>Москва-Сити взрыв</td><td>Russia</td><td>9</td><td>2023-07-31</td></tr><tr><td>С Днем ВМФ</td><td>Russia</td><td>10</td><td>2023-07-31</td></tr><tr><td>البطولة العربية</td><td>Saudi_Arabia</td><td>1</td><td>2023-07-31</td></tr><tr><td>مان يونايتد ضد دورتموند</td><td>Saudi_Arabia</td><td>2</td><td>2023-07-31</td></tr><tr><td>اليمن</td><td>Saudi_Arabia</td><td>3</td><td>2023-07-31</td></tr><tr><td>باربي فيلم</td><td>Saudi_Arabia</td><td>4</td><td>2023-07-31</td></tr><tr><td>العراق</td><td>Saudi_Arabia</td><td>5</td><td>2023-07-31</td></tr><tr><td>الاتحاد</td><td>Saudi_Arabia</td><td>6</td><td>2023-07-31</td></tr><tr><td>ليفربول</td><td>Saudi_Arabia</td><td>7</td><td>2023-07-31</td></tr><tr><td>جدير</td><td>Saudi_Arabia</td><td>8</td><td>2023-07-31</td></tr><tr><td>Real Madrid</td><td>Saudi_Arabia</td><td>9</td><td>2023-07-31</td></tr><tr><td>يوم الصداقة العالمي</td><td>Saudi_Arabia</td><td>10</td><td>2023-07-31</td></tr><tr><td>Man United vs Dortmund</td><td>Singapore</td><td>1</td><td>2023-07-31</td></tr><tr><td>Coco Lee funeral</td><td>Singapore</td><td>2</td><td>2023-07-31</td></tr><tr><td>Christopher de Souza</td><td>Singapore</td><td>3</td><td>2023-07-31</td></tr><tr><td>Chelsea</td><td>Singapore</td><td>4</td><td>2023-07-31</td></tr><tr><td>Belgian gp</td><td>Singapore</td><td>5</td><td>2023-07-31</td></tr><tr><td>David Raya</td><td>Singapore</td><td>6</td><td>2023-07-31</td></tr><tr><td>Canada vs Australia</td><td>Singapore</td><td>7</td><td>2023-07-31</td></tr><tr><td>ZoukOut 2023</td><td>Singapore</td><td>8</td><td>2023-07-31</td></tr><tr><td>Hong Kong</td><td>Singapore</td><td>9</td><td>2023-07-31</td></tr><tr><td>Maggots</td><td>Singapore</td><td>10</td><td>2023-07-31</td></tr><tr><td>Man United vs Dortmund</td><td>South_Africa</td><td>1</td><td>2023-07-31</td></tr><tr><td>Chelsea</td><td>South_Africa</td><td>2</td><td>2023-07-31</td></tr><tr><td>Republic of Ireland vs Nigeria</td><td>South_Africa</td><td>3</td><td>2023-07-31</td></tr><tr><td>Japan vs Spain</td><td>South_Africa</td><td>4</td><td>2023-07-31</td></tr><tr><td>Riverlea</td><td>South_Africa</td><td>5</td><td>2023-07-31</td></tr><tr><td>Canada vs Australia</td><td>South_Africa</td><td>6</td><td>2023-07-31</td></tr><tr><td>Iga świątek</td><td>South_Africa</td><td>7</td><td>2023-07-31</td></tr><tr><td>Liverpool vs Leicester City</td><td>South_Africa</td><td>8</td><td>2023-07-31</td></tr><tr><td>Man City vs atlético Madrid</td><td>South_Africa</td><td>9</td><td>2023-07-31</td></tr><tr><td>Chelsea vs Fulham</td><td>South_Africa</td><td>10</td><td>2023-07-31</td></tr><tr><td>소방서 옆 경찰서</td><td>South_Korea</td><td>1</td><td>2023-07-31</td></tr><tr><td>우크라이나</td><td>South_Korea</td><td>2</td><td>2023-07-31</td></tr><tr><td>맨시티</td><td>South_Korea</td><td>3</td><td>2023-07-31</td></tr><tr><td>로또1078</td><td>South_Korea</td><td>4</td><td>2023-07-31</td></tr><tr><td>대도서관 윰댕 이혼</td><td>South_Korea</td><td>5</td><td>2023-07-31</td></tr><tr><td>여자월드컵</td><td>South_Korea</td><td>6</td><td>2023-07-31</td></tr><tr><td>초전도체</td><td>South_Korea</td><td>7</td><td>2023-07-31</td></tr><tr><td>지진</td><td>South_Korea</td><td>8</td><td>2023-07-31</td></tr><tr><td>최원태</td><td>South_Korea</td><td>9</td><td>2023-07-31</td></tr><tr><td>롯데월드 화재</td><td>South_Korea</td><td>10</td><td>2023-07-31</td></tr><tr><td>Alexander Wennberg</td><td>Sweden</td><td>1</td><td>2023-07-31</td></tr><tr><td>Ioannis Pittas</td><td>Sweden</td><td>2</td><td>2023-07-31</td></tr><tr><td>Man utd</td><td>Sweden</td><td>3</td><td>2023-07-31</td></tr><tr><td>Hammarby</td><td>Sweden</td><td>4</td><td>2023-07-31</td></tr><tr><td>Real Madrid</td><td>Sweden</td><td>5</td><td>2023-07-31</td></tr><tr><td>David Thurfjell</td><td>Sweden</td><td>6</td><td>2023-07-31</td></tr><tr><td>IFK Göteborg mot Kalmar FF</td><td>Sweden</td><td>7</td><td>2023-07-31</td></tr><tr><td>Pride Stockholm</td><td>Sweden</td><td>8</td><td>2023-07-31</td></tr><tr><td>Liverpool</td><td>Sweden</td><td>9</td><td>2023-07-31</td></tr><tr><td>Barcelona</td><td>Sweden</td><td>10</td><td>2023-07-31</td></tr><tr><td>Fete nationale suisse</td><td>Switzerland</td><td>1</td><td>2023-07-31</td></tr><tr><td>Wladimir Putin</td><td>Switzerland</td><td>2</td><td>2023-07-31</td></tr><tr><td>Feuerwerk</td><td>Switzerland</td><td>3</td><td>2023-07-31</td></tr><tr><td>Manchester United – Dortmund</td><td>Switzerland</td><td>4</td><td>2023-07-31</td></tr><tr><td>Dembele</td><td>Switzerland</td><td>5</td><td>2023-07-31</td></tr><tr><td>Ecowas</td><td>Switzerland</td><td>6</td><td>2023-07-31</td></tr><tr><td>Brunch</td><td>Switzerland</td><td>7</td><td>2023-07-31</td></tr><tr><td>Pourris gâtés</td><td>Switzerland</td><td>8</td><td>2023-07-31</td></tr><tr><td>Chelsea – Fulham</td><td>Switzerland</td><td>9</td><td>2023-07-31</td></tr><tr><td>Fußball-weltmeisterschaft der Frauen</td><td>Switzerland</td><td>10</td><td>2023-07-31</td></tr><tr><td>李玟</td><td>Taiwan</td><td>1</td><td>2023-07-31</td></tr><tr><td>民眾黨</td><td>Taiwan</td><td>2</td><td>2023-07-31</td></tr><tr><td>台股</td><td>Taiwan</td><td>3</td><td>2023-07-31</td></tr><tr><td>地震</td><td>Taiwan</td><td>4</td><td>2023-07-31</td></tr><tr><td>光寶科</td><td>Taiwan</td><td>5</td><td>2023-07-31</td></tr><tr><td>國稅局</td><td>Taiwan</td><td>6</td><td>2023-07-31</td></tr><tr><td>楊德昌</td><td>Taiwan</td><td>7</td><td>2023-07-31</td></tr><tr><td>卡努颱風動態</td><td>Taiwan</td><td>8</td><td>2023-07-31</td></tr><tr><td>羅嘉翎</td><td>Taiwan</td><td>9</td><td>2023-07-31</td></tr><tr><td>南橫</td><td>Taiwan</td><td>10</td><td>2023-07-31</td></tr><tr><td>แมนยู พบ ดอร์ทมุนด์</td><td>Thailand</td><td>1</td><td>2023-07-31</td></tr><tr><td>เชลซี</td><td>Thailand</td><td>2</td><td>2023-07-31</td></tr><tr><td>วันหยุดธนาคาร</td><td>Thailand</td><td>3</td><td>2023-07-31</td></tr><tr><td>ตรวจหวย</td><td>Thailand</td><td>4</td><td>2023-07-31</td></tr><tr><td>วันอาสาฬหบูชา 2566</td><td>Thailand</td><td>5</td><td>2023-07-31</td></tr><tr><td>AIS</td><td>Thailand</td><td>6</td><td>2023-07-31</td></tr><tr><td>เลขเด็ด 31/7/66</td><td>Thailand</td><td>7</td><td>2023-07-31</td></tr><tr><td>ลิเวอร์พูล</td><td>Thailand</td><td>8</td><td>2023-07-31</td></tr><tr><td>นัทมีเรีย</td><td>Thailand</td><td>9</td><td>2023-07-31</td></tr><tr><td>เบนซ์-ปุณยาพร</td><td>Thailand</td><td>10</td><td>2023-07-31</td></tr><tr><td>LGS 2. tercih sonuçları 2023</td><td>Turkey</td><td>1</td><td>2023-07-31</td></tr><tr><td>Deprem son dakika</td><td>Turkey</td><td>2</td><td>2023-07-31</td></tr><tr><td>Miha Zajc</td><td>Turkey</td><td>3</td><td>2023-07-31</td></tr><tr><td>SGK Yapılandırma ödeme</td><td>Turkey</td><td>4</td><td>2023-07-31</td></tr><tr><td>İzmir metro grev</td><td>Turkey</td><td>5</td><td>2023-07-31</td></tr><tr><td>Cluster headache</td><td>Turkey</td><td>6</td><td>2023-07-31</td></tr><tr><td>MTV</td><td>Turkey</td><td>7</td><td>2023-07-31</td></tr><tr><td>Düzce deprem</td><td>Turkey</td><td>8</td><td>2023-07-31</td></tr><tr><td>Krunic</td><td>Turkey</td><td>9</td><td>2023-07-31</td></tr><tr><td>Merve Girişmek</td><td>Turkey</td><td>10</td><td>2023-07-31</td></tr><tr><td>Кривой Рог</td><td>Ukraine</td><td>1</td><td>2023-07-31</td></tr><tr><td>Євген Світличний</td><td>Ukraine</td><td>2</td><td>2023-07-31</td></tr><tr><td>Кривий Ріг</td><td>Ukraine</td><td>3</td><td>2023-07-31</td></tr><tr><td>Новости Харькова</td><td>Ukraine</td><td>4</td><td>2023-07-31</td></tr><tr><td>Манчестер Юнайтед – Боруссия</td><td>Ukraine</td><td>5</td><td>2023-07-31</td></tr><tr><td>Евгений Светличный</td><td>Ukraine</td><td>6</td><td>2023-07-31</td></tr><tr><td>Ирина Винер</td><td>Ukraine</td><td>7</td><td>2023-07-31</td></tr><tr><td>Джокер</td><td>Ukraine</td><td>8</td><td>2023-07-31</td></tr><tr><td>Харьков новости</td><td>Ukraine</td><td>9</td><td>2023-07-31</td></tr><tr><td>Родина-мать</td><td>Ukraine</td><td>10</td><td>2023-07-31</td></tr><tr><td>Man United vs Dortmund</td><td>United_Kingdom</td><td>1</td><td>2023-07-31</td></tr><tr><td>Chelsea</td><td>United_Kingdom</td><td>2</td><td>2023-07-31</td></tr><tr><td>Dart Charge</td><td>United_Kingdom</td><td>3</td><td>2023-07-31</td></tr><tr><td>Alex Belfield</td><td>United_Kingdom</td><td>4</td><td>2023-07-31</td></tr><tr><td>Madonna</td><td>United_Kingdom</td><td>5</td><td>2023-07-31</td></tr><tr><td>Ronan Keating</td><td>United_Kingdom</td><td>6</td><td>2023-07-31</td></tr><tr><td>Tom Daley</td><td>United_Kingdom</td><td>7</td><td>2023-07-31</td></tr><tr><td>Oshkosh plane crashes</td><td>United_Kingdom</td><td>8</td><td>2023-07-31</td></tr><tr><td>Women's World Cup</td><td>United_Kingdom</td><td>9</td><td>2023-07-31</td></tr><tr><td>UFC</td><td>United_Kingdom</td><td>10</td><td>2023-07-31</td></tr><tr><td>Manchester United</td><td>United_States</td><td>1</td><td>2023-07-31</td></tr><tr><td>Why is Twitter X</td><td>United_States</td><td>2</td><td>2023-07-31</td></tr><tr><td>Brittney Griner</td><td>United_States</td><td>3</td><td>2023-07-31</td></tr><tr><td>Dark Winds</td><td>United_States</td><td>4</td><td>2023-07-31</td></tr><tr><td>Full moon</td><td>United_States</td><td>5</td><td>2023-07-31</td></tr><tr><td>Cardi B microphone</td><td>United_States</td><td>6</td><td>2023-07-31</td></tr><tr><td>Kwon Alexander</td><td>United_States</td><td>7</td><td>2023-07-31</td></tr><tr><td>Oshkosh plane crashes</td><td>United_States</td><td>8</td><td>2023-07-31</td></tr><tr><td>The hunt</td><td>United_States</td><td>9</td><td>2023-07-31</td></tr><tr><td>Colombia vs Germany</td><td>United_States</td><td>10</td><td>2023-07-31</td></tr><tr><td>Nhật Bản đấu với Tây Ban Nha</td><td>Vietnam</td><td>1</td><td>2023-07-31</td></tr><tr><td>Dự báo thời tiết Hà Nội</td><td>Vietnam</td><td>2</td><td>2023-07-31</td></tr><tr><td>Samsung S23 Ultra</td><td>Vietnam</td><td>3</td><td>2023-07-31</td></tr><tr><td>Phương Lê</td><td>Vietnam</td><td>4</td><td>2023-07-31</td></tr><tr><td>Aston villa</td><td>Vietnam</td><td>5</td><td>2023-07-31</td></tr><tr><td>Canada đấu với Úc</td><td>Vietnam</td><td>6</td><td>2023-07-31</td></tr><tr><td>Philippines</td><td>Vietnam</td><td>7</td><td>2023-07-31</td></tr><tr><td>Giá xăng dầu</td><td>Vietnam</td><td>8</td><td>2023-07-31</td></tr><tr><td>Viet Nam vs ha Lan</td><td>Vietnam</td><td>9</td><td>2023-07-31</td></tr><tr><td>VIC</td><td>Vietnam</td><td>10</td><td>2023-07-31</td></tr></tbody></table></div>"
      ]
     },
     "metadata": {
      "application/vnd.databricks.v1+output": {
       "addedWidgets": {},
       "aggData": [],
       "aggError": "",
       "aggOverflow": false,
       "aggSchema": [],
       "aggSeriesLimitReached": false,
       "aggType": "",
       "arguments": {},
       "columnCustomDisplayInfos": {},
       "data": [
        [
         "Manchester United",
         "Argentina",
         1,
         "2023-07-31"
        ],
        [
         "Caña con ruda",
         "Argentina",
         2,
         "2023-07-31"
        ],
        [
         "Paro docente",
         "Argentina",
         3,
         "2023-07-31"
        ],
        [
         "Dembele",
         "Argentina",
         4,
         "2023-07-31"
        ],
        [
         "Elecciones Villa Allende",
         "Argentina",
         5,
         "2023-07-31"
        ],
        [
         "Racing de córdoba vs Independiente",
         "Argentina",
         6,
         "2023-07-31"
        ],
        [
         "Huracan",
         "Argentina",
         7,
         "2023-07-31"
        ],
        [
         "Manchester City vs Atlético Madrid",
         "Argentina",
         8,
         "2023-07-31"
        ],
        [
         "Velez",
         "Argentina",
         9,
         "2023-07-31"
        ],
        [
         "Colon",
         "Argentina",
         10,
         "2023-07-31"
        ],
        [
         "Nigeria vs Ireland",
         "Australia",
         1,
         "2023-07-31"
        ],
        [
         "World Cup",
         "Australia",
         2,
         "2023-07-31"
        ],
        [
         "Buddy Franklin",
         "Australia",
         3,
         "2023-07-31"
        ],
        [
         "Man United vs Dortmund",
         "Australia",
         4,
         "2023-07-31"
        ],
        [
         "Women's World Cup results",
         "Australia",
         5,
         "2023-07-31"
        ],
        [
         "Sebastian Guilhaus",
         "Australia",
         6,
         "2023-07-31"
        ],
        [
         "Man utd",
         "Australia",
         7,
         "2023-07-31"
        ],
        [
         "Tony Ferguson",
         "Australia",
         8,
         "2023-07-31"
        ],
        [
         "Soccer",
         "Australia",
         9,
         "2023-07-31"
        ],
        [
         "Japan vs Spain",
         "Australia",
         10,
         "2023-07-31"
        ],
        [
         "Gerhard Struber",
         "Austria",
         1,
         "2023-07-31"
        ],
        [
         "Gmunden",
         "Austria",
         2,
         "2023-07-31"
        ],
        [
         "Unfall",
         "Austria",
         3,
         "2023-07-31"
        ],
        [
         "Demi Vollering",
         "Austria",
         4,
         "2023-07-31"
        ],
        [
         "Lionel Messi",
         "Austria",
         5,
         "2023-07-31"
        ],
        [
         "Borussia Mönchengladbach",
         "Austria",
         6,
         "2023-07-31"
        ],
        [
         "Bruce Willis",
         "Austria",
         7,
         "2023-07-31"
        ],
        [
         "Jojo Rabbit",
         "Austria",
         8,
         "2023-07-31"
        ],
        [
         "Dembele",
         "Austria",
         9,
         "2023-07-31"
        ],
        [
         "Hunter Biden",
         "Austria",
         10,
         "2023-07-31"
        ],
        [
         "Niger",
         "Belgium",
         1,
         "2023-07-31"
        ],
        [
         "Manchester United – Dortmund",
         "Belgium",
         2,
         "2023-07-31"
        ],
        [
         "Helmut Lotti",
         "Belgium",
         3,
         "2023-07-31"
        ],
        [
         "Nouhaila Benzina",
         "Belgium",
         4,
         "2023-07-31"
        ],
        [
         "Iliman Ndiaye",
         "Belgium",
         5,
         "2023-07-31"
        ],
        [
         "Henri PFR",
         "Belgium",
         6,
         "2023-07-31"
        ],
        [
         "Als ziekte",
         "Belgium",
         7,
         "2023-07-31"
        ],
        [
         "Club Brugge",
         "Belgium",
         8,
         "2023-07-31"
        ],
        [
         "Antwerp  Cercle",
         "Belgium",
         9,
         "2023-07-31"
        ],
        [
         "Als",
         "Belgium",
         10,
         "2023-07-31"
        ],
        [
         "Irlanda x Nigéria",
         "Brazil",
         1,
         "2023-07-31"
        ],
        [
         "Palmeiras",
         "Brazil",
         2,
         "2023-07-31"
        ],
        [
         "Gremio",
         "Brazil",
         3,
         "2023-07-31"
        ],
        [
         "Sao Paulo",
         "Brazil",
         4,
         "2023-07-31"
        ],
        [
         "Vitoria",
         "Brazil",
         5,
         "2023-07-31"
        ],
        [
         "Manchester United x Borussia",
         "Brazil",
         6,
         "2023-07-31"
        ],
        [
         "Fortaleza",
         "Brazil",
         7,
         "2023-07-31"
        ],
        [
         "Paysandu",
         "Brazil",
         8,
         "2023-07-31"
        ],
        [
         "Vila Nova",
         "Brazil",
         9,
         "2023-07-31"
        ],
        [
         "Criciuma",
         "Brazil",
         10,
         "2023-07-31"
        ],
        [
         "Chelsea",
         "Canada",
         1,
         "2023-07-31"
        ],
        [
         "Whitecaps",
         "Canada",
         2,
         "2023-07-31"
        ],
        [
         "Dark Winds",
         "Canada",
         3,
         "2023-07-31"
        ],
        [
         "Women's World Cup",
         "Canada",
         4,
         "2023-07-31"
        ],
        [
         "Osoyoos fire",
         "Canada",
         5,
         "2023-07-31"
        ],
        [
         "Canada vs Australia",
         "Canada",
         6,
         "2023-07-31"
        ],
        [
         "Man United vs Dortmund",
         "Canada",
         7,
         "2023-07-31"
        ],
        [
         "Amber Alert B.C",
         "Canada",
         8,
         "2023-07-31"
        ],
        [
         "Plane crash Alberta",
         "Canada",
         9,
         "2023-07-31"
        ],
        [
         "Max Verstappen",
         "Canada",
         10,
         "2023-07-31"
        ],
        [
         "Dembele",
         "Chile",
         1,
         "2023-07-31"
        ],
        [
         "U de Chile",
         "Chile",
         2,
         "2023-07-31"
        ],
        [
         "Magallanes vs U de Chile",
         "Chile",
         3,
         "2023-07-31"
        ],
        [
         "Manchester United  Dortmund",
         "Chile",
         4,
         "2023-07-31"
        ],
        [
         "Curicó Unido - U. La Calera",
         "Chile",
         5,
         "2023-07-31"
        ],
        [
         "Coquimbo Unido  Everton",
         "Chile",
         6,
         "2023-07-31"
        ],
        [
         "Manchester City vs Atlético Madrid",
         "Chile",
         7,
         "2023-07-31"
        ],
        [
         "Gonzalo Lama",
         "Chile",
         8,
         "2023-07-31"
        ],
        [
         "Vesta Lugg",
         "Chile",
         9,
         "2023-07-31"
        ],
        [
         "Wanderers",
         "Chile",
         10,
         "2023-07-31"
        ],
        [
         "Dembele",
         "Colombia",
         1,
         "2023-07-31"
        ],
        [
         "Pico y placa 31 de julio 2023",
         "Colombia",
         2,
         "2023-07-31"
        ],
        [
         "América  Pasto",
         "Colombia",
         3,
         "2023-07-31"
        ],
        [
         "Once Caldas - Deportivo Cali",
         "Colombia",
         4,
         "2023-07-31"
        ],
        [
         "Liverpool  Leicester City",
         "Colombia",
         5,
         "2023-07-31"
        ],
        [
         "Manchester United  Dortmund",
         "Colombia",
         6,
         "2023-07-31"
        ],
        [
         "Manchester City vs Atlético Madrid",
         "Colombia",
         7,
         "2023-07-31"
        ],
        [
         "Loteria de boyaca 29 de julio 2023",
         "Colombia",
         8,
         "2023-07-31"
        ],
        [
         "Atlético Madrid  Manchester City",
         "Colombia",
         9,
         "2023-07-31"
        ],
        [
         "Chelsea  Fulham",
         "Colombia",
         10,
         "2023-07-31"
        ],
        [
         "Man utd  Dortmund",
         "Denmark",
         1,
         "2023-07-31"
        ],
        [
         "Chelsea",
         "Denmark",
         2,
         "2023-07-31"
        ],
        [
         "Boris Becker",
         "Denmark",
         3,
         "2023-07-31"
        ],
        [
         "Klarna",
         "Denmark",
         4,
         "2023-07-31"
        ],
        [
         "Women's World Cup",
         "Denmark",
         5,
         "2023-07-31"
        ],
        [
         "Liverpool  Leicester",
         "Denmark",
         6,
         "2023-07-31"
        ],
        [
         "Tom Cruise",
         "Denmark",
         7,
         "2023-07-31"
        ],
        [
         "Man City Atlético Madrid",
         "Denmark",
         8,
         "2023-07-31"
        ],
        [
         "Cluster headache",
         "Denmark",
         9,
         "2023-07-31"
        ],
        [
         "Canada",
         "Denmark",
         10,
         "2023-07-31"
        ],
        [
         "مان يونايتد ضد دورتموند",
         "Egypt",
         1,
         "2023-07-31"
        ],
        [
         "مباراة الزمالك اليوم",
         "Egypt",
         2,
         "2023-07-31"
        ],
        [
         "جدول قطع الكهرباء في مصر",
         "Egypt",
         3,
         "2023-07-31"
        ],
        [
         "السودان",
         "Egypt",
         4,
         "2023-07-31"
        ],
        [
         "تظلمات الثانوية العامة 2023",
         "Egypt",
         5,
         "2023-07-31"
        ],
        [
         "QNB",
         "Egypt",
         6,
         "2023-07-31"
        ],
        [
         "الصين",
         "Egypt",
         7,
         "2023-07-31"
        ],
        [
         "كلية الذكاء الاصطناعي",
         "Egypt",
         8,
         "2023-07-31"
        ],
        [
         "ليونيل ميسي",
         "Egypt",
         9,
         "2023-07-31"
        ],
        [
         "مان يونايتد",
         "Egypt",
         10,
         "2023-07-31"
        ],
        [
         "Baldur's Gate 3",
         "Finland",
         1,
         "2023-07-31"
        ],
        [
         "Pam",
         "Finland",
         2,
         "2023-07-31"
        ],
        [
         "Chelsea – Fulham",
         "Finland",
         3,
         "2023-07-31"
        ],
        [
         "KuPS",
         "Finland",
         4,
         "2023-07-31"
        ],
        [
         "Sam Kerr",
         "Finland",
         5,
         "2023-07-31"
        ],
        [
         "Barcelona – Real Madrid",
         "Finland",
         6,
         "2023-07-31"
        ],
        [
         "Liverpool – Leicester City",
         "Finland",
         7,
         "2023-07-31"
        ],
        [
         "Cluster headache",
         "Finland",
         8,
         "2023-07-31"
        ],
        [
         "Ethan Slater",
         "Finland",
         9,
         "2023-07-31"
        ],
        [
         "Nigeria",
         "Finland",
         10,
         "2023-07-31"
        ],
        [
         "Var parc aquatique structure gonflable",
         "France",
         1,
         "2023-07-31"
        ],
        [
         "Manchester United – Dortmund",
         "France",
         2,
         "2023-07-31"
        ],
        [
         "Declaration bien immobilier",
         "France",
         3,
         "2023-07-31"
        ],
        [
         "Algérie",
         "France",
         4,
         "2023-07-31"
        ],
        [
         "Raphael Quenard",
         "France",
         5,
         "2023-07-31"
        ],
        [
         "Al-Ittihad",
         "France",
         6,
         "2023-07-31"
        ],
        [
         "Niger",
         "France",
         7,
         "2023-07-31"
        ],
        [
         "Dembele",
         "France",
         8,
         "2023-07-31"
        ],
        [
         "Real Madrid",
         "France",
         9,
         "2023-07-31"
        ],
        [
         "Iliman Ndiaye",
         "France",
         10,
         "2023-07-31"
        ],
        [
         "Wacken",
         "Germany",
         1,
         "2023-07-31"
        ],
        [
         "Fußball-WM",
         "Germany",
         2,
         "2023-07-31"
        ],
        [
         "Ricarda Lang",
         "Germany",
         3,
         "2023-07-31"
        ],
        [
         "WM",
         "Germany",
         4,
         "2023-07-31"
        ],
        [
         "Zverev",
         "Germany",
         5,
         "2023-07-31"
        ],
        [
         "FIFA frauen-wm™",
         "Germany",
         6,
         "2023-07-31"
        ],
        [
         "Frauen-Fußball-WM",
         "Germany",
         7,
         "2023-07-31"
        ],
        [
         "Jürgen von der Lippe",
         "Germany",
         8,
         "2023-07-31"
        ],
        [
         "Eintracht Braunschweig",
         "Germany",
         9,
         "2023-07-31"
        ],
        [
         "Negah Amiri",
         "Germany",
         10,
         "2023-07-31"
        ],
        [
         "Φωτια χιοσ",
         "Greece",
         1,
         "2023-07-31"
        ],
        [
         "Μπεσσυ αργυρακη",
         "Greece",
         2,
         "2023-07-31"
        ],
        [
         "Τουρισμοσ για ολουσ αιτηση",
         "Greece",
         3,
         "2023-07-31"
        ],
        [
         "Θασοσ φωτια",
         "Greece",
         4,
         "2023-07-31"
        ],
        [
         "Johnny Depp",
         "Greece",
         5,
         "2023-07-31"
        ],
        [
         "Τουρκια",
         "Greece",
         6,
         "2023-07-31"
        ],
        [
         "The vanished",
         "Greece",
         7,
         "2023-07-31"
        ],
        [
         "Aek",
         "Greece",
         8,
         "2023-07-31"
        ],
        [
         "Κωστασ μπιλιρησ",
         "Greece",
         9,
         "2023-07-31"
        ],
        [
         "UFC",
         "Greece",
         10,
         "2023-07-31"
        ],
        [
         "鯨魚",
         "Hong_Kong",
         1,
         "2023-07-31"
        ],
        [
         "楊貫一",
         "Hong_Kong",
         2,
         "2023-07-31"
        ],
        [
         "羅剎海市",
         "Hong_Kong",
         3,
         "2023-07-31"
        ],
        [
         "卡努",
         "Hong_Kong",
         4,
         "2023-07-31"
        ],
        [
         "羅布泊",
         "Hong_Kong",
         5,
         "2023-07-31"
        ],
        [
         "居屋申請",
         "Hong_Kong",
         6,
         "2023-07-31"
        ],
        [
         "馬來熊",
         "Hong_Kong",
         7,
         "2023-07-31"
        ],
        [
         "羅志祥",
         "Hong_Kong",
         8,
         "2023-07-31"
        ],
        [
         "Tesla 減價",
         "Hong_Kong",
         9,
         "2023-07-31"
        ],
        [
         "張家朗",
         "Hong_Kong",
         10,
         "2023-07-31"
        ],
        [
         "Állampapír",
         "Hungary",
         1,
         "2023-07-31"
        ],
        [
         "Honvéd",
         "Hungary",
         2,
         "2023-07-31"
        ],
        [
         "Liverpool–leicester",
         "Hungary",
         3,
         "2023-07-31"
        ],
        [
         "Árfigyelő",
         "Hungary",
         4,
         "2023-07-31"
        ],
        [
         "Titanic",
         "Hungary",
         5,
         "2023-07-31"
        ],
        [
         "Chelsea–fulham",
         "Hungary",
         6,
         "2023-07-31"
        ],
        [
         "Iggy Pop",
         "Hungary",
         7,
         "2023-07-31"
        ],
        [
         "Aquaman",
         "Hungary",
         8,
         "2023-07-31"
        ],
        [
         "Márton Anna",
         "Hungary",
         9,
         "2023-07-31"
        ],
        [
         "Barcelona",
         "Hungary",
         10,
         "2023-07-31"
        ],
        [
         "MLC",
         "India",
         1,
         "2023-07-31"
        ],
        [
         "Man United vs Dortmund",
         "India",
         2,
         "2023-07-31"
        ],
        [
         "Water",
         "India",
         3,
         "2023-07-31"
        ],
        [
         "National Girlfriend Day",
         "India",
         4,
         "2023-07-31"
        ],
        [
         "NTPC share price",
         "India",
         5,
         "2023-07-31"
        ],
        [
         "Max Verstappen",
         "India",
         6,
         "2023-07-31"
        ],
        [
         "Prime Minister Narendra Modi",
         "India",
         7,
         "2023-07-31"
        ],
        [
         "Jasprit Bumrah",
         "India",
         8,
         "2023-07-31"
        ],
        [
         "Vakkom Purushothaman",
         "India",
         9,
         "2023-07-31"
        ],
        [
         "Lloyd Steel share price",
         "India",
         10,
         "2023-07-31"
        ],
        [
         "Chelsea vs Fulham",
         "Indonesia",
         1,
         "2023-07-31"
        ],
        [
         "Mark Lee",
         "Indonesia",
         2,
         "2023-07-31"
        ],
        [
         "Prabowo Subianto",
         "Indonesia",
         3,
         "2023-07-31"
        ],
        [
         "Peta konsep",
         "Indonesia",
         4,
         "2023-07-31"
        ],
        [
         "Doa Nabi Yunus",
         "Indonesia",
         5,
         "2023-07-31"
        ],
        [
         "Pengertian, Sejarah",
         "Indonesia",
         6,
         "2023-07-31"
        ],
        [
         "PPG Prajabatan",
         "Indonesia",
         7,
         "2023-07-31"
        ],
        [
         "LE SSERAFIM",
         "Indonesia",
         8,
         "2023-07-31"
        ],
        [
         "Primal",
         "Indonesia",
         9,
         "2023-07-31"
        ],
        [
         "IshowSpeed",
         "Indonesia",
         10,
         "2023-07-31"
        ],
        [
         "Man United vs Dortmund",
         "Ireland",
         1,
         "2023-07-31"
        ],
        [
         "Galway Races",
         "Ireland",
         2,
         "2023-07-31"
        ],
        [
         "Yousef Palani",
         "Ireland",
         3,
         "2023-07-31"
        ],
        [
         "Circle K",
         "Ireland",
         4,
         "2023-07-31"
        ],
        [
         "David Raya",
         "Ireland",
         5,
         "2023-07-31"
        ],
        [
         "F1 Belgian Grand Prix",
         "Ireland",
         6,
         "2023-07-31"
        ],
        [
         "Wordle hint",
         "Ireland",
         7,
         "2023-07-31"
        ],
        [
         "Paolo Nutini",
         "Ireland",
         8,
         "2023-07-31"
        ],
        [
         "Football Women's World Cup 2023",
         "Ireland",
         9,
         "2023-07-31"
        ],
        [
         "UFC",
         "Ireland",
         10,
         "2023-07-31"
        ],
        [
         "גיא הוכמן",
         "Israel",
         1,
         "2023-07-31"
        ],
        [
         "נסרין קדרי",
         "Israel",
         2,
         "2023-07-31"
        ],
        [
         "רן ארז",
         "Israel",
         3,
         "2023-07-31"
        ],
        [
         "הקו האדום",
         "Israel",
         4,
         "2023-07-31"
        ],
        [
         "שלמה וישינסקי",
         "Israel",
         5,
         "2023-07-31"
        ],
        [
         "ארי שמאי",
         "Israel",
         6,
         "2023-07-31"
        ],
        [
         "ליבי נחימובסקי",
         "Israel",
         7,
         "2023-07-31"
        ],
        [
         "טו באב",
         "Israel",
         8,
         "2023-07-31"
        ],
        [
         "ברצלונה",
         "Israel",
         9,
         "2023-07-31"
        ],
        [
         "חוק טבריה",
         "Israel",
         10,
         "2023-07-31"
        ],
        [
         "F1 Spa",
         "Italy",
         1,
         "2023-07-31"
        ],
        [
         "Jonathan David",
         "Italy",
         2,
         "2023-07-31"
        ],
        [
         "Giorgia Cardinaletti",
         "Italy",
         3,
         "2023-07-31"
        ],
        [
         "Salvini",
         "Italy",
         4,
         "2023-07-31"
        ],
        [
         "Procida",
         "Italy",
         5,
         "2023-07-31"
        ],
        [
         "Costil",
         "Italy",
         6,
         "2023-07-31"
        ],
        [
         "Thuram",
         "Italy",
         7,
         "2023-07-31"
        ],
        [
         "Ghost Rider",
         "Italy",
         8,
         "2023-07-31"
        ],
        [
         "Lozano",
         "Italy",
         9,
         "2023-07-31"
        ],
        [
         "Zaccagni",
         "Italy",
         10,
         "2023-07-31"
        ],
        [
         "台風情報",
         "Japan",
         1,
         "2023-07-31"
        ],
        [
         "なでしこジャパン",
         "Japan",
         2,
         "2023-07-31"
        ],
        [
         "みなとみらい 花火",
         "Japan",
         3,
         "2023-07-31"
        ],
        [
         "バービー",
         "Japan",
         4,
         "2023-07-31"
        ],
        [
         "久保田梨沙",
         "Japan",
         5,
         "2023-07-31"
        ],
        [
         "キングダム 運命の炎",
         "Japan",
         6,
         "2023-07-31"
        ],
        [
         "市川猿之助",
         "Japan",
         7,
         "2023-07-31"
        ],
        [
         "仙台市議会議員選挙",
         "Japan",
         8,
         "2023-07-31"
        ],
        [
         "RIZIN",
         "Japan",
         9,
         "2023-07-31"
        ],
        [
         "アイビスサマーダッシュ",
         "Japan",
         10,
         "2023-07-31"
        ],
        [
         "KUCCPS) placement",
         "Kenya",
         1,
         "2023-07-31"
        ],
        [
         "Nouhaila Benzina",
         "Kenya",
         2,
         "2023-07-31"
        ],
        [
         "Standard Chartered bank",
         "Kenya",
         3,
         "2023-07-31"
        ],
        [
         "Canada vs Australia",
         "Kenya",
         4,
         "2023-07-31"
        ],
        [
         "Man United vs Dortmund",
         "Kenya",
         5,
         "2023-07-31"
        ],
        [
         "Man City vs ATLÉTICO Madrid",
         "Kenya",
         6,
         "2023-07-31"
        ],
        [
         "Liverpool vs Leicester City",
         "Kenya",
         7,
         "2023-07-31"
        ],
        [
         "Chelsea",
         "Kenya",
         8,
         "2023-07-31"
        ],
        [
         "Aston Villa vs Brentford",
         "Kenya",
         9,
         "2023-07-31"
        ],
        [
         "Amrabat",
         "Kenya",
         10,
         "2023-07-31"
        ],
        [
         "Man United vs Dortmund",
         "Malaysia",
         1,
         "2023-07-31"
        ],
        [
         "Chelsea vs Fulham",
         "Malaysia",
         2,
         "2023-07-31"
        ],
        [
         "Chelsea",
         "Malaysia",
         3,
         "2023-07-31"
        ],
        [
         "Mini Cooper Clubman",
         "Malaysia",
         4,
         "2023-07-31"
        ],
        [
         "David Raya",
         "Malaysia",
         5,
         "2023-07-31"
        ],
        [
         "Fermín López Barcelona",
         "Malaysia",
         6,
         "2023-07-31"
        ],
        [
         "Manchester United Mason Greenwood",
         "Malaysia",
         7,
         "2023-07-31"
        ],
        [
         "LPL",
         "Malaysia",
         8,
         "2023-07-31"
        ],
        [
         "PJD Link",
         "Malaysia",
         9,
         "2023-07-31"
        ],
        [
         "Liverpool vs Leicester City",
         "Malaysia",
         10,
         "2023-07-31"
        ],
        [
         "Manchester United",
         "Mexico",
         1,
         "2023-07-31"
        ],
        [
         "Albacete",
         "Mexico",
         2,
         "2023-07-31"
        ],
        [
         "Dembele",
         "Mexico",
         3,
         "2023-07-31"
        ],
        [
         "Monterrey  Seattle Sounders",
         "Mexico",
         4,
         "2023-07-31"
        ],
        [
         "Tigres  sj Earthquakes",
         "Mexico",
         5,
         "2023-07-31"
        ],
        [
         "Feyenoord  Benfica",
         "Mexico",
         6,
         "2023-07-31"
        ],
        [
         "Atlas  Toronto",
         "Mexico",
         7,
         "2023-07-31"
        ],
        [
         "La Casa de los Famosos México",
         "Mexico",
         8,
         "2023-07-31"
        ],
        [
         "Tijuana vs Querétaro",
         "Mexico",
         9,
         "2023-07-31"
        ],
        [
         "New York RB  Atl San Luis",
         "Mexico",
         10,
         "2023-07-31"
        ],
        [
         "Hakim Ziyech",
         "Netherlands",
         1,
         "2023-07-31"
        ],
        [
         "Niger",
         "Netherlands",
         2,
         "2023-07-31"
        ],
        [
         "Feyenoord",
         "Netherlands",
         3,
         "2023-07-31"
        ],
        [
         "PSV",
         "Netherlands",
         4,
         "2023-07-31"
        ],
        [
         "Hoyte van Hoytema",
         "Netherlands",
         5,
         "2023-07-31"
        ],
        [
         "Andre Rieu",
         "Netherlands",
         6,
         "2023-07-31"
        ],
        [
         "Brand Alblasserdam",
         "Netherlands",
         7,
         "2023-07-31"
        ],
        [
         "UFC",
         "Netherlands",
         8,
         "2023-07-31"
        ],
        [
         "SD Worx",
         "Netherlands",
         9,
         "2023-07-31"
        ],
        [
         "Ueda",
         "Netherlands",
         10,
         "2023-07-31"
        ],
        [
         "Chelsea",
         "New Zealand",
         1,
         "2023-07-31"
        ],
        [
         "Full moon August 2023",
         "New Zealand",
         2,
         "2023-07-31"
        ],
        [
         "Manchester United",
         "New Zealand",
         3,
         "2023-07-31"
        ],
        [
         "Man United vs Dortmund",
         "New Zealand",
         4,
         "2023-07-31"
        ],
        [
         "Spain vs Japan",
         "New Zealand",
         5,
         "2023-07-31"
        ],
        [
         "Wally Lewis",
         "New Zealand",
         6,
         "2023-07-31"
        ],
        [
         "Tamati Coffey",
         "New Zealand",
         7,
         "2023-07-31"
        ],
        [
         "Grace Nweke",
         "New Zealand",
         8,
         "2023-07-31"
        ],
        [
         "Labour Party list 2023",
         "New Zealand",
         9,
         "2023-07-31"
        ],
        [
         "Chelsea vs Fulham",
         "New Zealand",
         10,
         "2023-07-31"
        ],
        [
         "Chelsea",
         "Nigeria",
         1,
         "2023-07-31"
        ],
        [
         "Canada vs Australia",
         "Nigeria",
         2,
         "2023-07-31"
        ],
        [
         "Japan vs Spain",
         "Nigeria",
         3,
         "2023-07-31"
        ],
        [
         "Adamawa",
         "Nigeria",
         4,
         "2023-07-31"
        ],
        [
         "Man United vs Dortmund",
         "Nigeria",
         5,
         "2023-07-31"
        ],
        [
         "Man City vs atlético Madrid",
         "Nigeria",
         6,
         "2023-07-31"
        ],
        [
         "Liverpool vs Leicester City",
         "Nigeria",
         7,
         "2023-07-31"
        ],
        [
         "Aston Villa vs Brentford",
         "Nigeria",
         8,
         "2023-07-31"
        ],
        [
         "Disasi",
         "Nigeria",
         9,
         "2023-07-31"
        ],
        [
         "Women's World Cup schedule",
         "Nigeria",
         10,
         "2023-07-31"
        ],
        [
         "Anette Trettebergstuen",
         "Norway",
         1,
         "2023-07-31"
        ],
        [
         "Niger",
         "Norway",
         2,
         "2023-07-31"
        ],
        [
         "Chelsea",
         "Norway",
         3,
         "2023-07-31"
        ],
        [
         "Lepra",
         "Norway",
         4,
         "2023-07-31"
        ],
        [
         "Liverpool",
         "Norway",
         5,
         "2023-07-31"
        ],
        [
         "Brann Viking",
         "Norway",
         6,
         "2023-07-31"
        ],
        [
         "fotball-VM kvinner",
         "Norway",
         7,
         "2023-07-31"
        ],
        [
         "Bodø/Glimt Tromsø",
         "Norway",
         8,
         "2023-07-31"
        ],
        [
         "Barcelona",
         "Norway",
         9,
         "2023-07-31"
        ],
        [
         "Caroline Graham Hansen",
         "Norway",
         10,
         "2023-07-31"
        ],
        [
         "Jeremiah Gray",
         "Philippines",
         1,
         "2023-07-31"
        ],
        [
         "August",
         "Philippines",
         2,
         "2023-07-31"
        ],
        [
         "F1 Belgian Grand Prix",
         "Philippines",
         3,
         "2023-07-31"
        ],
        [
         "August Calendar 2023",
         "Philippines",
         4,
         "2023-07-31"
        ],
        [
         "Falcon update",
         "Philippines",
         5,
         "2023-07-31"
        ],
        [
         "Malala Yousafzai",
         "Philippines",
         6,
         "2023-07-31"
        ],
        [
         "Dustin Poirier vs Justin Gaethje UFC 291",
         "Philippines",
         7,
         "2023-07-31"
        ],
        [
         "Man United vs Dortmund",
         "Philippines",
         8,
         "2023-07-31"
        ],
        [
         "Japan vs Spain",
         "Philippines",
         9,
         "2023-07-31"
        ],
        [
         "Full moon August 2023",
         "Philippines",
         10,
         "2023-07-31"
        ],
        [
         "Man utd – Borussia",
         "Poland",
         1,
         "2023-07-31"
        ],
        [
         "Dembele",
         "Poland",
         2,
         "2023-07-31"
        ],
        [
         "Pelnia ksiezyca",
         "Poland",
         3,
         "2023-07-31"
        ],
        [
         "Inflacja lipiec 2023",
         "Poland",
         4,
         "2023-07-31"
        ],
        [
         "Andrzej Zieniewicz",
         "Poland",
         5,
         "2023-07-31"
        ],
        [
         "Palermo",
         "Poland",
         6,
         "2023-07-31"
        ],
        [
         "US Open 2023",
         "Poland",
         7,
         "2023-07-31"
        ],
        [
         "SPEED",
         "Poland",
         8,
         "2023-07-31"
        ],
        [
         "Edyta Górniak",
         "Poland",
         9,
         "2023-07-31"
        ],
        [
         "Lech Poznań – Radomiak",
         "Poland",
         10,
         "2023-07-31"
        ],
        [
         "Benfica Feyenoord",
         "Portugal",
         1,
         "2023-07-31"
        ],
        [
         "Manchester United  Borussia",
         "Portugal",
         2,
         "2023-07-31"
        ],
        [
         "Manuais escolares",
         "Portugal",
         3,
         "2023-07-31"
        ],
        [
         "Manchester United",
         "Portugal",
         4,
         "2023-07-31"
        ],
        [
         "Gremio",
         "Portugal",
         5,
         "2023-07-31"
        ],
        [
         "Chelsea",
         "Portugal",
         6,
         "2023-07-31"
        ],
        [
         "Manuais Escolares Gratuitos",
         "Portugal",
         7,
         "2023-07-31"
        ],
        [
         "Jornadas mundiais da Juventude 2023",
         "Portugal",
         8,
         "2023-07-31"
        ],
        [
         "Chermiti",
         "Portugal",
         9,
         "2023-07-31"
        ],
        [
         "Goiás  Grêmio",
         "Portugal",
         10,
         "2023-07-31"
        ],
        [
         "Loto 30 iulie 2023",
         "Romania",
         1,
         "2023-07-31"
        ],
        [
         "Meghan Markle",
         "Romania",
         2,
         "2023-07-31"
        ],
        [
         "China",
         "Romania",
         3,
         "2023-07-31"
        ],
        [
         "Antarctica",
         "Romania",
         4,
         "2023-07-31"
        ],
        [
         "Man United vs Dortmund",
         "Romania",
         5,
         "2023-07-31"
        ],
        [
         "Formula 1 Marele Premiu al Belgiei",
         "Romania",
         6,
         "2023-07-31"
        ],
        [
         "Terence Crawford",
         "Romania",
         7,
         "2023-07-31"
        ],
        [
         "Barcelona  Real Madrid",
         "Romania",
         8,
         "2023-07-31"
        ],
        [
         "Farul Constanța - Poli Iași",
         "Romania",
         9,
         "2023-07-31"
        ],
        [
         "CFR Cluj",
         "Romania",
         10,
         "2023-07-31"
        ],
        [
         "Кривой Рог",
         "Russia",
         1,
         "2023-07-31"
        ],
        [
         "Baldur's Gate 3",
         "Russia",
         2,
         "2023-07-31"
        ],
        [
         "Team Spirit",
         "Russia",
         3,
         "2023-07-31"
        ],
        [
         "Ирина Мирошниченко",
         "Russia",
         4,
         "2023-07-31"
        ],
        [
         "Батуми",
         "Russia",
         5,
         "2023-07-31"
        ],
        [
         "31 июля праздник",
         "Russia",
         6,
         "2023-07-31"
        ],
        [
         "Аркадий Бабченко",
         "Russia",
         7,
         "2023-07-31"
        ],
        [
         "Манчестер Юнайтед",
         "Russia",
         8,
         "2023-07-31"
        ],
        [
         "Москва-Сити взрыв",
         "Russia",
         9,
         "2023-07-31"
        ],
        [
         "С Днем ВМФ",
         "Russia",
         10,
         "2023-07-31"
        ],
        [
         "البطولة العربية",
         "Saudi_Arabia",
         1,
         "2023-07-31"
        ],
        [
         "مان يونايتد ضد دورتموند",
         "Saudi_Arabia",
         2,
         "2023-07-31"
        ],
        [
         "اليمن",
         "Saudi_Arabia",
         3,
         "2023-07-31"
        ],
        [
         "باربي فيلم",
         "Saudi_Arabia",
         4,
         "2023-07-31"
        ],
        [
         "العراق",
         "Saudi_Arabia",
         5,
         "2023-07-31"
        ],
        [
         "الاتحاد",
         "Saudi_Arabia",
         6,
         "2023-07-31"
        ],
        [
         "ليفربول",
         "Saudi_Arabia",
         7,
         "2023-07-31"
        ],
        [
         "جدير",
         "Saudi_Arabia",
         8,
         "2023-07-31"
        ],
        [
         "Real Madrid",
         "Saudi_Arabia",
         9,
         "2023-07-31"
        ],
        [
         "يوم الصداقة العالمي",
         "Saudi_Arabia",
         10,
         "2023-07-31"
        ],
        [
         "Man United vs Dortmund",
         "Singapore",
         1,
         "2023-07-31"
        ],
        [
         "Coco Lee funeral",
         "Singapore",
         2,
         "2023-07-31"
        ],
        [
         "Christopher de Souza",
         "Singapore",
         3,
         "2023-07-31"
        ],
        [
         "Chelsea",
         "Singapore",
         4,
         "2023-07-31"
        ],
        [
         "Belgian gp",
         "Singapore",
         5,
         "2023-07-31"
        ],
        [
         "David Raya",
         "Singapore",
         6,
         "2023-07-31"
        ],
        [
         "Canada vs Australia",
         "Singapore",
         7,
         "2023-07-31"
        ],
        [
         "ZoukOut 2023",
         "Singapore",
         8,
         "2023-07-31"
        ],
        [
         "Hong Kong",
         "Singapore",
         9,
         "2023-07-31"
        ],
        [
         "Maggots",
         "Singapore",
         10,
         "2023-07-31"
        ],
        [
         "Man United vs Dortmund",
         "South_Africa",
         1,
         "2023-07-31"
        ],
        [
         "Chelsea",
         "South_Africa",
         2,
         "2023-07-31"
        ],
        [
         "Republic of Ireland vs Nigeria",
         "South_Africa",
         3,
         "2023-07-31"
        ],
        [
         "Japan vs Spain",
         "South_Africa",
         4,
         "2023-07-31"
        ],
        [
         "Riverlea",
         "South_Africa",
         5,
         "2023-07-31"
        ],
        [
         "Canada vs Australia",
         "South_Africa",
         6,
         "2023-07-31"
        ],
        [
         "Iga świątek",
         "South_Africa",
         7,
         "2023-07-31"
        ],
        [
         "Liverpool vs Leicester City",
         "South_Africa",
         8,
         "2023-07-31"
        ],
        [
         "Man City vs atlético Madrid",
         "South_Africa",
         9,
         "2023-07-31"
        ],
        [
         "Chelsea vs Fulham",
         "South_Africa",
         10,
         "2023-07-31"
        ],
        [
         "소방서 옆 경찰서",
         "South_Korea",
         1,
         "2023-07-31"
        ],
        [
         "우크라이나",
         "South_Korea",
         2,
         "2023-07-31"
        ],
        [
         "맨시티",
         "South_Korea",
         3,
         "2023-07-31"
        ],
        [
         "로또1078",
         "South_Korea",
         4,
         "2023-07-31"
        ],
        [
         "대도서관 윰댕 이혼",
         "South_Korea",
         5,
         "2023-07-31"
        ],
        [
         "여자월드컵",
         "South_Korea",
         6,
         "2023-07-31"
        ],
        [
         "초전도체",
         "South_Korea",
         7,
         "2023-07-31"
        ],
        [
         "지진",
         "South_Korea",
         8,
         "2023-07-31"
        ],
        [
         "최원태",
         "South_Korea",
         9,
         "2023-07-31"
        ],
        [
         "롯데월드 화재",
         "South_Korea",
         10,
         "2023-07-31"
        ],
        [
         "Alexander Wennberg",
         "Sweden",
         1,
         "2023-07-31"
        ],
        [
         "Ioannis Pittas",
         "Sweden",
         2,
         "2023-07-31"
        ],
        [
         "Man utd",
         "Sweden",
         3,
         "2023-07-31"
        ],
        [
         "Hammarby",
         "Sweden",
         4,
         "2023-07-31"
        ],
        [
         "Real Madrid",
         "Sweden",
         5,
         "2023-07-31"
        ],
        [
         "David Thurfjell",
         "Sweden",
         6,
         "2023-07-31"
        ],
        [
         "IFK Göteborg mot Kalmar FF",
         "Sweden",
         7,
         "2023-07-31"
        ],
        [
         "Pride Stockholm",
         "Sweden",
         8,
         "2023-07-31"
        ],
        [
         "Liverpool",
         "Sweden",
         9,
         "2023-07-31"
        ],
        [
         "Barcelona",
         "Sweden",
         10,
         "2023-07-31"
        ],
        [
         "Fete nationale suisse",
         "Switzerland",
         1,
         "2023-07-31"
        ],
        [
         "Wladimir Putin",
         "Switzerland",
         2,
         "2023-07-31"
        ],
        [
         "Feuerwerk",
         "Switzerland",
         3,
         "2023-07-31"
        ],
        [
         "Manchester United – Dortmund",
         "Switzerland",
         4,
         "2023-07-31"
        ],
        [
         "Dembele",
         "Switzerland",
         5,
         "2023-07-31"
        ],
        [
         "Ecowas",
         "Switzerland",
         6,
         "2023-07-31"
        ],
        [
         "Brunch",
         "Switzerland",
         7,
         "2023-07-31"
        ],
        [
         "Pourris gâtés",
         "Switzerland",
         8,
         "2023-07-31"
        ],
        [
         "Chelsea – Fulham",
         "Switzerland",
         9,
         "2023-07-31"
        ],
        [
         "Fußball-weltmeisterschaft der Frauen",
         "Switzerland",
         10,
         "2023-07-31"
        ],
        [
         "李玟",
         "Taiwan",
         1,
         "2023-07-31"
        ],
        [
         "民眾黨",
         "Taiwan",
         2,
         "2023-07-31"
        ],
        [
         "台股",
         "Taiwan",
         3,
         "2023-07-31"
        ],
        [
         "地震",
         "Taiwan",
         4,
         "2023-07-31"
        ],
        [
         "光寶科",
         "Taiwan",
         5,
         "2023-07-31"
        ],
        [
         "國稅局",
         "Taiwan",
         6,
         "2023-07-31"
        ],
        [
         "楊德昌",
         "Taiwan",
         7,
         "2023-07-31"
        ],
        [
         "卡努颱風動態",
         "Taiwan",
         8,
         "2023-07-31"
        ],
        [
         "羅嘉翎",
         "Taiwan",
         9,
         "2023-07-31"
        ],
        [
         "南橫",
         "Taiwan",
         10,
         "2023-07-31"
        ],
        [
         "แมนยู พบ ดอร์ทมุนด์",
         "Thailand",
         1,
         "2023-07-31"
        ],
        [
         "เชลซี",
         "Thailand",
         2,
         "2023-07-31"
        ],
        [
         "วันหยุดธนาคาร",
         "Thailand",
         3,
         "2023-07-31"
        ],
        [
         "ตรวจหวย",
         "Thailand",
         4,
         "2023-07-31"
        ],
        [
         "วันอาสาฬหบูชา 2566",
         "Thailand",
         5,
         "2023-07-31"
        ],
        [
         "AIS",
         "Thailand",
         6,
         "2023-07-31"
        ],
        [
         "เลขเด็ด 31/7/66",
         "Thailand",
         7,
         "2023-07-31"
        ],
        [
         "ลิเวอร์พูล",
         "Thailand",
         8,
         "2023-07-31"
        ],
        [
         "นัทมีเรีย",
         "Thailand",
         9,
         "2023-07-31"
        ],
        [
         "เบนซ์-ปุณยาพร",
         "Thailand",
         10,
         "2023-07-31"
        ],
        [
         "LGS 2. tercih sonuçları 2023",
         "Turkey",
         1,
         "2023-07-31"
        ],
        [
         "Deprem son dakika",
         "Turkey",
         2,
         "2023-07-31"
        ],
        [
         "Miha Zajc",
         "Turkey",
         3,
         "2023-07-31"
        ],
        [
         "SGK Yapılandırma ödeme",
         "Turkey",
         4,
         "2023-07-31"
        ],
        [
         "İzmir metro grev",
         "Turkey",
         5,
         "2023-07-31"
        ],
        [
         "Cluster headache",
         "Turkey",
         6,
         "2023-07-31"
        ],
        [
         "MTV",
         "Turkey",
         7,
         "2023-07-31"
        ],
        [
         "Düzce deprem",
         "Turkey",
         8,
         "2023-07-31"
        ],
        [
         "Krunic",
         "Turkey",
         9,
         "2023-07-31"
        ],
        [
         "Merve Girişmek",
         "Turkey",
         10,
         "2023-07-31"
        ],
        [
         "Кривой Рог",
         "Ukraine",
         1,
         "2023-07-31"
        ],
        [
         "Євген Світличний",
         "Ukraine",
         2,
         "2023-07-31"
        ],
        [
         "Кривий Ріг",
         "Ukraine",
         3,
         "2023-07-31"
        ],
        [
         "Новости Харькова",
         "Ukraine",
         4,
         "2023-07-31"
        ],
        [
         "Манчестер Юнайтед – Боруссия",
         "Ukraine",
         5,
         "2023-07-31"
        ],
        [
         "Евгений Светличный",
         "Ukraine",
         6,
         "2023-07-31"
        ],
        [
         "Ирина Винер",
         "Ukraine",
         7,
         "2023-07-31"
        ],
        [
         "Джокер",
         "Ukraine",
         8,
         "2023-07-31"
        ],
        [
         "Харьков новости",
         "Ukraine",
         9,
         "2023-07-31"
        ],
        [
         "Родина-мать",
         "Ukraine",
         10,
         "2023-07-31"
        ],
        [
         "Man United vs Dortmund",
         "United_Kingdom",
         1,
         "2023-07-31"
        ],
        [
         "Chelsea",
         "United_Kingdom",
         2,
         "2023-07-31"
        ],
        [
         "Dart Charge",
         "United_Kingdom",
         3,
         "2023-07-31"
        ],
        [
         "Alex Belfield",
         "United_Kingdom",
         4,
         "2023-07-31"
        ],
        [
         "Madonna",
         "United_Kingdom",
         5,
         "2023-07-31"
        ],
        [
         "Ronan Keating",
         "United_Kingdom",
         6,
         "2023-07-31"
        ],
        [
         "Tom Daley",
         "United_Kingdom",
         7,
         "2023-07-31"
        ],
        [
         "Oshkosh plane crashes",
         "United_Kingdom",
         8,
         "2023-07-31"
        ],
        [
         "Women's World Cup",
         "United_Kingdom",
         9,
         "2023-07-31"
        ],
        [
         "UFC",
         "United_Kingdom",
         10,
         "2023-07-31"
        ],
        [
         "Manchester United",
         "United_States",
         1,
         "2023-07-31"
        ],
        [
         "Why is Twitter X",
         "United_States",
         2,
         "2023-07-31"
        ],
        [
         "Brittney Griner",
         "United_States",
         3,
         "2023-07-31"
        ],
        [
         "Dark Winds",
         "United_States",
         4,
         "2023-07-31"
        ],
        [
         "Full moon",
         "United_States",
         5,
         "2023-07-31"
        ],
        [
         "Cardi B microphone",
         "United_States",
         6,
         "2023-07-31"
        ],
        [
         "Kwon Alexander",
         "United_States",
         7,
         "2023-07-31"
        ],
        [
         "Oshkosh plane crashes",
         "United_States",
         8,
         "2023-07-31"
        ],
        [
         "The hunt",
         "United_States",
         9,
         "2023-07-31"
        ],
        [
         "Colombia vs Germany",
         "United_States",
         10,
         "2023-07-31"
        ],
        [
         "Nhật Bản đấu với Tây Ban Nha",
         "Vietnam",
         1,
         "2023-07-31"
        ],
        [
         "Dự báo thời tiết Hà Nội",
         "Vietnam",
         2,
         "2023-07-31"
        ],
        [
         "Samsung S23 Ultra",
         "Vietnam",
         3,
         "2023-07-31"
        ],
        [
         "Phương Lê",
         "Vietnam",
         4,
         "2023-07-31"
        ],
        [
         "Aston villa",
         "Vietnam",
         5,
         "2023-07-31"
        ],
        [
         "Canada đấu với Úc",
         "Vietnam",
         6,
         "2023-07-31"
        ],
        [
         "Philippines",
         "Vietnam",
         7,
         "2023-07-31"
        ],
        [
         "Giá xăng dầu",
         "Vietnam",
         8,
         "2023-07-31"
        ],
        [
         "Viet Nam vs ha Lan",
         "Vietnam",
         9,
         "2023-07-31"
        ],
        [
         "VIC",
         "Vietnam",
         10,
         "2023-07-31"
        ]
       ],
       "datasetInfos": [],
       "dbfsResultPath": null,
       "isJsonSchema": true,
       "metadata": {},
       "overflow": false,
       "plotOptions": {
        "customPlotOptions": {},
        "displayType": "table",
        "pivotAggregation": null,
        "pivotColumns": null,
        "xColumns": null,
        "yColumns": null
       },
       "removedWidgets": [],
       "schema": [
        {
         "metadata": "{}",
         "name": "search_term",
         "type": "\"string\""
        },
        {
         "metadata": "{}",
         "name": "country",
         "type": "\"string\""
        },
        {
         "metadata": "{}",
         "name": "rank",
         "type": "\"integer\""
        },
        {
         "metadata": "{}",
         "name": "data_as_of_date",
         "type": "\"date\""
        }
       ],
       "type": "table"
      }
     },
     "output_type": "display_data"
    }
   ],
   "source": [
    "#Seperate notebook to run jobs in parallel (Not supported in communtity edition) -\n",
    "#https://databricks-prod-cloudfront.cloud.databricks.com/public/4027ec902e239c93eaaa8714f173bcfc/8881205802088401/2387488636523229/1939591732392236/latest.html\n",
    "\n",
    "for i in dst_coutries:\n",
    "    top_5_trend = pytrends.trending_searches(pn=i.lower()).head(10)\n",
    "    spark_top_5 = spark.createDataFrame(top_5_trend)\\\n",
    "    .withColumnRenamed('0', 'search_term')\\\n",
    "    .withColumn(\"country\", lit(i))\\\n",
    "    .withColumn(\"rank\", (monotonically_increasing_id() + 1).cast('int'))\\\n",
    "    .withColumn(\"data_as_of_date\", current_date())\n",
    "    comb_df1 = comb_df1.unionAll(spark_top_5)\n",
    "display(comb_df1)"
   ]
  },
  {
   "cell_type": "code",
   "execution_count": 0,
   "metadata": {
    "application/vnd.databricks.v1+cell": {
     "cellMetadata": {
      "byteLimit": 2048000,
      "rowLimit": 10000
     },
     "inputWidgets": {},
     "nuid": "0bdc5875-33ff-4eb6-9572-1f1387fe54ec",
     "showTitle": true,
     "title": "Writing data into table to access it through %sql (View can also be used)"
    }
   },
   "outputs": [],
   "source": [
    "comb_df1.write.mode('overwrite').insertInto('trending_searches.countries_trending_searches')"
   ]
  },
  {
   "cell_type": "code",
   "execution_count": 0,
   "metadata": {
    "application/vnd.databricks.v1+cell": {
     "cellMetadata": {
      "byteLimit": 2048000,
      "implicitDf": true,
      "rowLimit": 10000
     },
     "inputWidgets": {},
     "nuid": "2ffa35bf-6d25-4a35-b36b-8ba28962d0d4",
     "showTitle": true,
     "title": "Transformation_2 in SQL - Finding search term trending across multiple countries"
    }
   },
   "outputs": [
    {
     "output_type": "display_data",
     "data": {
      "text/html": [
       "<style scoped>\n",
       "  .table-result-container {\n",
       "    max-height: 300px;\n",
       "    overflow: auto;\n",
       "  }\n",
       "  table, th, td {\n",
       "    border: 1px solid black;\n",
       "    border-collapse: collapse;\n",
       "  }\n",
       "  th, td {\n",
       "    padding: 5px;\n",
       "  }\n",
       "  th {\n",
       "    text-align: left;\n",
       "  }\n",
       "</style><div class='table-result-container'><table class='table-result'><thead style='background-color: white'><tr><th>search_term</th><th>trend_cntry_count</th><th>avg_cntry_trend_rank</th><th>ranking</th><th>country</th><th>data_as_of_date</th></tr></thead><tbody><tr><td>Man United vs Dortmund</td><td>13</td><td>3.46</td><td>1</td><td>South_Africa</td><td>2023-07-31</td></tr><tr><td>Man United vs Dortmund</td><td>13</td><td>3.46</td><td>1</td><td>Philippines</td><td>2023-07-31</td></tr><tr><td>Man United vs Dortmund</td><td>13</td><td>3.46</td><td>1</td><td>Kenya</td><td>2023-07-31</td></tr><tr><td>Man United vs Dortmund</td><td>13</td><td>3.46</td><td>1</td><td>Nigeria</td><td>2023-07-31</td></tr><tr><td>Man United vs Dortmund</td><td>13</td><td>3.46</td><td>1</td><td>United_Kingdom</td><td>2023-07-31</td></tr><tr><td>Man United vs Dortmund</td><td>13</td><td>3.46</td><td>1</td><td>Romania</td><td>2023-07-31</td></tr><tr><td>Man United vs Dortmund</td><td>13</td><td>3.46</td><td>1</td><td>New Zealand</td><td>2023-07-31</td></tr><tr><td>Man United vs Dortmund</td><td>13</td><td>3.46</td><td>1</td><td>Australia</td><td>2023-07-31</td></tr><tr><td>Man United vs Dortmund</td><td>13</td><td>3.46</td><td>1</td><td>Canada</td><td>2023-07-31</td></tr><tr><td>Man United vs Dortmund</td><td>13</td><td>3.46</td><td>1</td><td>Malaysia</td><td>2023-07-31</td></tr><tr><td>Man United vs Dortmund</td><td>13</td><td>3.46</td><td>1</td><td>India</td><td>2023-07-31</td></tr><tr><td>Man United vs Dortmund</td><td>13</td><td>3.46</td><td>1</td><td>Ireland</td><td>2023-07-31</td></tr><tr><td>Man United vs Dortmund</td><td>13</td><td>3.46</td><td>1</td><td>Singapore</td><td>2023-07-31</td></tr><tr><td>Chelsea</td><td>11</td><td>3.0</td><td>2</td><td>South_Africa</td><td>2023-07-31</td></tr><tr><td>Chelsea</td><td>11</td><td>3.0</td><td>2</td><td>Kenya</td><td>2023-07-31</td></tr><tr><td>Chelsea</td><td>11</td><td>3.0</td><td>2</td><td>Nigeria</td><td>2023-07-31</td></tr><tr><td>Chelsea</td><td>11</td><td>3.0</td><td>2</td><td>United_Kingdom</td><td>2023-07-31</td></tr><tr><td>Chelsea</td><td>11</td><td>3.0</td><td>2</td><td>Portugal</td><td>2023-07-31</td></tr><tr><td>Chelsea</td><td>11</td><td>3.0</td><td>2</td><td>New Zealand</td><td>2023-07-31</td></tr><tr><td>Chelsea</td><td>11</td><td>3.0</td><td>2</td><td>Norway</td><td>2023-07-31</td></tr><tr><td>Chelsea</td><td>11</td><td>3.0</td><td>2</td><td>Canada</td><td>2023-07-31</td></tr><tr><td>Chelsea</td><td>11</td><td>3.0</td><td>2</td><td>Denmark</td><td>2023-07-31</td></tr><tr><td>Chelsea</td><td>11</td><td>3.0</td><td>2</td><td>Malaysia</td><td>2023-07-31</td></tr><tr><td>Chelsea</td><td>11</td><td>3.0</td><td>2</td><td>Singapore</td><td>2023-07-31</td></tr><tr><td>Dembele</td><td>8</td><td>4.13</td><td>3</td><td>Colombia</td><td>2023-07-31</td></tr><tr><td>Dembele</td><td>8</td><td>4.13</td><td>3</td><td>France</td><td>2023-07-31</td></tr><tr><td>Dembele</td><td>8</td><td>4.13</td><td>3</td><td>Mexico</td><td>2023-07-31</td></tr><tr><td>Dembele</td><td>8</td><td>4.13</td><td>3</td><td>Switzerland</td><td>2023-07-31</td></tr><tr><td>Dembele</td><td>8</td><td>4.13</td><td>3</td><td>Chile</td><td>2023-07-31</td></tr><tr><td>Dembele</td><td>8</td><td>4.13</td><td>3</td><td>Argentina</td><td>2023-07-31</td></tr><tr><td>Dembele</td><td>8</td><td>4.13</td><td>3</td><td>Poland</td><td>2023-07-31</td></tr><tr><td>Dembele</td><td>8</td><td>4.13</td><td>3</td><td>Austria</td><td>2023-07-31</td></tr><tr><td>Manchester United</td><td>5</td><td>2.0</td><td>4</td><td>United_States</td><td>2023-07-31</td></tr><tr><td>Manchester United</td><td>5</td><td>2.0</td><td>4</td><td>Mexico</td><td>2023-07-31</td></tr><tr><td>Manchester United</td><td>5</td><td>2.0</td><td>4</td><td>Portugal</td><td>2023-07-31</td></tr><tr><td>Manchester United</td><td>5</td><td>2.0</td><td>4</td><td>New Zealand</td><td>2023-07-31</td></tr><tr><td>Manchester United</td><td>5</td><td>2.0</td><td>4</td><td>Argentina</td><td>2023-07-31</td></tr><tr><td>Canada vs Australia</td><td>5</td><td>5.0</td><td>5</td><td>South_Africa</td><td>2023-07-31</td></tr><tr><td>Canada vs Australia</td><td>5</td><td>5.0</td><td>5</td><td>Kenya</td><td>2023-07-31</td></tr><tr><td>Canada vs Australia</td><td>5</td><td>5.0</td><td>5</td><td>Nigeria</td><td>2023-07-31</td></tr><tr><td>Canada vs Australia</td><td>5</td><td>5.0</td><td>5</td><td>Canada</td><td>2023-07-31</td></tr><tr><td>Canada vs Australia</td><td>5</td><td>5.0</td><td>5</td><td>Singapore</td><td>2023-07-31</td></tr><tr><td>UFC</td><td>4</td><td>9.5</td><td>6</td><td>United_Kingdom</td><td>2023-07-31</td></tr><tr><td>UFC</td><td>4</td><td>9.5</td><td>6</td><td>Greece</td><td>2023-07-31</td></tr><tr><td>UFC</td><td>4</td><td>9.5</td><td>6</td><td>Ireland</td><td>2023-07-31</td></tr><tr><td>UFC</td><td>4</td><td>9.5</td><td>6</td><td>Netherlands</td><td>2023-07-31</td></tr><tr><td>Niger</td><td>4</td><td>3.0</td><td>7</td><td>France</td><td>2023-07-31</td></tr><tr><td>Niger</td><td>4</td><td>3.0</td><td>7</td><td>Norway</td><td>2023-07-31</td></tr><tr><td>Niger</td><td>4</td><td>3.0</td><td>7</td><td>Belgium</td><td>2023-07-31</td></tr><tr><td>Niger</td><td>4</td><td>3.0</td><td>7</td><td>Netherlands</td><td>2023-07-31</td></tr><tr><td>Liverpool vs Leicester City</td><td>4</td><td>8.0</td><td>8</td><td>South_Africa</td><td>2023-07-31</td></tr><tr><td>Liverpool vs Leicester City</td><td>4</td><td>8.0</td><td>8</td><td>Kenya</td><td>2023-07-31</td></tr><tr><td>Liverpool vs Leicester City</td><td>4</td><td>8.0</td><td>8</td><td>Nigeria</td><td>2023-07-31</td></tr><tr><td>Liverpool vs Leicester City</td><td>4</td><td>8.0</td><td>8</td><td>Malaysia</td><td>2023-07-31</td></tr><tr><td>Japan vs Spain</td><td>4</td><td>6.5</td><td>9</td><td>South_Africa</td><td>2023-07-31</td></tr><tr><td>Japan vs Spain</td><td>4</td><td>6.5</td><td>9</td><td>Philippines</td><td>2023-07-31</td></tr><tr><td>Japan vs Spain</td><td>4</td><td>6.5</td><td>9</td><td>Nigeria</td><td>2023-07-31</td></tr><tr><td>Japan vs Spain</td><td>4</td><td>6.5</td><td>9</td><td>Australia</td><td>2023-07-31</td></tr><tr><td>Chelsea vs Fulham</td><td>4</td><td>5.75</td><td>10</td><td>South_Africa</td><td>2023-07-31</td></tr><tr><td>Chelsea vs Fulham</td><td>4</td><td>5.75</td><td>10</td><td>New Zealand</td><td>2023-07-31</td></tr><tr><td>Chelsea vs Fulham</td><td>4</td><td>5.75</td><td>10</td><td>Malaysia</td><td>2023-07-31</td></tr><tr><td>Chelsea vs Fulham</td><td>4</td><td>5.75</td><td>10</td><td>Indonesia</td><td>2023-07-31</td></tr><tr><td>Women's World Cup</td><td>3</td><td>6.0</td><td>11</td><td>United_Kingdom</td><td>2023-07-31</td></tr><tr><td>Women's World Cup</td><td>3</td><td>6.0</td><td>11</td><td>Canada</td><td>2023-07-31</td></tr><tr><td>Women's World Cup</td><td>3</td><td>6.0</td><td>11</td><td>Denmark</td><td>2023-07-31</td></tr><tr><td>Real Madrid</td><td>3</td><td>7.67</td><td>12</td><td>Saudi_Arabia</td><td>2023-07-31</td></tr><tr><td>Real Madrid</td><td>3</td><td>7.67</td><td>12</td><td>France</td><td>2023-07-31</td></tr><tr><td>Real Madrid</td><td>3</td><td>7.67</td><td>12</td><td>Sweden</td><td>2023-07-31</td></tr><tr><td>Manchester United – Dortmund</td><td>3</td><td>2.67</td><td>13</td><td>France</td><td>2023-07-31</td></tr><tr><td>Manchester United – Dortmund</td><td>3</td><td>2.67</td><td>13</td><td>Switzerland</td><td>2023-07-31</td></tr><tr><td>Manchester United – Dortmund</td><td>3</td><td>2.67</td><td>13</td><td>Belgium</td><td>2023-07-31</td></tr><tr><td>Manchester City vs Atlético Madrid</td><td>3</td><td>7.33</td><td>14</td><td>Colombia</td><td>2023-07-31</td></tr><tr><td>Manchester City vs Atlético Madrid</td><td>3</td><td>7.33</td><td>14</td><td>Chile</td><td>2023-07-31</td></tr><tr><td>Manchester City vs Atlético Madrid</td><td>3</td><td>7.33</td><td>14</td><td>Argentina</td><td>2023-07-31</td></tr><tr><td>David Raya</td><td>3</td><td>5.33</td><td>15</td><td>Malaysia</td><td>2023-07-31</td></tr><tr><td>David Raya</td><td>3</td><td>5.33</td><td>15</td><td>Ireland</td><td>2023-07-31</td></tr><tr><td>David Raya</td><td>3</td><td>5.33</td><td>15</td><td>Singapore</td><td>2023-07-31</td></tr><tr><td>Cluster headache</td><td>3</td><td>7.67</td><td>16</td><td>Turkey</td><td>2023-07-31</td></tr><tr><td>Cluster headache</td><td>3</td><td>7.67</td><td>16</td><td>Denmark</td><td>2023-07-31</td></tr><tr><td>Cluster headache</td><td>3</td><td>7.67</td><td>16</td><td>Finland</td><td>2023-07-31</td></tr><tr><td>Barcelona</td><td>3</td><td>9.67</td><td>17</td><td>Norway</td><td>2023-07-31</td></tr><tr><td>Barcelona</td><td>3</td><td>9.67</td><td>17</td><td>Sweden</td><td>2023-07-31</td></tr><tr><td>Barcelona</td><td>3</td><td>9.67</td><td>17</td><td>Hungary</td><td>2023-07-31</td></tr><tr><td>مان يونايتد ضد دورتموند</td><td>2</td><td>1.5</td><td>18</td><td>Saudi_Arabia</td><td>2023-07-31</td></tr><tr><td>مان يونايتد ضد دورتموند</td><td>2</td><td>1.5</td><td>18</td><td>Egypt</td><td>2023-07-31</td></tr><tr><td>Кривой Рог</td><td>2</td><td>1.0</td><td>19</td><td>Ukraine</td><td>2023-07-31</td></tr><tr><td>Кривой Рог</td><td>2</td><td>1.0</td><td>19</td><td>Russia</td><td>2023-07-31</td></tr><tr><td>Oshkosh plane crashes</td><td>2</td><td>8.0</td><td>20</td><td>United_States</td><td>2023-07-31</td></tr><tr><td>Oshkosh plane crashes</td><td>2</td><td>8.0</td><td>20</td><td>United_Kingdom</td><td>2023-07-31</td></tr><tr><td>Nouhaila Benzina</td><td>2</td><td>3.0</td><td>21</td><td>Kenya</td><td>2023-07-31</td></tr><tr><td>Nouhaila Benzina</td><td>2</td><td>3.0</td><td>21</td><td>Belgium</td><td>2023-07-31</td></tr><tr><td>Max Verstappen</td><td>2</td><td>8.0</td><td>22</td><td>Canada</td><td>2023-07-31</td></tr><tr><td>Max Verstappen</td><td>2</td><td>8.0</td><td>22</td><td>India</td><td>2023-07-31</td></tr><tr><td>Manchester United  Dortmund</td><td>2</td><td>5.0</td><td>23</td><td>Colombia</td><td>2023-07-31</td></tr><tr><td>Manchester United  Dortmund</td><td>2</td><td>5.0</td><td>23</td><td>Chile</td><td>2023-07-31</td></tr><tr><td>Man utd</td><td>2</td><td>5.0</td><td>24</td><td>Australia</td><td>2023-07-31</td></tr><tr><td>Man utd</td><td>2</td><td>5.0</td><td>24</td><td>Sweden</td><td>2023-07-31</td></tr><tr><td>Man City vs atlético Madrid</td><td>2</td><td>7.5</td><td>25</td><td>South_Africa</td><td>2023-07-31</td></tr><tr><td>Man City vs atlético Madrid</td><td>2</td><td>7.5</td><td>25</td><td>Nigeria</td><td>2023-07-31</td></tr><tr><td>Liverpool</td><td>2</td><td>7.0</td><td>26</td><td>Norway</td><td>2023-07-31</td></tr><tr><td>Liverpool</td><td>2</td><td>7.0</td><td>26</td><td>Sweden</td><td>2023-07-31</td></tr><tr><td>Iliman Ndiaye</td><td>2</td><td>7.5</td><td>27</td><td>France</td><td>2023-07-31</td></tr><tr><td>Iliman Ndiaye</td><td>2</td><td>7.5</td><td>27</td><td>Belgium</td><td>2023-07-31</td></tr><tr><td>Gremio</td><td>2</td><td>4.0</td><td>28</td><td>Portugal</td><td>2023-07-31</td></tr><tr><td>Gremio</td><td>2</td><td>4.0</td><td>28</td><td>Brazil</td><td>2023-07-31</td></tr><tr><td>Full moon August 2023</td><td>2</td><td>6.0</td><td>29</td><td>Philippines</td><td>2023-07-31</td></tr><tr><td>Full moon August 2023</td><td>2</td><td>6.0</td><td>29</td><td>New Zealand</td><td>2023-07-31</td></tr><tr><td>F1 Belgian Grand Prix</td><td>2</td><td>4.5</td><td>30</td><td>Philippines</td><td>2023-07-31</td></tr><tr><td>F1 Belgian Grand Prix</td><td>2</td><td>4.5</td><td>30</td><td>Ireland</td><td>2023-07-31</td></tr><tr><td>Dark Winds</td><td>2</td><td>3.5</td><td>31</td><td>United_States</td><td>2023-07-31</td></tr><tr><td>Dark Winds</td><td>2</td><td>3.5</td><td>31</td><td>Canada</td><td>2023-07-31</td></tr><tr><td>Chelsea – Fulham</td><td>2</td><td>6.0</td><td>32</td><td>Switzerland</td><td>2023-07-31</td></tr><tr><td>Chelsea – Fulham</td><td>2</td><td>6.0</td><td>32</td><td>Finland</td><td>2023-07-31</td></tr><tr><td>Baldur's Gate 3</td><td>2</td><td>1.5</td><td>33</td><td>Russia</td><td>2023-07-31</td></tr><tr><td>Baldur's Gate 3</td><td>2</td><td>1.5</td><td>33</td><td>Finland</td><td>2023-07-31</td></tr><tr><td>Aston Villa vs Brentford</td><td>2</td><td>8.5</td><td>34</td><td>Kenya</td><td>2023-07-31</td></tr><tr><td>Aston Villa vs Brentford</td><td>2</td><td>8.5</td><td>34</td><td>Nigeria</td><td>2023-07-31</td></tr></tbody></table></div>"
      ]
     },
     "metadata": {
      "application/vnd.databricks.v1+output": {
       "addedWidgets": {},
       "aggData": [],
       "aggError": "",
       "aggOverflow": false,
       "aggSchema": [],
       "aggSeriesLimitReached": false,
       "aggType": "",
       "arguments": {},
       "columnCustomDisplayInfos": {},
       "data": [
        [
         "Man United vs Dortmund",
         13,
         3.46,
         1,
         "South_Africa",
         "2023-07-31"
        ],
        [
         "Man United vs Dortmund",
         13,
         3.46,
         1,
         "Philippines",
         "2023-07-31"
        ],
        [
         "Man United vs Dortmund",
         13,
         3.46,
         1,
         "Kenya",
         "2023-07-31"
        ],
        [
         "Man United vs Dortmund",
         13,
         3.46,
         1,
         "Nigeria",
         "2023-07-31"
        ],
        [
         "Man United vs Dortmund",
         13,
         3.46,
         1,
         "United_Kingdom",
         "2023-07-31"
        ],
        [
         "Man United vs Dortmund",
         13,
         3.46,
         1,
         "Romania",
         "2023-07-31"
        ],
        [
         "Man United vs Dortmund",
         13,
         3.46,
         1,
         "New Zealand",
         "2023-07-31"
        ],
        [
         "Man United vs Dortmund",
         13,
         3.46,
         1,
         "Australia",
         "2023-07-31"
        ],
        [
         "Man United vs Dortmund",
         13,
         3.46,
         1,
         "Canada",
         "2023-07-31"
        ],
        [
         "Man United vs Dortmund",
         13,
         3.46,
         1,
         "Malaysia",
         "2023-07-31"
        ],
        [
         "Man United vs Dortmund",
         13,
         3.46,
         1,
         "India",
         "2023-07-31"
        ],
        [
         "Man United vs Dortmund",
         13,
         3.46,
         1,
         "Ireland",
         "2023-07-31"
        ],
        [
         "Man United vs Dortmund",
         13,
         3.46,
         1,
         "Singapore",
         "2023-07-31"
        ],
        [
         "Chelsea",
         11,
         3.0,
         2,
         "South_Africa",
         "2023-07-31"
        ],
        [
         "Chelsea",
         11,
         3.0,
         2,
         "Kenya",
         "2023-07-31"
        ],
        [
         "Chelsea",
         11,
         3.0,
         2,
         "Nigeria",
         "2023-07-31"
        ],
        [
         "Chelsea",
         11,
         3.0,
         2,
         "United_Kingdom",
         "2023-07-31"
        ],
        [
         "Chelsea",
         11,
         3.0,
         2,
         "Portugal",
         "2023-07-31"
        ],
        [
         "Chelsea",
         11,
         3.0,
         2,
         "New Zealand",
         "2023-07-31"
        ],
        [
         "Chelsea",
         11,
         3.0,
         2,
         "Norway",
         "2023-07-31"
        ],
        [
         "Chelsea",
         11,
         3.0,
         2,
         "Canada",
         "2023-07-31"
        ],
        [
         "Chelsea",
         11,
         3.0,
         2,
         "Denmark",
         "2023-07-31"
        ],
        [
         "Chelsea",
         11,
         3.0,
         2,
         "Malaysia",
         "2023-07-31"
        ],
        [
         "Chelsea",
         11,
         3.0,
         2,
         "Singapore",
         "2023-07-31"
        ],
        [
         "Dembele",
         8,
         4.13,
         3,
         "Colombia",
         "2023-07-31"
        ],
        [
         "Dembele",
         8,
         4.13,
         3,
         "France",
         "2023-07-31"
        ],
        [
         "Dembele",
         8,
         4.13,
         3,
         "Mexico",
         "2023-07-31"
        ],
        [
         "Dembele",
         8,
         4.13,
         3,
         "Switzerland",
         "2023-07-31"
        ],
        [
         "Dembele",
         8,
         4.13,
         3,
         "Chile",
         "2023-07-31"
        ],
        [
         "Dembele",
         8,
         4.13,
         3,
         "Argentina",
         "2023-07-31"
        ],
        [
         "Dembele",
         8,
         4.13,
         3,
         "Poland",
         "2023-07-31"
        ],
        [
         "Dembele",
         8,
         4.13,
         3,
         "Austria",
         "2023-07-31"
        ],
        [
         "Manchester United",
         5,
         2.0,
         4,
         "United_States",
         "2023-07-31"
        ],
        [
         "Manchester United",
         5,
         2.0,
         4,
         "Mexico",
         "2023-07-31"
        ],
        [
         "Manchester United",
         5,
         2.0,
         4,
         "Portugal",
         "2023-07-31"
        ],
        [
         "Manchester United",
         5,
         2.0,
         4,
         "New Zealand",
         "2023-07-31"
        ],
        [
         "Manchester United",
         5,
         2.0,
         4,
         "Argentina",
         "2023-07-31"
        ],
        [
         "Canada vs Australia",
         5,
         5.0,
         5,
         "South_Africa",
         "2023-07-31"
        ],
        [
         "Canada vs Australia",
         5,
         5.0,
         5,
         "Kenya",
         "2023-07-31"
        ],
        [
         "Canada vs Australia",
         5,
         5.0,
         5,
         "Nigeria",
         "2023-07-31"
        ],
        [
         "Canada vs Australia",
         5,
         5.0,
         5,
         "Canada",
         "2023-07-31"
        ],
        [
         "Canada vs Australia",
         5,
         5.0,
         5,
         "Singapore",
         "2023-07-31"
        ],
        [
         "UFC",
         4,
         9.5,
         6,
         "United_Kingdom",
         "2023-07-31"
        ],
        [
         "UFC",
         4,
         9.5,
         6,
         "Greece",
         "2023-07-31"
        ],
        [
         "UFC",
         4,
         9.5,
         6,
         "Ireland",
         "2023-07-31"
        ],
        [
         "UFC",
         4,
         9.5,
         6,
         "Netherlands",
         "2023-07-31"
        ],
        [
         "Niger",
         4,
         3.0,
         7,
         "France",
         "2023-07-31"
        ],
        [
         "Niger",
         4,
         3.0,
         7,
         "Norway",
         "2023-07-31"
        ],
        [
         "Niger",
         4,
         3.0,
         7,
         "Belgium",
         "2023-07-31"
        ],
        [
         "Niger",
         4,
         3.0,
         7,
         "Netherlands",
         "2023-07-31"
        ],
        [
         "Liverpool vs Leicester City",
         4,
         8.0,
         8,
         "South_Africa",
         "2023-07-31"
        ],
        [
         "Liverpool vs Leicester City",
         4,
         8.0,
         8,
         "Kenya",
         "2023-07-31"
        ],
        [
         "Liverpool vs Leicester City",
         4,
         8.0,
         8,
         "Nigeria",
         "2023-07-31"
        ],
        [
         "Liverpool vs Leicester City",
         4,
         8.0,
         8,
         "Malaysia",
         "2023-07-31"
        ],
        [
         "Japan vs Spain",
         4,
         6.5,
         9,
         "South_Africa",
         "2023-07-31"
        ],
        [
         "Japan vs Spain",
         4,
         6.5,
         9,
         "Philippines",
         "2023-07-31"
        ],
        [
         "Japan vs Spain",
         4,
         6.5,
         9,
         "Nigeria",
         "2023-07-31"
        ],
        [
         "Japan vs Spain",
         4,
         6.5,
         9,
         "Australia",
         "2023-07-31"
        ],
        [
         "Chelsea vs Fulham",
         4,
         5.75,
         10,
         "South_Africa",
         "2023-07-31"
        ],
        [
         "Chelsea vs Fulham",
         4,
         5.75,
         10,
         "New Zealand",
         "2023-07-31"
        ],
        [
         "Chelsea vs Fulham",
         4,
         5.75,
         10,
         "Malaysia",
         "2023-07-31"
        ],
        [
         "Chelsea vs Fulham",
         4,
         5.75,
         10,
         "Indonesia",
         "2023-07-31"
        ],
        [
         "Women's World Cup",
         3,
         6.0,
         11,
         "United_Kingdom",
         "2023-07-31"
        ],
        [
         "Women's World Cup",
         3,
         6.0,
         11,
         "Canada",
         "2023-07-31"
        ],
        [
         "Women's World Cup",
         3,
         6.0,
         11,
         "Denmark",
         "2023-07-31"
        ],
        [
         "Real Madrid",
         3,
         7.67,
         12,
         "Saudi_Arabia",
         "2023-07-31"
        ],
        [
         "Real Madrid",
         3,
         7.67,
         12,
         "France",
         "2023-07-31"
        ],
        [
         "Real Madrid",
         3,
         7.67,
         12,
         "Sweden",
         "2023-07-31"
        ],
        [
         "Manchester United – Dortmund",
         3,
         2.67,
         13,
         "France",
         "2023-07-31"
        ],
        [
         "Manchester United – Dortmund",
         3,
         2.67,
         13,
         "Switzerland",
         "2023-07-31"
        ],
        [
         "Manchester United – Dortmund",
         3,
         2.67,
         13,
         "Belgium",
         "2023-07-31"
        ],
        [
         "Manchester City vs Atlético Madrid",
         3,
         7.33,
         14,
         "Colombia",
         "2023-07-31"
        ],
        [
         "Manchester City vs Atlético Madrid",
         3,
         7.33,
         14,
         "Chile",
         "2023-07-31"
        ],
        [
         "Manchester City vs Atlético Madrid",
         3,
         7.33,
         14,
         "Argentina",
         "2023-07-31"
        ],
        [
         "David Raya",
         3,
         5.33,
         15,
         "Malaysia",
         "2023-07-31"
        ],
        [
         "David Raya",
         3,
         5.33,
         15,
         "Ireland",
         "2023-07-31"
        ],
        [
         "David Raya",
         3,
         5.33,
         15,
         "Singapore",
         "2023-07-31"
        ],
        [
         "Cluster headache",
         3,
         7.67,
         16,
         "Turkey",
         "2023-07-31"
        ],
        [
         "Cluster headache",
         3,
         7.67,
         16,
         "Denmark",
         "2023-07-31"
        ],
        [
         "Cluster headache",
         3,
         7.67,
         16,
         "Finland",
         "2023-07-31"
        ],
        [
         "Barcelona",
         3,
         9.67,
         17,
         "Norway",
         "2023-07-31"
        ],
        [
         "Barcelona",
         3,
         9.67,
         17,
         "Sweden",
         "2023-07-31"
        ],
        [
         "Barcelona",
         3,
         9.67,
         17,
         "Hungary",
         "2023-07-31"
        ],
        [
         "مان يونايتد ضد دورتموند",
         2,
         1.5,
         18,
         "Saudi_Arabia",
         "2023-07-31"
        ],
        [
         "مان يونايتد ضد دورتموند",
         2,
         1.5,
         18,
         "Egypt",
         "2023-07-31"
        ],
        [
         "Кривой Рог",
         2,
         1.0,
         19,
         "Ukraine",
         "2023-07-31"
        ],
        [
         "Кривой Рог",
         2,
         1.0,
         19,
         "Russia",
         "2023-07-31"
        ],
        [
         "Oshkosh plane crashes",
         2,
         8.0,
         20,
         "United_States",
         "2023-07-31"
        ],
        [
         "Oshkosh plane crashes",
         2,
         8.0,
         20,
         "United_Kingdom",
         "2023-07-31"
        ],
        [
         "Nouhaila Benzina",
         2,
         3.0,
         21,
         "Kenya",
         "2023-07-31"
        ],
        [
         "Nouhaila Benzina",
         2,
         3.0,
         21,
         "Belgium",
         "2023-07-31"
        ],
        [
         "Max Verstappen",
         2,
         8.0,
         22,
         "Canada",
         "2023-07-31"
        ],
        [
         "Max Verstappen",
         2,
         8.0,
         22,
         "India",
         "2023-07-31"
        ],
        [
         "Manchester United  Dortmund",
         2,
         5.0,
         23,
         "Colombia",
         "2023-07-31"
        ],
        [
         "Manchester United  Dortmund",
         2,
         5.0,
         23,
         "Chile",
         "2023-07-31"
        ],
        [
         "Man utd",
         2,
         5.0,
         24,
         "Australia",
         "2023-07-31"
        ],
        [
         "Man utd",
         2,
         5.0,
         24,
         "Sweden",
         "2023-07-31"
        ],
        [
         "Man City vs atlético Madrid",
         2,
         7.5,
         25,
         "South_Africa",
         "2023-07-31"
        ],
        [
         "Man City vs atlético Madrid",
         2,
         7.5,
         25,
         "Nigeria",
         "2023-07-31"
        ],
        [
         "Liverpool",
         2,
         7.0,
         26,
         "Norway",
         "2023-07-31"
        ],
        [
         "Liverpool",
         2,
         7.0,
         26,
         "Sweden",
         "2023-07-31"
        ],
        [
         "Iliman Ndiaye",
         2,
         7.5,
         27,
         "France",
         "2023-07-31"
        ],
        [
         "Iliman Ndiaye",
         2,
         7.5,
         27,
         "Belgium",
         "2023-07-31"
        ],
        [
         "Gremio",
         2,
         4.0,
         28,
         "Portugal",
         "2023-07-31"
        ],
        [
         "Gremio",
         2,
         4.0,
         28,
         "Brazil",
         "2023-07-31"
        ],
        [
         "Full moon August 2023",
         2,
         6.0,
         29,
         "Philippines",
         "2023-07-31"
        ],
        [
         "Full moon August 2023",
         2,
         6.0,
         29,
         "New Zealand",
         "2023-07-31"
        ],
        [
         "F1 Belgian Grand Prix",
         2,
         4.5,
         30,
         "Philippines",
         "2023-07-31"
        ],
        [
         "F1 Belgian Grand Prix",
         2,
         4.5,
         30,
         "Ireland",
         "2023-07-31"
        ],
        [
         "Dark Winds",
         2,
         3.5,
         31,
         "United_States",
         "2023-07-31"
        ],
        [
         "Dark Winds",
         2,
         3.5,
         31,
         "Canada",
         "2023-07-31"
        ],
        [
         "Chelsea – Fulham",
         2,
         6.0,
         32,
         "Switzerland",
         "2023-07-31"
        ],
        [
         "Chelsea – Fulham",
         2,
         6.0,
         32,
         "Finland",
         "2023-07-31"
        ],
        [
         "Baldur's Gate 3",
         2,
         1.5,
         33,
         "Russia",
         "2023-07-31"
        ],
        [
         "Baldur's Gate 3",
         2,
         1.5,
         33,
         "Finland",
         "2023-07-31"
        ],
        [
         "Aston Villa vs Brentford",
         2,
         8.5,
         34,
         "Kenya",
         "2023-07-31"
        ],
        [
         "Aston Villa vs Brentford",
         2,
         8.5,
         34,
         "Nigeria",
         "2023-07-31"
        ]
       ],
       "datasetInfos": [],
       "dbfsResultPath": null,
       "isJsonSchema": true,
       "metadata": {},
       "overflow": false,
       "plotOptions": {
        "customPlotOptions": {},
        "displayType": "table",
        "pivotAggregation": null,
        "pivotColumns": null,
        "xColumns": null,
        "yColumns": null
       },
       "removedWidgets": [],
       "schema": [
        {
         "metadata": "{\"__CHAR_VARCHAR_TYPE_STRING\":\"varchar(50)\"}",
         "name": "search_term",
         "type": "\"string\""
        },
        {
         "metadata": "{}",
         "name": "trend_cntry_count",
         "type": "\"long\""
        },
        {
         "metadata": "{}",
         "name": "avg_cntry_trend_rank",
         "type": "\"double\""
        },
        {
         "metadata": "{}",
         "name": "ranking",
         "type": "\"integer\""
        },
        {
         "metadata": "{}",
         "name": "country",
         "type": "\"string\""
        },
        {
         "metadata": "{}",
         "name": "data_as_of_date",
         "type": "\"date\""
        }
       ],
       "type": "table"
      }
     },
     "output_type": "display_data"
    }
   ],
   "source": [
    "%sql\n",
    "--New columns:\n",
    "--Adding column with count of countries where term is trending\n",
    "--Average of trending term rank in each country\n",
    "--Ranking each term based on previous 2 columns\n",
    "\n",
    "select search_term, trend_cntry_count, avg_cntry_trend_rank, dense_rank() over (order by trend_cntry_count desc, search_term desc) as ranking, country, data_as_of_date \n",
    "from (select search_term, \n",
    "count(country) over (partition by search_term) as trend_cntry_count, \n",
    "round(avg(rank) over (partition by search_term), 2) as avg_cntry_trend_rank, \n",
    "country, data_as_of_date\n",
    "from trending_searches.countries_trending_searches order by trend_cntry_count desc)\n",
    "where trend_cntry_count > 1"
   ]
  },
  {
   "cell_type": "code",
   "execution_count": 0,
   "metadata": {
    "application/vnd.databricks.v1+cell": {
     "cellMetadata": {
      "byteLimit": 2048000,
      "implicitDf": true,
      "rowLimit": 10000
     },
     "inputWidgets": {},
     "nuid": "22a0244d-507f-4ca2-8d2a-cba54b425682",
     "showTitle": false,
     "title": ""
    }
   },
   "outputs": [
    {
     "output_type": "display_data",
     "data": {
      "text/html": [
       "<style scoped>\n",
       "  .table-result-container {\n",
       "    max-height: 300px;\n",
       "    overflow: auto;\n",
       "  }\n",
       "  table, th, td {\n",
       "    border: 1px solid black;\n",
       "    border-collapse: collapse;\n",
       "  }\n",
       "  th, td {\n",
       "    padding: 5px;\n",
       "  }\n",
       "  th {\n",
       "    text-align: left;\n",
       "  }\n",
       "</style><div class='table-result-container'><table class='table-result'><thead style='background-color: white'><tr><th>search_term</th><th>trend_cntry_count</th><th>avg_cntry_trend_rank</th><th>ranking</th><th>data_as_of_date</th></tr></thead><tbody><tr><td>Man United vs Dortmund</td><td>13</td><td>3.46</td><td>1</td><td>2023-07-31</td></tr><tr><td>Chelsea</td><td>11</td><td>3.0</td><td>2</td><td>2023-07-31</td></tr><tr><td>Dembele</td><td>8</td><td>4.13</td><td>3</td><td>2023-07-31</td></tr><tr><td>Canada vs Australia</td><td>5</td><td>5.0</td><td>4</td><td>2023-07-31</td></tr><tr><td>Manchester United</td><td>5</td><td>2.0</td><td>5</td><td>2023-07-31</td></tr><tr><td>Chelsea vs Fulham</td><td>4</td><td>5.75</td><td>6</td><td>2023-07-31</td></tr><tr><td>Japan vs Spain</td><td>4</td><td>6.5</td><td>7</td><td>2023-07-31</td></tr><tr><td>Liverpool vs Leicester City</td><td>4</td><td>8.0</td><td>8</td><td>2023-07-31</td></tr><tr><td>Niger</td><td>4</td><td>3.0</td><td>9</td><td>2023-07-31</td></tr><tr><td>UFC</td><td>4</td><td>9.5</td><td>10</td><td>2023-07-31</td></tr><tr><td>Barcelona</td><td>3</td><td>9.67</td><td>11</td><td>2023-07-31</td></tr><tr><td>Cluster headache</td><td>3</td><td>7.67</td><td>12</td><td>2023-07-31</td></tr><tr><td>David Raya</td><td>3</td><td>5.33</td><td>13</td><td>2023-07-31</td></tr><tr><td>Manchester City vs Atlético Madrid</td><td>3</td><td>7.33</td><td>14</td><td>2023-07-31</td></tr><tr><td>Manchester United – Dortmund</td><td>3</td><td>2.67</td><td>15</td><td>2023-07-31</td></tr><tr><td>Real Madrid</td><td>3</td><td>7.67</td><td>16</td><td>2023-07-31</td></tr><tr><td>Women's World Cup</td><td>3</td><td>6.0</td><td>17</td><td>2023-07-31</td></tr><tr><td>Aston Villa vs Brentford</td><td>2</td><td>8.5</td><td>18</td><td>2023-07-31</td></tr><tr><td>Baldur's Gate 3</td><td>2</td><td>1.5</td><td>19</td><td>2023-07-31</td></tr><tr><td>Chelsea – Fulham</td><td>2</td><td>6.0</td><td>20</td><td>2023-07-31</td></tr><tr><td>Dark Winds</td><td>2</td><td>3.5</td><td>21</td><td>2023-07-31</td></tr><tr><td>F1 Belgian Grand Prix</td><td>2</td><td>4.5</td><td>22</td><td>2023-07-31</td></tr><tr><td>Full moon August 2023</td><td>2</td><td>6.0</td><td>23</td><td>2023-07-31</td></tr><tr><td>Gremio</td><td>2</td><td>4.0</td><td>24</td><td>2023-07-31</td></tr><tr><td>Iliman Ndiaye</td><td>2</td><td>7.5</td><td>25</td><td>2023-07-31</td></tr><tr><td>Liverpool</td><td>2</td><td>7.0</td><td>26</td><td>2023-07-31</td></tr><tr><td>Man City vs atlético Madrid</td><td>2</td><td>7.5</td><td>27</td><td>2023-07-31</td></tr><tr><td>Man utd</td><td>2</td><td>5.0</td><td>28</td><td>2023-07-31</td></tr><tr><td>Manchester United  Dortmund</td><td>2</td><td>5.0</td><td>29</td><td>2023-07-31</td></tr><tr><td>Max Verstappen</td><td>2</td><td>8.0</td><td>30</td><td>2023-07-31</td></tr><tr><td>Nouhaila Benzina</td><td>2</td><td>3.0</td><td>31</td><td>2023-07-31</td></tr><tr><td>Oshkosh plane crashes</td><td>2</td><td>8.0</td><td>32</td><td>2023-07-31</td></tr><tr><td>Кривой Рог</td><td>2</td><td>1.0</td><td>33</td><td>2023-07-31</td></tr><tr><td>مان يونايتد ضد دورتموند</td><td>2</td><td>1.5</td><td>34</td><td>2023-07-31</td></tr></tbody></table></div>"
      ]
     },
     "metadata": {
      "application/vnd.databricks.v1+output": {
       "addedWidgets": {},
       "aggData": [],
       "aggError": "",
       "aggOverflow": false,
       "aggSchema": [],
       "aggSeriesLimitReached": false,
       "aggType": "",
       "arguments": {},
       "columnCustomDisplayInfos": {},
       "data": [
        [
         "Man United vs Dortmund",
         13,
         3.46,
         1,
         "2023-07-31"
        ],
        [
         "Chelsea",
         11,
         3.0,
         2,
         "2023-07-31"
        ],
        [
         "Dembele",
         8,
         4.13,
         3,
         "2023-07-31"
        ],
        [
         "Canada vs Australia",
         5,
         5.0,
         4,
         "2023-07-31"
        ],
        [
         "Manchester United",
         5,
         2.0,
         5,
         "2023-07-31"
        ],
        [
         "Chelsea vs Fulham",
         4,
         5.75,
         6,
         "2023-07-31"
        ],
        [
         "Japan vs Spain",
         4,
         6.5,
         7,
         "2023-07-31"
        ],
        [
         "Liverpool vs Leicester City",
         4,
         8.0,
         8,
         "2023-07-31"
        ],
        [
         "Niger",
         4,
         3.0,
         9,
         "2023-07-31"
        ],
        [
         "UFC",
         4,
         9.5,
         10,
         "2023-07-31"
        ],
        [
         "Barcelona",
         3,
         9.67,
         11,
         "2023-07-31"
        ],
        [
         "Cluster headache",
         3,
         7.67,
         12,
         "2023-07-31"
        ],
        [
         "David Raya",
         3,
         5.33,
         13,
         "2023-07-31"
        ],
        [
         "Manchester City vs Atlético Madrid",
         3,
         7.33,
         14,
         "2023-07-31"
        ],
        [
         "Manchester United – Dortmund",
         3,
         2.67,
         15,
         "2023-07-31"
        ],
        [
         "Real Madrid",
         3,
         7.67,
         16,
         "2023-07-31"
        ],
        [
         "Women's World Cup",
         3,
         6.0,
         17,
         "2023-07-31"
        ],
        [
         "Aston Villa vs Brentford",
         2,
         8.5,
         18,
         "2023-07-31"
        ],
        [
         "Baldur's Gate 3",
         2,
         1.5,
         19,
         "2023-07-31"
        ],
        [
         "Chelsea – Fulham",
         2,
         6.0,
         20,
         "2023-07-31"
        ],
        [
         "Dark Winds",
         2,
         3.5,
         21,
         "2023-07-31"
        ],
        [
         "F1 Belgian Grand Prix",
         2,
         4.5,
         22,
         "2023-07-31"
        ],
        [
         "Full moon August 2023",
         2,
         6.0,
         23,
         "2023-07-31"
        ],
        [
         "Gremio",
         2,
         4.0,
         24,
         "2023-07-31"
        ],
        [
         "Iliman Ndiaye",
         2,
         7.5,
         25,
         "2023-07-31"
        ],
        [
         "Liverpool",
         2,
         7.0,
         26,
         "2023-07-31"
        ],
        [
         "Man City vs atlético Madrid",
         2,
         7.5,
         27,
         "2023-07-31"
        ],
        [
         "Man utd",
         2,
         5.0,
         28,
         "2023-07-31"
        ],
        [
         "Manchester United  Dortmund",
         2,
         5.0,
         29,
         "2023-07-31"
        ],
        [
         "Max Verstappen",
         2,
         8.0,
         30,
         "2023-07-31"
        ],
        [
         "Nouhaila Benzina",
         2,
         3.0,
         31,
         "2023-07-31"
        ],
        [
         "Oshkosh plane crashes",
         2,
         8.0,
         32,
         "2023-07-31"
        ],
        [
         "Кривой Рог",
         2,
         1.0,
         33,
         "2023-07-31"
        ],
        [
         "مان يونايتد ضد دورتموند",
         2,
         1.5,
         34,
         "2023-07-31"
        ]
       ],
       "datasetInfos": [],
       "dbfsResultPath": null,
       "isJsonSchema": true,
       "metadata": {},
       "overflow": false,
       "plotOptions": {
        "customPlotOptions": {},
        "displayType": "table",
        "pivotAggregation": null,
        "pivotColumns": null,
        "xColumns": null,
        "yColumns": null
       },
       "removedWidgets": [],
       "schema": [
        {
         "metadata": "{\"__CHAR_VARCHAR_TYPE_STRING\":\"varchar(50)\"}",
         "name": "search_term",
         "type": "\"string\""
        },
        {
         "metadata": "{}",
         "name": "trend_cntry_count",
         "type": "\"long\""
        },
        {
         "metadata": "{}",
         "name": "avg_cntry_trend_rank",
         "type": "\"double\""
        },
        {
         "metadata": "{}",
         "name": "ranking",
         "type": "\"integer\""
        },
        {
         "metadata": "{}",
         "name": "data_as_of_date",
         "type": "\"date\""
        }
       ],
       "type": "table"
      }
     },
     "output_type": "display_data"
    }
   ],
   "source": [
    "%sql\n",
    "\n",
    "--Removing country col to focus on trending search\n",
    "\n",
    "select distinct search_term, trend_cntry_count, avg_cntry_trend_rank, dense_rank() over (order by trend_cntry_count desc,search_term asc) as ranking, data_as_of_date \n",
    "from (select search_term, \n",
    "count(country) over (partition by search_term) as trend_cntry_count, \n",
    "round(avg(rank) over (partition by search_term), 2) as avg_cntry_trend_rank, \n",
    "country, data_as_of_date\n",
    "from trending_searches.countries_trending_searches order by trend_cntry_count desc)\n",
    "where trend_cntry_count > 1"
   ]
  },
  {
   "cell_type": "code",
   "execution_count": 0,
   "metadata": {
    "application/vnd.databricks.v1+cell": {
     "cellMetadata": {
      "byteLimit": 2048000,
      "rowLimit": 10000
     },
     "inputWidgets": {},
     "nuid": "a9bd4fe9-0d15-437a-9faf-184ab0ca4978",
     "showTitle": true,
     "title": "Transformation_2 in data frame - Doing above operations in spark data frame"
    }
   },
   "outputs": [
    {
     "output_type": "display_data",
     "data": {
      "text/html": [
       "<style scoped>\n",
       "  .table-result-container {\n",
       "    max-height: 300px;\n",
       "    overflow: auto;\n",
       "  }\n",
       "  table, th, td {\n",
       "    border: 1px solid black;\n",
       "    border-collapse: collapse;\n",
       "  }\n",
       "  th, td {\n",
       "    padding: 5px;\n",
       "  }\n",
       "  th {\n",
       "    text-align: left;\n",
       "  }\n",
       "</style><div class='table-result-container'><table class='table-result'><thead style='background-color: white'><tr><th>search_term</th><th>trend_cntry_count</th><th>avg_cntry_trend_rank</th><th>ranking</th><th>country</th><th>data_as_of_date</th></tr></thead><tbody><tr><td>Man United vs Dortmund</td><td>13</td><td>3.46</td><td>1</td><td>Australia</td><td>2023-07-31</td></tr><tr><td>Man United vs Dortmund</td><td>13</td><td>3.46</td><td>1</td><td>Canada</td><td>2023-07-31</td></tr><tr><td>Man United vs Dortmund</td><td>13</td><td>3.46</td><td>1</td><td>India</td><td>2023-07-31</td></tr><tr><td>Man United vs Dortmund</td><td>13</td><td>3.46</td><td>1</td><td>Ireland</td><td>2023-07-31</td></tr><tr><td>Man United vs Dortmund</td><td>13</td><td>3.46</td><td>1</td><td>Kenya</td><td>2023-07-31</td></tr><tr><td>Man United vs Dortmund</td><td>13</td><td>3.46</td><td>1</td><td>Malaysia</td><td>2023-07-31</td></tr><tr><td>Man United vs Dortmund</td><td>13</td><td>3.46</td><td>1</td><td>New Zealand</td><td>2023-07-31</td></tr><tr><td>Man United vs Dortmund</td><td>13</td><td>3.46</td><td>1</td><td>Nigeria</td><td>2023-07-31</td></tr><tr><td>Man United vs Dortmund</td><td>13</td><td>3.46</td><td>1</td><td>Philippines</td><td>2023-07-31</td></tr><tr><td>Man United vs Dortmund</td><td>13</td><td>3.46</td><td>1</td><td>Romania</td><td>2023-07-31</td></tr><tr><td>Man United vs Dortmund</td><td>13</td><td>3.46</td><td>1</td><td>Singapore</td><td>2023-07-31</td></tr><tr><td>Man United vs Dortmund</td><td>13</td><td>3.46</td><td>1</td><td>South_Africa</td><td>2023-07-31</td></tr><tr><td>Man United vs Dortmund</td><td>13</td><td>3.46</td><td>1</td><td>United_Kingdom</td><td>2023-07-31</td></tr><tr><td>Chelsea</td><td>11</td><td>3.0</td><td>2</td><td>Canada</td><td>2023-07-31</td></tr><tr><td>Chelsea</td><td>11</td><td>3.0</td><td>2</td><td>Denmark</td><td>2023-07-31</td></tr><tr><td>Chelsea</td><td>11</td><td>3.0</td><td>2</td><td>Kenya</td><td>2023-07-31</td></tr><tr><td>Chelsea</td><td>11</td><td>3.0</td><td>2</td><td>Malaysia</td><td>2023-07-31</td></tr><tr><td>Chelsea</td><td>11</td><td>3.0</td><td>2</td><td>New Zealand</td><td>2023-07-31</td></tr><tr><td>Chelsea</td><td>11</td><td>3.0</td><td>2</td><td>Nigeria</td><td>2023-07-31</td></tr><tr><td>Chelsea</td><td>11</td><td>3.0</td><td>2</td><td>Norway</td><td>2023-07-31</td></tr><tr><td>Chelsea</td><td>11</td><td>3.0</td><td>2</td><td>Portugal</td><td>2023-07-31</td></tr><tr><td>Chelsea</td><td>11</td><td>3.0</td><td>2</td><td>Singapore</td><td>2023-07-31</td></tr><tr><td>Chelsea</td><td>11</td><td>3.0</td><td>2</td><td>South_Africa</td><td>2023-07-31</td></tr><tr><td>Chelsea</td><td>11</td><td>3.0</td><td>2</td><td>United_Kingdom</td><td>2023-07-31</td></tr><tr><td>Dembele</td><td>8</td><td>4.13</td><td>3</td><td>Argentina</td><td>2023-07-31</td></tr><tr><td>Dembele</td><td>8</td><td>4.13</td><td>3</td><td>Austria</td><td>2023-07-31</td></tr><tr><td>Dembele</td><td>8</td><td>4.13</td><td>3</td><td>Chile</td><td>2023-07-31</td></tr><tr><td>Dembele</td><td>8</td><td>4.13</td><td>3</td><td>Colombia</td><td>2023-07-31</td></tr><tr><td>Dembele</td><td>8</td><td>4.13</td><td>3</td><td>France</td><td>2023-07-31</td></tr><tr><td>Dembele</td><td>8</td><td>4.13</td><td>3</td><td>Mexico</td><td>2023-07-31</td></tr><tr><td>Dembele</td><td>8</td><td>4.13</td><td>3</td><td>Poland</td><td>2023-07-31</td></tr><tr><td>Dembele</td><td>8</td><td>4.13</td><td>3</td><td>Switzerland</td><td>2023-07-31</td></tr><tr><td>Manchester United</td><td>5</td><td>2.0</td><td>4</td><td>Argentina</td><td>2023-07-31</td></tr><tr><td>Manchester United</td><td>5</td><td>2.0</td><td>4</td><td>Mexico</td><td>2023-07-31</td></tr><tr><td>Manchester United</td><td>5</td><td>2.0</td><td>4</td><td>New Zealand</td><td>2023-07-31</td></tr><tr><td>Manchester United</td><td>5</td><td>2.0</td><td>4</td><td>Portugal</td><td>2023-07-31</td></tr><tr><td>Manchester United</td><td>5</td><td>2.0</td><td>4</td><td>United_States</td><td>2023-07-31</td></tr><tr><td>Canada vs Australia</td><td>5</td><td>5.0</td><td>5</td><td>Canada</td><td>2023-07-31</td></tr><tr><td>Canada vs Australia</td><td>5</td><td>5.0</td><td>5</td><td>Kenya</td><td>2023-07-31</td></tr><tr><td>Canada vs Australia</td><td>5</td><td>5.0</td><td>5</td><td>Nigeria</td><td>2023-07-31</td></tr><tr><td>Canada vs Australia</td><td>5</td><td>5.0</td><td>5</td><td>Singapore</td><td>2023-07-31</td></tr><tr><td>Canada vs Australia</td><td>5</td><td>5.0</td><td>5</td><td>South_Africa</td><td>2023-07-31</td></tr><tr><td>UFC</td><td>4</td><td>9.5</td><td>6</td><td>Greece</td><td>2023-07-31</td></tr><tr><td>UFC</td><td>4</td><td>9.5</td><td>6</td><td>Ireland</td><td>2023-07-31</td></tr><tr><td>UFC</td><td>4</td><td>9.5</td><td>6</td><td>Netherlands</td><td>2023-07-31</td></tr><tr><td>UFC</td><td>4</td><td>9.5</td><td>6</td><td>United_Kingdom</td><td>2023-07-31</td></tr><tr><td>Niger</td><td>4</td><td>3.0</td><td>7</td><td>Belgium</td><td>2023-07-31</td></tr><tr><td>Niger</td><td>4</td><td>3.0</td><td>7</td><td>France</td><td>2023-07-31</td></tr><tr><td>Niger</td><td>4</td><td>3.0</td><td>7</td><td>Netherlands</td><td>2023-07-31</td></tr><tr><td>Niger</td><td>4</td><td>3.0</td><td>7</td><td>Norway</td><td>2023-07-31</td></tr><tr><td>Liverpool vs Leicester City</td><td>4</td><td>8.0</td><td>8</td><td>Kenya</td><td>2023-07-31</td></tr><tr><td>Liverpool vs Leicester City</td><td>4</td><td>8.0</td><td>8</td><td>Malaysia</td><td>2023-07-31</td></tr><tr><td>Liverpool vs Leicester City</td><td>4</td><td>8.0</td><td>8</td><td>Nigeria</td><td>2023-07-31</td></tr><tr><td>Liverpool vs Leicester City</td><td>4</td><td>8.0</td><td>8</td><td>South_Africa</td><td>2023-07-31</td></tr><tr><td>Japan vs Spain</td><td>4</td><td>6.5</td><td>9</td><td>Australia</td><td>2023-07-31</td></tr><tr><td>Japan vs Spain</td><td>4</td><td>6.5</td><td>9</td><td>Nigeria</td><td>2023-07-31</td></tr><tr><td>Japan vs Spain</td><td>4</td><td>6.5</td><td>9</td><td>Philippines</td><td>2023-07-31</td></tr><tr><td>Japan vs Spain</td><td>4</td><td>6.5</td><td>9</td><td>South_Africa</td><td>2023-07-31</td></tr><tr><td>Chelsea vs Fulham</td><td>4</td><td>5.75</td><td>10</td><td>Indonesia</td><td>2023-07-31</td></tr><tr><td>Chelsea vs Fulham</td><td>4</td><td>5.75</td><td>10</td><td>Malaysia</td><td>2023-07-31</td></tr><tr><td>Chelsea vs Fulham</td><td>4</td><td>5.75</td><td>10</td><td>New Zealand</td><td>2023-07-31</td></tr><tr><td>Chelsea vs Fulham</td><td>4</td><td>5.75</td><td>10</td><td>South_Africa</td><td>2023-07-31</td></tr><tr><td>Women's World Cup</td><td>3</td><td>6.0</td><td>11</td><td>Canada</td><td>2023-07-31</td></tr><tr><td>Women's World Cup</td><td>3</td><td>6.0</td><td>11</td><td>Denmark</td><td>2023-07-31</td></tr><tr><td>Women's World Cup</td><td>3</td><td>6.0</td><td>11</td><td>United_Kingdom</td><td>2023-07-31</td></tr><tr><td>Real Madrid</td><td>3</td><td>7.67</td><td>12</td><td>France</td><td>2023-07-31</td></tr><tr><td>Real Madrid</td><td>3</td><td>7.67</td><td>12</td><td>Saudi_Arabia</td><td>2023-07-31</td></tr><tr><td>Real Madrid</td><td>3</td><td>7.67</td><td>12</td><td>Sweden</td><td>2023-07-31</td></tr><tr><td>Manchester United – Dortmund</td><td>3</td><td>2.67</td><td>13</td><td>Belgium</td><td>2023-07-31</td></tr><tr><td>Manchester United – Dortmund</td><td>3</td><td>2.67</td><td>13</td><td>France</td><td>2023-07-31</td></tr><tr><td>Manchester United – Dortmund</td><td>3</td><td>2.67</td><td>13</td><td>Switzerland</td><td>2023-07-31</td></tr><tr><td>Manchester City vs Atlético Madrid</td><td>3</td><td>7.33</td><td>14</td><td>Argentina</td><td>2023-07-31</td></tr><tr><td>Manchester City vs Atlético Madrid</td><td>3</td><td>7.33</td><td>14</td><td>Chile</td><td>2023-07-31</td></tr><tr><td>Manchester City vs Atlético Madrid</td><td>3</td><td>7.33</td><td>14</td><td>Colombia</td><td>2023-07-31</td></tr><tr><td>David Raya</td><td>3</td><td>5.33</td><td>15</td><td>Ireland</td><td>2023-07-31</td></tr><tr><td>David Raya</td><td>3</td><td>5.33</td><td>15</td><td>Malaysia</td><td>2023-07-31</td></tr><tr><td>David Raya</td><td>3</td><td>5.33</td><td>15</td><td>Singapore</td><td>2023-07-31</td></tr><tr><td>Cluster headache</td><td>3</td><td>7.67</td><td>16</td><td>Denmark</td><td>2023-07-31</td></tr><tr><td>Cluster headache</td><td>3</td><td>7.67</td><td>16</td><td>Finland</td><td>2023-07-31</td></tr><tr><td>Cluster headache</td><td>3</td><td>7.67</td><td>16</td><td>Turkey</td><td>2023-07-31</td></tr><tr><td>Barcelona</td><td>3</td><td>9.67</td><td>17</td><td>Hungary</td><td>2023-07-31</td></tr><tr><td>Barcelona</td><td>3</td><td>9.67</td><td>17</td><td>Norway</td><td>2023-07-31</td></tr><tr><td>Barcelona</td><td>3</td><td>9.67</td><td>17</td><td>Sweden</td><td>2023-07-31</td></tr><tr><td>مان يونايتد ضد دورتموند</td><td>2</td><td>1.5</td><td>18</td><td>Egypt</td><td>2023-07-31</td></tr><tr><td>مان يونايتد ضد دورتموند</td><td>2</td><td>1.5</td><td>18</td><td>Saudi_Arabia</td><td>2023-07-31</td></tr><tr><td>Кривой Рог</td><td>2</td><td>1.0</td><td>19</td><td>Russia</td><td>2023-07-31</td></tr><tr><td>Кривой Рог</td><td>2</td><td>1.0</td><td>19</td><td>Ukraine</td><td>2023-07-31</td></tr><tr><td>Oshkosh plane crashes</td><td>2</td><td>8.0</td><td>20</td><td>United_Kingdom</td><td>2023-07-31</td></tr><tr><td>Oshkosh plane crashes</td><td>2</td><td>8.0</td><td>20</td><td>United_States</td><td>2023-07-31</td></tr><tr><td>Nouhaila Benzina</td><td>2</td><td>3.0</td><td>21</td><td>Belgium</td><td>2023-07-31</td></tr><tr><td>Nouhaila Benzina</td><td>2</td><td>3.0</td><td>21</td><td>Kenya</td><td>2023-07-31</td></tr><tr><td>Max Verstappen</td><td>2</td><td>8.0</td><td>22</td><td>Canada</td><td>2023-07-31</td></tr><tr><td>Max Verstappen</td><td>2</td><td>8.0</td><td>22</td><td>India</td><td>2023-07-31</td></tr><tr><td>Manchester United  Dortmund</td><td>2</td><td>5.0</td><td>23</td><td>Chile</td><td>2023-07-31</td></tr><tr><td>Manchester United  Dortmund</td><td>2</td><td>5.0</td><td>23</td><td>Colombia</td><td>2023-07-31</td></tr><tr><td>Man utd</td><td>2</td><td>5.0</td><td>24</td><td>Australia</td><td>2023-07-31</td></tr><tr><td>Man utd</td><td>2</td><td>5.0</td><td>24</td><td>Sweden</td><td>2023-07-31</td></tr><tr><td>Man City vs atlético Madrid</td><td>2</td><td>7.5</td><td>25</td><td>Nigeria</td><td>2023-07-31</td></tr><tr><td>Man City vs atlético Madrid</td><td>2</td><td>7.5</td><td>25</td><td>South_Africa</td><td>2023-07-31</td></tr><tr><td>Liverpool</td><td>2</td><td>7.0</td><td>26</td><td>Norway</td><td>2023-07-31</td></tr><tr><td>Liverpool</td><td>2</td><td>7.0</td><td>26</td><td>Sweden</td><td>2023-07-31</td></tr><tr><td>Iliman Ndiaye</td><td>2</td><td>7.5</td><td>27</td><td>Belgium</td><td>2023-07-31</td></tr><tr><td>Iliman Ndiaye</td><td>2</td><td>7.5</td><td>27</td><td>France</td><td>2023-07-31</td></tr><tr><td>Gremio</td><td>2</td><td>4.0</td><td>28</td><td>Brazil</td><td>2023-07-31</td></tr><tr><td>Gremio</td><td>2</td><td>4.0</td><td>28</td><td>Portugal</td><td>2023-07-31</td></tr><tr><td>Full moon August 2023</td><td>2</td><td>6.0</td><td>29</td><td>New Zealand</td><td>2023-07-31</td></tr><tr><td>Full moon August 2023</td><td>2</td><td>6.0</td><td>29</td><td>Philippines</td><td>2023-07-31</td></tr><tr><td>F1 Belgian Grand Prix</td><td>2</td><td>4.5</td><td>30</td><td>Ireland</td><td>2023-07-31</td></tr><tr><td>F1 Belgian Grand Prix</td><td>2</td><td>4.5</td><td>30</td><td>Philippines</td><td>2023-07-31</td></tr><tr><td>Dark Winds</td><td>2</td><td>3.5</td><td>31</td><td>Canada</td><td>2023-07-31</td></tr><tr><td>Dark Winds</td><td>2</td><td>3.5</td><td>31</td><td>United_States</td><td>2023-07-31</td></tr><tr><td>Chelsea – Fulham</td><td>2</td><td>6.0</td><td>32</td><td>Finland</td><td>2023-07-31</td></tr><tr><td>Chelsea – Fulham</td><td>2</td><td>6.0</td><td>32</td><td>Switzerland</td><td>2023-07-31</td></tr><tr><td>Baldur's Gate 3</td><td>2</td><td>1.5</td><td>33</td><td>Finland</td><td>2023-07-31</td></tr><tr><td>Baldur's Gate 3</td><td>2</td><td>1.5</td><td>33</td><td>Russia</td><td>2023-07-31</td></tr><tr><td>Aston Villa vs Brentford</td><td>2</td><td>8.5</td><td>34</td><td>Kenya</td><td>2023-07-31</td></tr><tr><td>Aston Villa vs Brentford</td><td>2</td><td>8.5</td><td>34</td><td>Nigeria</td><td>2023-07-31</td></tr></tbody></table></div>"
      ]
     },
     "metadata": {
      "application/vnd.databricks.v1+output": {
       "addedWidgets": {},
       "aggData": [],
       "aggError": "",
       "aggOverflow": false,
       "aggSchema": [],
       "aggSeriesLimitReached": false,
       "aggType": "",
       "arguments": {},
       "columnCustomDisplayInfos": {},
       "data": [
        [
         "Man United vs Dortmund",
         13,
         3.46,
         1,
         "Australia",
         "2023-07-31"
        ],
        [
         "Man United vs Dortmund",
         13,
         3.46,
         1,
         "Canada",
         "2023-07-31"
        ],
        [
         "Man United vs Dortmund",
         13,
         3.46,
         1,
         "India",
         "2023-07-31"
        ],
        [
         "Man United vs Dortmund",
         13,
         3.46,
         1,
         "Ireland",
         "2023-07-31"
        ],
        [
         "Man United vs Dortmund",
         13,
         3.46,
         1,
         "Kenya",
         "2023-07-31"
        ],
        [
         "Man United vs Dortmund",
         13,
         3.46,
         1,
         "Malaysia",
         "2023-07-31"
        ],
        [
         "Man United vs Dortmund",
         13,
         3.46,
         1,
         "New Zealand",
         "2023-07-31"
        ],
        [
         "Man United vs Dortmund",
         13,
         3.46,
         1,
         "Nigeria",
         "2023-07-31"
        ],
        [
         "Man United vs Dortmund",
         13,
         3.46,
         1,
         "Philippines",
         "2023-07-31"
        ],
        [
         "Man United vs Dortmund",
         13,
         3.46,
         1,
         "Romania",
         "2023-07-31"
        ],
        [
         "Man United vs Dortmund",
         13,
         3.46,
         1,
         "Singapore",
         "2023-07-31"
        ],
        [
         "Man United vs Dortmund",
         13,
         3.46,
         1,
         "South_Africa",
         "2023-07-31"
        ],
        [
         "Man United vs Dortmund",
         13,
         3.46,
         1,
         "United_Kingdom",
         "2023-07-31"
        ],
        [
         "Chelsea",
         11,
         3.0,
         2,
         "Canada",
         "2023-07-31"
        ],
        [
         "Chelsea",
         11,
         3.0,
         2,
         "Denmark",
         "2023-07-31"
        ],
        [
         "Chelsea",
         11,
         3.0,
         2,
         "Kenya",
         "2023-07-31"
        ],
        [
         "Chelsea",
         11,
         3.0,
         2,
         "Malaysia",
         "2023-07-31"
        ],
        [
         "Chelsea",
         11,
         3.0,
         2,
         "New Zealand",
         "2023-07-31"
        ],
        [
         "Chelsea",
         11,
         3.0,
         2,
         "Nigeria",
         "2023-07-31"
        ],
        [
         "Chelsea",
         11,
         3.0,
         2,
         "Norway",
         "2023-07-31"
        ],
        [
         "Chelsea",
         11,
         3.0,
         2,
         "Portugal",
         "2023-07-31"
        ],
        [
         "Chelsea",
         11,
         3.0,
         2,
         "Singapore",
         "2023-07-31"
        ],
        [
         "Chelsea",
         11,
         3.0,
         2,
         "South_Africa",
         "2023-07-31"
        ],
        [
         "Chelsea",
         11,
         3.0,
         2,
         "United_Kingdom",
         "2023-07-31"
        ],
        [
         "Dembele",
         8,
         4.13,
         3,
         "Argentina",
         "2023-07-31"
        ],
        [
         "Dembele",
         8,
         4.13,
         3,
         "Austria",
         "2023-07-31"
        ],
        [
         "Dembele",
         8,
         4.13,
         3,
         "Chile",
         "2023-07-31"
        ],
        [
         "Dembele",
         8,
         4.13,
         3,
         "Colombia",
         "2023-07-31"
        ],
        [
         "Dembele",
         8,
         4.13,
         3,
         "France",
         "2023-07-31"
        ],
        [
         "Dembele",
         8,
         4.13,
         3,
         "Mexico",
         "2023-07-31"
        ],
        [
         "Dembele",
         8,
         4.13,
         3,
         "Poland",
         "2023-07-31"
        ],
        [
         "Dembele",
         8,
         4.13,
         3,
         "Switzerland",
         "2023-07-31"
        ],
        [
         "Manchester United",
         5,
         2.0,
         4,
         "Argentina",
         "2023-07-31"
        ],
        [
         "Manchester United",
         5,
         2.0,
         4,
         "Mexico",
         "2023-07-31"
        ],
        [
         "Manchester United",
         5,
         2.0,
         4,
         "New Zealand",
         "2023-07-31"
        ],
        [
         "Manchester United",
         5,
         2.0,
         4,
         "Portugal",
         "2023-07-31"
        ],
        [
         "Manchester United",
         5,
         2.0,
         4,
         "United_States",
         "2023-07-31"
        ],
        [
         "Canada vs Australia",
         5,
         5.0,
         5,
         "Canada",
         "2023-07-31"
        ],
        [
         "Canada vs Australia",
         5,
         5.0,
         5,
         "Kenya",
         "2023-07-31"
        ],
        [
         "Canada vs Australia",
         5,
         5.0,
         5,
         "Nigeria",
         "2023-07-31"
        ],
        [
         "Canada vs Australia",
         5,
         5.0,
         5,
         "Singapore",
         "2023-07-31"
        ],
        [
         "Canada vs Australia",
         5,
         5.0,
         5,
         "South_Africa",
         "2023-07-31"
        ],
        [
         "UFC",
         4,
         9.5,
         6,
         "Greece",
         "2023-07-31"
        ],
        [
         "UFC",
         4,
         9.5,
         6,
         "Ireland",
         "2023-07-31"
        ],
        [
         "UFC",
         4,
         9.5,
         6,
         "Netherlands",
         "2023-07-31"
        ],
        [
         "UFC",
         4,
         9.5,
         6,
         "United_Kingdom",
         "2023-07-31"
        ],
        [
         "Niger",
         4,
         3.0,
         7,
         "Belgium",
         "2023-07-31"
        ],
        [
         "Niger",
         4,
         3.0,
         7,
         "France",
         "2023-07-31"
        ],
        [
         "Niger",
         4,
         3.0,
         7,
         "Netherlands",
         "2023-07-31"
        ],
        [
         "Niger",
         4,
         3.0,
         7,
         "Norway",
         "2023-07-31"
        ],
        [
         "Liverpool vs Leicester City",
         4,
         8.0,
         8,
         "Kenya",
         "2023-07-31"
        ],
        [
         "Liverpool vs Leicester City",
         4,
         8.0,
         8,
         "Malaysia",
         "2023-07-31"
        ],
        [
         "Liverpool vs Leicester City",
         4,
         8.0,
         8,
         "Nigeria",
         "2023-07-31"
        ],
        [
         "Liverpool vs Leicester City",
         4,
         8.0,
         8,
         "South_Africa",
         "2023-07-31"
        ],
        [
         "Japan vs Spain",
         4,
         6.5,
         9,
         "Australia",
         "2023-07-31"
        ],
        [
         "Japan vs Spain",
         4,
         6.5,
         9,
         "Nigeria",
         "2023-07-31"
        ],
        [
         "Japan vs Spain",
         4,
         6.5,
         9,
         "Philippines",
         "2023-07-31"
        ],
        [
         "Japan vs Spain",
         4,
         6.5,
         9,
         "South_Africa",
         "2023-07-31"
        ],
        [
         "Chelsea vs Fulham",
         4,
         5.75,
         10,
         "Indonesia",
         "2023-07-31"
        ],
        [
         "Chelsea vs Fulham",
         4,
         5.75,
         10,
         "Malaysia",
         "2023-07-31"
        ],
        [
         "Chelsea vs Fulham",
         4,
         5.75,
         10,
         "New Zealand",
         "2023-07-31"
        ],
        [
         "Chelsea vs Fulham",
         4,
         5.75,
         10,
         "South_Africa",
         "2023-07-31"
        ],
        [
         "Women's World Cup",
         3,
         6.0,
         11,
         "Canada",
         "2023-07-31"
        ],
        [
         "Women's World Cup",
         3,
         6.0,
         11,
         "Denmark",
         "2023-07-31"
        ],
        [
         "Women's World Cup",
         3,
         6.0,
         11,
         "United_Kingdom",
         "2023-07-31"
        ],
        [
         "Real Madrid",
         3,
         7.67,
         12,
         "France",
         "2023-07-31"
        ],
        [
         "Real Madrid",
         3,
         7.67,
         12,
         "Saudi_Arabia",
         "2023-07-31"
        ],
        [
         "Real Madrid",
         3,
         7.67,
         12,
         "Sweden",
         "2023-07-31"
        ],
        [
         "Manchester United – Dortmund",
         3,
         2.67,
         13,
         "Belgium",
         "2023-07-31"
        ],
        [
         "Manchester United – Dortmund",
         3,
         2.67,
         13,
         "France",
         "2023-07-31"
        ],
        [
         "Manchester United – Dortmund",
         3,
         2.67,
         13,
         "Switzerland",
         "2023-07-31"
        ],
        [
         "Manchester City vs Atlético Madrid",
         3,
         7.33,
         14,
         "Argentina",
         "2023-07-31"
        ],
        [
         "Manchester City vs Atlético Madrid",
         3,
         7.33,
         14,
         "Chile",
         "2023-07-31"
        ],
        [
         "Manchester City vs Atlético Madrid",
         3,
         7.33,
         14,
         "Colombia",
         "2023-07-31"
        ],
        [
         "David Raya",
         3,
         5.33,
         15,
         "Ireland",
         "2023-07-31"
        ],
        [
         "David Raya",
         3,
         5.33,
         15,
         "Malaysia",
         "2023-07-31"
        ],
        [
         "David Raya",
         3,
         5.33,
         15,
         "Singapore",
         "2023-07-31"
        ],
        [
         "Cluster headache",
         3,
         7.67,
         16,
         "Denmark",
         "2023-07-31"
        ],
        [
         "Cluster headache",
         3,
         7.67,
         16,
         "Finland",
         "2023-07-31"
        ],
        [
         "Cluster headache",
         3,
         7.67,
         16,
         "Turkey",
         "2023-07-31"
        ],
        [
         "Barcelona",
         3,
         9.67,
         17,
         "Hungary",
         "2023-07-31"
        ],
        [
         "Barcelona",
         3,
         9.67,
         17,
         "Norway",
         "2023-07-31"
        ],
        [
         "Barcelona",
         3,
         9.67,
         17,
         "Sweden",
         "2023-07-31"
        ],
        [
         "مان يونايتد ضد دورتموند",
         2,
         1.5,
         18,
         "Egypt",
         "2023-07-31"
        ],
        [
         "مان يونايتد ضد دورتموند",
         2,
         1.5,
         18,
         "Saudi_Arabia",
         "2023-07-31"
        ],
        [
         "Кривой Рог",
         2,
         1.0,
         19,
         "Russia",
         "2023-07-31"
        ],
        [
         "Кривой Рог",
         2,
         1.0,
         19,
         "Ukraine",
         "2023-07-31"
        ],
        [
         "Oshkosh plane crashes",
         2,
         8.0,
         20,
         "United_Kingdom",
         "2023-07-31"
        ],
        [
         "Oshkosh plane crashes",
         2,
         8.0,
         20,
         "United_States",
         "2023-07-31"
        ],
        [
         "Nouhaila Benzina",
         2,
         3.0,
         21,
         "Belgium",
         "2023-07-31"
        ],
        [
         "Nouhaila Benzina",
         2,
         3.0,
         21,
         "Kenya",
         "2023-07-31"
        ],
        [
         "Max Verstappen",
         2,
         8.0,
         22,
         "Canada",
         "2023-07-31"
        ],
        [
         "Max Verstappen",
         2,
         8.0,
         22,
         "India",
         "2023-07-31"
        ],
        [
         "Manchester United  Dortmund",
         2,
         5.0,
         23,
         "Chile",
         "2023-07-31"
        ],
        [
         "Manchester United  Dortmund",
         2,
         5.0,
         23,
         "Colombia",
         "2023-07-31"
        ],
        [
         "Man utd",
         2,
         5.0,
         24,
         "Australia",
         "2023-07-31"
        ],
        [
         "Man utd",
         2,
         5.0,
         24,
         "Sweden",
         "2023-07-31"
        ],
        [
         "Man City vs atlético Madrid",
         2,
         7.5,
         25,
         "Nigeria",
         "2023-07-31"
        ],
        [
         "Man City vs atlético Madrid",
         2,
         7.5,
         25,
         "South_Africa",
         "2023-07-31"
        ],
        [
         "Liverpool",
         2,
         7.0,
         26,
         "Norway",
         "2023-07-31"
        ],
        [
         "Liverpool",
         2,
         7.0,
         26,
         "Sweden",
         "2023-07-31"
        ],
        [
         "Iliman Ndiaye",
         2,
         7.5,
         27,
         "Belgium",
         "2023-07-31"
        ],
        [
         "Iliman Ndiaye",
         2,
         7.5,
         27,
         "France",
         "2023-07-31"
        ],
        [
         "Gremio",
         2,
         4.0,
         28,
         "Brazil",
         "2023-07-31"
        ],
        [
         "Gremio",
         2,
         4.0,
         28,
         "Portugal",
         "2023-07-31"
        ],
        [
         "Full moon August 2023",
         2,
         6.0,
         29,
         "New Zealand",
         "2023-07-31"
        ],
        [
         "Full moon August 2023",
         2,
         6.0,
         29,
         "Philippines",
         "2023-07-31"
        ],
        [
         "F1 Belgian Grand Prix",
         2,
         4.5,
         30,
         "Ireland",
         "2023-07-31"
        ],
        [
         "F1 Belgian Grand Prix",
         2,
         4.5,
         30,
         "Philippines",
         "2023-07-31"
        ],
        [
         "Dark Winds",
         2,
         3.5,
         31,
         "Canada",
         "2023-07-31"
        ],
        [
         "Dark Winds",
         2,
         3.5,
         31,
         "United_States",
         "2023-07-31"
        ],
        [
         "Chelsea – Fulham",
         2,
         6.0,
         32,
         "Finland",
         "2023-07-31"
        ],
        [
         "Chelsea – Fulham",
         2,
         6.0,
         32,
         "Switzerland",
         "2023-07-31"
        ],
        [
         "Baldur's Gate 3",
         2,
         1.5,
         33,
         "Finland",
         "2023-07-31"
        ],
        [
         "Baldur's Gate 3",
         2,
         1.5,
         33,
         "Russia",
         "2023-07-31"
        ],
        [
         "Aston Villa vs Brentford",
         2,
         8.5,
         34,
         "Kenya",
         "2023-07-31"
        ],
        [
         "Aston Villa vs Brentford",
         2,
         8.5,
         34,
         "Nigeria",
         "2023-07-31"
        ]
       ],
       "datasetInfos": [],
       "dbfsResultPath": null,
       "isJsonSchema": true,
       "metadata": {},
       "overflow": false,
       "plotOptions": {
        "customPlotOptions": {},
        "displayType": "table",
        "pivotAggregation": null,
        "pivotColumns": null,
        "xColumns": null,
        "yColumns": null
       },
       "removedWidgets": [],
       "schema": [
        {
         "metadata": "{}",
         "name": "search_term",
         "type": "\"string\""
        },
        {
         "metadata": "{}",
         "name": "trend_cntry_count",
         "type": "\"long\""
        },
        {
         "metadata": "{}",
         "name": "avg_cntry_trend_rank",
         "type": "\"double\""
        },
        {
         "metadata": "{}",
         "name": "ranking",
         "type": "\"integer\""
        },
        {
         "metadata": "{}",
         "name": "country",
         "type": "\"string\""
        },
        {
         "metadata": "{}",
         "name": "data_as_of_date",
         "type": "\"date\""
        }
       ],
       "type": "table"
      }
     },
     "output_type": "display_data"
    }
   ],
   "source": [
    "df_transf1 = comb_df1.withColumn('trend_cntry_count',count('country').over(Window.partitionBy('search_term'))).withColumn('avg_cntry_trend_rank',round(avg('rank').over(Window.partitionBy('search_term')),2)).withColumn('ranking', dense_rank().over(Window.orderBy(desc(\"trend_cntry_count\"),desc(\"search_term\")))).orderBy(desc('trend_cntry_count'))\n",
    "\n",
    "#Rearranging columns & removing unnecessary column(rank as it's average data is stored in ranking)\n",
    "df_transf2 = df_transf1.select('search_term','trend_cntry_count','avg_cntry_trend_rank','ranking','country','data_as_of_date')\n",
    "display(df_transf2.where(col('trend_cntry_count') > 1))"
   ]
  },
  {
   "cell_type": "code",
   "execution_count": 0,
   "metadata": {
    "application/vnd.databricks.v1+cell": {
     "cellMetadata": {
      "byteLimit": 2048000,
      "rowLimit": 10000
     },
     "inputWidgets": {},
     "nuid": "bd1be72d-b57a-401e-bc0c-cbcfef5ed1cb",
     "showTitle": false,
     "title": ""
    }
   },
   "outputs": [
    {
     "output_type": "display_data",
     "data": {
      "text/html": [
       "<style scoped>\n",
       "  .table-result-container {\n",
       "    max-height: 300px;\n",
       "    overflow: auto;\n",
       "  }\n",
       "  table, th, td {\n",
       "    border: 1px solid black;\n",
       "    border-collapse: collapse;\n",
       "  }\n",
       "  th, td {\n",
       "    padding: 5px;\n",
       "  }\n",
       "  th {\n",
       "    text-align: left;\n",
       "  }\n",
       "</style><div class='table-result-container'><table class='table-result'><thead style='background-color: white'><tr><th>search_term</th><th>trend_cntry_count</th><th>avg_cntry_trend_rank</th><th>ranking</th><th>data_as_of_date</th></tr></thead><tbody><tr><td>Man United vs Dortmund</td><td>13</td><td>3.46</td><td>1</td><td>2023-07-31</td></tr><tr><td>Chelsea</td><td>11</td><td>3.0</td><td>2</td><td>2023-07-31</td></tr><tr><td>Dembele</td><td>8</td><td>4.13</td><td>3</td><td>2023-07-31</td></tr><tr><td>Manchester United</td><td>5</td><td>2.0</td><td>4</td><td>2023-07-31</td></tr><tr><td>Canada vs Australia</td><td>5</td><td>5.0</td><td>5</td><td>2023-07-31</td></tr><tr><td>UFC</td><td>4</td><td>9.5</td><td>6</td><td>2023-07-31</td></tr><tr><td>Niger</td><td>4</td><td>3.0</td><td>7</td><td>2023-07-31</td></tr><tr><td>Liverpool vs Leicester City</td><td>4</td><td>8.0</td><td>8</td><td>2023-07-31</td></tr><tr><td>Japan vs Spain</td><td>4</td><td>6.5</td><td>9</td><td>2023-07-31</td></tr><tr><td>Chelsea vs Fulham</td><td>4</td><td>5.75</td><td>10</td><td>2023-07-31</td></tr><tr><td>Women's World Cup</td><td>3</td><td>6.0</td><td>11</td><td>2023-07-31</td></tr><tr><td>Real Madrid</td><td>3</td><td>7.67</td><td>12</td><td>2023-07-31</td></tr><tr><td>Manchester United – Dortmund</td><td>3</td><td>2.67</td><td>13</td><td>2023-07-31</td></tr><tr><td>Manchester City vs Atlético Madrid</td><td>3</td><td>7.33</td><td>14</td><td>2023-07-31</td></tr><tr><td>David Raya</td><td>3</td><td>5.33</td><td>15</td><td>2023-07-31</td></tr><tr><td>Cluster headache</td><td>3</td><td>7.67</td><td>16</td><td>2023-07-31</td></tr><tr><td>Barcelona</td><td>3</td><td>9.67</td><td>17</td><td>2023-07-31</td></tr><tr><td>مان يونايتد ضد دورتموند</td><td>2</td><td>1.5</td><td>18</td><td>2023-07-31</td></tr><tr><td>Кривой Рог</td><td>2</td><td>1.0</td><td>19</td><td>2023-07-31</td></tr><tr><td>Oshkosh plane crashes</td><td>2</td><td>8.0</td><td>20</td><td>2023-07-31</td></tr><tr><td>Nouhaila Benzina</td><td>2</td><td>3.0</td><td>21</td><td>2023-07-31</td></tr><tr><td>Max Verstappen</td><td>2</td><td>8.0</td><td>22</td><td>2023-07-31</td></tr><tr><td>Manchester United  Dortmund</td><td>2</td><td>5.0</td><td>23</td><td>2023-07-31</td></tr><tr><td>Man utd</td><td>2</td><td>5.0</td><td>24</td><td>2023-07-31</td></tr><tr><td>Man City vs atlético Madrid</td><td>2</td><td>7.5</td><td>25</td><td>2023-07-31</td></tr><tr><td>Liverpool</td><td>2</td><td>7.0</td><td>26</td><td>2023-07-31</td></tr><tr><td>Iliman Ndiaye</td><td>2</td><td>7.5</td><td>27</td><td>2023-07-31</td></tr><tr><td>Gremio</td><td>2</td><td>4.0</td><td>28</td><td>2023-07-31</td></tr><tr><td>Full moon August 2023</td><td>2</td><td>6.0</td><td>29</td><td>2023-07-31</td></tr><tr><td>F1 Belgian Grand Prix</td><td>2</td><td>4.5</td><td>30</td><td>2023-07-31</td></tr><tr><td>Dark Winds</td><td>2</td><td>3.5</td><td>31</td><td>2023-07-31</td></tr><tr><td>Chelsea – Fulham</td><td>2</td><td>6.0</td><td>32</td><td>2023-07-31</td></tr><tr><td>Baldur's Gate 3</td><td>2</td><td>1.5</td><td>33</td><td>2023-07-31</td></tr><tr><td>Aston Villa vs Brentford</td><td>2</td><td>8.5</td><td>34</td><td>2023-07-31</td></tr></tbody></table></div>"
      ]
     },
     "metadata": {
      "application/vnd.databricks.v1+output": {
       "addedWidgets": {},
       "aggData": [],
       "aggError": "",
       "aggOverflow": false,
       "aggSchema": [],
       "aggSeriesLimitReached": false,
       "aggType": "",
       "arguments": {},
       "columnCustomDisplayInfos": {},
       "data": [
        [
         "Man United vs Dortmund",
         13,
         3.46,
         1,
         "2023-07-31"
        ],
        [
         "Chelsea",
         11,
         3.0,
         2,
         "2023-07-31"
        ],
        [
         "Dembele",
         8,
         4.13,
         3,
         "2023-07-31"
        ],
        [
         "Manchester United",
         5,
         2.0,
         4,
         "2023-07-31"
        ],
        [
         "Canada vs Australia",
         5,
         5.0,
         5,
         "2023-07-31"
        ],
        [
         "UFC",
         4,
         9.5,
         6,
         "2023-07-31"
        ],
        [
         "Niger",
         4,
         3.0,
         7,
         "2023-07-31"
        ],
        [
         "Liverpool vs Leicester City",
         4,
         8.0,
         8,
         "2023-07-31"
        ],
        [
         "Japan vs Spain",
         4,
         6.5,
         9,
         "2023-07-31"
        ],
        [
         "Chelsea vs Fulham",
         4,
         5.75,
         10,
         "2023-07-31"
        ],
        [
         "Women's World Cup",
         3,
         6.0,
         11,
         "2023-07-31"
        ],
        [
         "Real Madrid",
         3,
         7.67,
         12,
         "2023-07-31"
        ],
        [
         "Manchester United – Dortmund",
         3,
         2.67,
         13,
         "2023-07-31"
        ],
        [
         "Manchester City vs Atlético Madrid",
         3,
         7.33,
         14,
         "2023-07-31"
        ],
        [
         "David Raya",
         3,
         5.33,
         15,
         "2023-07-31"
        ],
        [
         "Cluster headache",
         3,
         7.67,
         16,
         "2023-07-31"
        ],
        [
         "Barcelona",
         3,
         9.67,
         17,
         "2023-07-31"
        ],
        [
         "مان يونايتد ضد دورتموند",
         2,
         1.5,
         18,
         "2023-07-31"
        ],
        [
         "Кривой Рог",
         2,
         1.0,
         19,
         "2023-07-31"
        ],
        [
         "Oshkosh plane crashes",
         2,
         8.0,
         20,
         "2023-07-31"
        ],
        [
         "Nouhaila Benzina",
         2,
         3.0,
         21,
         "2023-07-31"
        ],
        [
         "Max Verstappen",
         2,
         8.0,
         22,
         "2023-07-31"
        ],
        [
         "Manchester United  Dortmund",
         2,
         5.0,
         23,
         "2023-07-31"
        ],
        [
         "Man utd",
         2,
         5.0,
         24,
         "2023-07-31"
        ],
        [
         "Man City vs atlético Madrid",
         2,
         7.5,
         25,
         "2023-07-31"
        ],
        [
         "Liverpool",
         2,
         7.0,
         26,
         "2023-07-31"
        ],
        [
         "Iliman Ndiaye",
         2,
         7.5,
         27,
         "2023-07-31"
        ],
        [
         "Gremio",
         2,
         4.0,
         28,
         "2023-07-31"
        ],
        [
         "Full moon August 2023",
         2,
         6.0,
         29,
         "2023-07-31"
        ],
        [
         "F1 Belgian Grand Prix",
         2,
         4.5,
         30,
         "2023-07-31"
        ],
        [
         "Dark Winds",
         2,
         3.5,
         31,
         "2023-07-31"
        ],
        [
         "Chelsea – Fulham",
         2,
         6.0,
         32,
         "2023-07-31"
        ],
        [
         "Baldur's Gate 3",
         2,
         1.5,
         33,
         "2023-07-31"
        ],
        [
         "Aston Villa vs Brentford",
         2,
         8.5,
         34,
         "2023-07-31"
        ]
       ],
       "datasetInfos": [],
       "dbfsResultPath": null,
       "isJsonSchema": true,
       "metadata": {},
       "overflow": false,
       "plotOptions": {
        "customPlotOptions": {},
        "displayType": "table",
        "pivotAggregation": null,
        "pivotColumns": null,
        "xColumns": null,
        "yColumns": null
       },
       "removedWidgets": [],
       "schema": [
        {
         "metadata": "{}",
         "name": "search_term",
         "type": "\"string\""
        },
        {
         "metadata": "{}",
         "name": "trend_cntry_count",
         "type": "\"long\""
        },
        {
         "metadata": "{}",
         "name": "avg_cntry_trend_rank",
         "type": "\"double\""
        },
        {
         "metadata": "{}",
         "name": "ranking",
         "type": "\"integer\""
        },
        {
         "metadata": "{}",
         "name": "data_as_of_date",
         "type": "\"date\""
        }
       ],
       "type": "table"
      }
     },
     "output_type": "display_data"
    }
   ],
   "source": [
    "#Removing country col & using distinct to focus on trending search\n",
    "\n",
    "display(df_transf2.select('search_term','trend_cntry_count','avg_cntry_trend_rank','ranking','data_as_of_date').distinct().where(col('trend_cntry_count') > 1))"
   ]
  },
  {
   "cell_type": "code",
   "execution_count": 0,
   "metadata": {
    "application/vnd.databricks.v1+cell": {
     "cellMetadata": {
      "byteLimit": 2048000,
      "rowLimit": 10000
     },
     "inputWidgets": {},
     "nuid": "aeef701d-4eb7-4ff8-a7f8-e0186a8b7324",
     "showTitle": false,
     "title": ""
    }
   },
   "outputs": [],
   "source": [
    "df_transf2.write.mode('append').insertInto('trending_searches.top_trending')"
   ]
  }
 ],
 "metadata": {
  "application/vnd.databricks.v1+notebook": {
   "dashboards": [],
   "language": "python",
   "notebookMetadata": {
    "mostRecentlyExecutedCommandWithImplicitDF": {
     "commandId": 3124340421822890,
     "dataframes": [
      "_sqldf"
     ]
    },
    "pythonIndentUnit": 4
   },
   "notebookName": "Pytrends Demo ETL Notebook",
   "widgets": {}
  }
 },
 "nbformat": 4,
 "nbformat_minor": 0
}
