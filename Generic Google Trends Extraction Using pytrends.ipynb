{
 "cells": [
  {
   "cell_type": "code",
   "execution_count": 0,
   "metadata": {
    "application/vnd.databricks.v1+cell": {
     "cellMetadata": {
      "byteLimit": 2048000,
      "rowLimit": 10000
     },
     "inputWidgets": {},
     "nuid": "eed3ab4b-35d5-44b4-b4ca-f64f1df258a3",
     "showTitle": true,
     "title": "Adding pytrends library"
    }
   },
   "outputs": [
    {
     "output_type": "stream",
     "name": "stdout",
     "output_type": "stream",
     "text": [
      "Collecting pytrends\n  Using cached pytrends-4.9.2-py3-none-any.whl (15 kB)\nRequirement already satisfied: pandas>=0.25 in /databricks/python3/lib/python3.9/site-packages (from pytrends) (1.4.2)\nCollecting lxml\n  Using cached lxml-4.9.3-cp39-cp39-manylinux_2_28_x86_64.whl (8.0 MB)\nRequirement already satisfied: requests>=2.0 in /databricks/python3/lib/python3.9/site-packages (from pytrends) (2.27.1)\nRequirement already satisfied: python-dateutil>=2.8.1 in /databricks/python3/lib/python3.9/site-packages (from pandas>=0.25->pytrends) (2.8.2)\nRequirement already satisfied: pytz>=2020.1 in /databricks/python3/lib/python3.9/site-packages (from pandas>=0.25->pytrends) (2021.3)\nRequirement already satisfied: numpy>=1.18.5 in /databricks/python3/lib/python3.9/site-packages (from pandas>=0.25->pytrends) (1.21.5)\nRequirement already satisfied: six>=1.5 in /databricks/python3/lib/python3.9/site-packages (from python-dateutil>=2.8.1->pandas>=0.25->pytrends) (1.16.0)\nRequirement already satisfied: idna<4,>=2.5 in /databricks/python3/lib/python3.9/site-packages (from requests>=2.0->pytrends) (3.3)\nRequirement already satisfied: charset-normalizer~=2.0.0 in /databricks/python3/lib/python3.9/site-packages (from requests>=2.0->pytrends) (2.0.4)\nRequirement already satisfied: urllib3<1.27,>=1.21.1 in /databricks/python3/lib/python3.9/site-packages (from requests>=2.0->pytrends) (1.26.9)\nRequirement already satisfied: certifi>=2017.4.17 in /databricks/python3/lib/python3.9/site-packages (from requests>=2.0->pytrends) (2021.10.8)\nInstalling collected packages: lxml, pytrends\nSuccessfully installed lxml-4.9.3 pytrends-4.9.2\nWARNING: You are using pip version 21.2.4; however, version 23.2.1 is available.\nYou should consider upgrading via the '/local_disk0/.ephemeral_nfs/envs/pythonEnv-b6d2c43b-72ca-40cd-ab9c-8e3c4f0b2e7f/bin/python -m pip install --upgrade pip' command.\n"
     ]
    }
   ],
   "source": [
    "%sh\n",
    "\n",
    "pip install pytrends"
   ]
  },
  {
   "cell_type": "code",
   "execution_count": 0,
   "metadata": {
    "application/vnd.databricks.v1+cell": {
     "cellMetadata": {
      "byteLimit": 2048000,
      "rowLimit": 10000
     },
     "inputWidgets": {},
     "nuid": "1cbbfc6c-2131-4619-b2d2-56d931f98c27",
     "showTitle": true,
     "title": "Importing required modules & setting pytrends variable"
    }
   },
   "outputs": [
    {
     "output_type": "stream",
     "name": "stdout",
     "output_type": "stream",
     "text": [
      "india\n"
     ]
    }
   ],
   "source": [
    "from pytrends.request import TrendReq\n",
    "from pyspark.sql.functions import *\n",
    "\n",
    "\n",
    "pytrends = TrendReq(hl='en-IN')\n",
    "dbutils.widgets.text(\"country\",\"india\",\"Country\")\n",
    "ctry = dbutils.widgets.get(\"country\")\n",
    "\n",
    "print(ctry)"
   ]
  },
  {
   "cell_type": "code",
   "execution_count": 0,
   "metadata": {
    "application/vnd.databricks.v1+cell": {
     "cellMetadata": {
      "byteLimit": 2048000,
      "rowLimit": 10000
     },
     "inputWidgets": {},
     "nuid": "62c24732-b0ff-4e9e-aa2b-255702114c6f",
     "showTitle": true,
     "title": "Fetching trending searcher for a country (pandas data frame is returned)"
    }
   },
   "outputs": [
    {
     "output_type": "display_data",
     "data": {
      "text/html": [
       "<style scoped>\n",
       "  .table-result-container {\n",
       "    max-height: 300px;\n",
       "    overflow: auto;\n",
       "  }\n",
       "  table, th, td {\n",
       "    border: 1px solid black;\n",
       "    border-collapse: collapse;\n",
       "  }\n",
       "  th, td {\n",
       "    padding: 5px;\n",
       "  }\n",
       "  th {\n",
       "    text-align: left;\n",
       "  }\n",
       "</style><div class='table-result-container'><table class='table-result'><thead style='background-color: white'><tr><th>0</th></tr></thead><tbody><tr><td>MLC</td></tr><tr><td>Man United vs Dortmund</td></tr><tr><td>Water</td></tr><tr><td>National Girlfriend Day</td></tr><tr><td>NTPC share price</td></tr><tr><td>Max Verstappen</td></tr><tr><td>Prime Minister Narendra Modi</td></tr><tr><td>Jasprit Bumrah</td></tr><tr><td>Vakkom Purushothaman</td></tr><tr><td>Lloyd Steel share price</td></tr></tbody></table></div>"
      ]
     },
     "metadata": {
      "application/vnd.databricks.v1+output": {
       "addedWidgets": {},
       "aggData": [],
       "aggError": "",
       "aggOverflow": false,
       "aggSchema": [],
       "aggSeriesLimitReached": false,
       "aggType": "",
       "arguments": {},
       "columnCustomDisplayInfos": {},
       "data": [
        [
         "MLC"
        ],
        [
         "Man United vs Dortmund"
        ],
        [
         "Water"
        ],
        [
         "National Girlfriend Day"
        ],
        [
         "NTPC share price"
        ],
        [
         "Max Verstappen"
        ],
        [
         "Prime Minister Narendra Modi"
        ],
        [
         "Jasprit Bumrah"
        ],
        [
         "Vakkom Purushothaman"
        ],
        [
         "Lloyd Steel share price"
        ]
       ],
       "datasetInfos": [],
       "dbfsResultPath": null,
       "isJsonSchema": true,
       "metadata": {},
       "overflow": false,
       "plotOptions": {
        "customPlotOptions": {},
        "displayType": "table",
        "pivotAggregation": null,
        "pivotColumns": null,
        "xColumns": null,
        "yColumns": null
       },
       "removedWidgets": [],
       "schema": [
        {
         "metadata": "{}",
         "name": "0",
         "type": "\"string\""
        }
       ],
       "type": "table"
      }
     },
     "output_type": "display_data"
    }
   ],
   "source": [
    "top_5_trend = pytrends.trending_searches(pn=f'{ctry}').head(10)\n",
    "display(top_5_trend)"
   ]
  },
  {
   "cell_type": "code",
   "execution_count": 0,
   "metadata": {
    "application/vnd.databricks.v1+cell": {
     "cellMetadata": {
      "byteLimit": 2048000,
      "rowLimit": 10000
     },
     "inputWidgets": {},
     "nuid": "4f22e303-d3e8-4ac8-b29f-1485ffafea2c",
     "showTitle": true,
     "title": "Creating spark data frame, renaming column, adding trending search term with country, trend rank & date"
    }
   },
   "outputs": [
    {
     "output_type": "display_data",
     "data": {
      "text/html": [
       "<style scoped>\n",
       "  .table-result-container {\n",
       "    max-height: 300px;\n",
       "    overflow: auto;\n",
       "  }\n",
       "  table, th, td {\n",
       "    border: 1px solid black;\n",
       "    border-collapse: collapse;\n",
       "  }\n",
       "  th, td {\n",
       "    padding: 5px;\n",
       "  }\n",
       "  th {\n",
       "    text-align: left;\n",
       "  }\n",
       "</style><div class='table-result-container'><table class='table-result'><thead style='background-color: white'><tr><th>search_term</th><th>country</th><th>rank</th><th>date_as_of_date</th></tr></thead><tbody><tr><td>MLC</td><td>india</td><td>1</td><td>2023-07-31</td></tr><tr><td>Man United vs Dortmund</td><td>india</td><td>2</td><td>2023-07-31</td></tr><tr><td>Water</td><td>india</td><td>3</td><td>2023-07-31</td></tr><tr><td>National Girlfriend Day</td><td>india</td><td>4</td><td>2023-07-31</td></tr><tr><td>NTPC share price</td><td>india</td><td>5</td><td>2023-07-31</td></tr><tr><td>Max Verstappen</td><td>india</td><td>6</td><td>2023-07-31</td></tr><tr><td>Prime Minister Narendra Modi</td><td>india</td><td>7</td><td>2023-07-31</td></tr><tr><td>Jasprit Bumrah</td><td>india</td><td>8</td><td>2023-07-31</td></tr><tr><td>Vakkom Purushothaman</td><td>india</td><td>9</td><td>2023-07-31</td></tr><tr><td>Lloyd Steel share price</td><td>india</td><td>10</td><td>2023-07-31</td></tr></tbody></table></div>"
      ]
     },
     "metadata": {
      "application/vnd.databricks.v1+output": {
       "addedWidgets": {},
       "aggData": [],
       "aggError": "",
       "aggOverflow": false,
       "aggSchema": [],
       "aggSeriesLimitReached": false,
       "aggType": "",
       "arguments": {},
       "columnCustomDisplayInfos": {},
       "data": [
        [
         "MLC",
         "india",
         1,
         "2023-07-31"
        ],
        [
         "Man United vs Dortmund",
         "india",
         2,
         "2023-07-31"
        ],
        [
         "Water",
         "india",
         3,
         "2023-07-31"
        ],
        [
         "National Girlfriend Day",
         "india",
         4,
         "2023-07-31"
        ],
        [
         "NTPC share price",
         "india",
         5,
         "2023-07-31"
        ],
        [
         "Max Verstappen",
         "india",
         6,
         "2023-07-31"
        ],
        [
         "Prime Minister Narendra Modi",
         "india",
         7,
         "2023-07-31"
        ],
        [
         "Jasprit Bumrah",
         "india",
         8,
         "2023-07-31"
        ],
        [
         "Vakkom Purushothaman",
         "india",
         9,
         "2023-07-31"
        ],
        [
         "Lloyd Steel share price",
         "india",
         10,
         "2023-07-31"
        ]
       ],
       "datasetInfos": [],
       "dbfsResultPath": null,
       "isJsonSchema": true,
       "metadata": {},
       "overflow": false,
       "plotOptions": {
        "customPlotOptions": {},
        "displayType": "table",
        "pivotAggregation": null,
        "pivotColumns": null,
        "xColumns": null,
        "yColumns": null
       },
       "removedWidgets": [],
       "schema": [
        {
         "metadata": "{}",
         "name": "search_term",
         "type": "\"string\""
        },
        {
         "metadata": "{}",
         "name": "country",
         "type": "\"string\""
        },
        {
         "metadata": "{}",
         "name": "rank",
         "type": "\"integer\""
        },
        {
         "metadata": "{}",
         "name": "date_as_of_date",
         "type": "\"date\""
        }
       ],
       "type": "table"
      }
     },
     "output_type": "display_data"
    }
   ],
   "source": [
    "spark_top_5 = spark.createDataFrame(top_5_trend)\n",
    "top_5_ranked = spark_top_5.select(\"*\")\\\n",
    "    .withColumnRenamed('0', 'search_term')\\\n",
    "    .withColumn(\"country\", lit(f'{ctry}'))\\\n",
    "    .withColumn(\"rank\", (monotonically_increasing_id() + 1).cast('int'))\\\n",
    "    .withColumn(\"date_as_of_date\", current_date())\n",
    "display(top_5_ranked)"
   ]
  },
  {
   "cell_type": "code",
   "execution_count": 0,
   "metadata": {
    "application/vnd.databricks.v1+cell": {
     "cellMetadata": {
      "byteLimit": 2048000,
      "rowLimit": 10000
     },
     "inputWidgets": {},
     "nuid": "5a5f0f7f-bd97-4d66-bb0a-ddcd5b0ea130",
     "showTitle": false,
     "title": ""
    }
   },
   "outputs": [
    {
     "output_type": "stream",
     "name": "stdout",
     "output_type": "stream",
     "text": [
      "Out[6]: <bound method DataFrame.describe of DataFrame[search_term: string, country: string, rank: int, date_as_of_date: date]>"
     ]
    }
   ],
   "source": [
    "top_5_ranked.describe"
   ]
  },
  {
   "cell_type": "code",
   "execution_count": 0,
   "metadata": {
    "application/vnd.databricks.v1+cell": {
     "cellMetadata": {
      "byteLimit": 2048000,
      "rowLimit": 10000
     },
     "inputWidgets": {},
     "nuid": "166e1e6a-9f67-4a6c-a29d-2f67b973396f",
     "showTitle": false,
     "title": ""
    }
   },
   "outputs": [],
   "source": [
    "#top_5_ranked.write.mode('append').insertInto('trending_searches.countries_trending_searches')"
   ]
  }
 ],
 "metadata": {
  "application/vnd.databricks.v1+notebook": {
   "dashboards": [],
   "language": "python",
   "notebookMetadata": {
    "mostRecentlyExecutedCommandWithImplicitDF": {
     "commandId": 3124340421822895,
     "dataframes": [
      "_sqldf"
     ]
    },
    "pythonIndentUnit": 4
   },
   "notebookName": "Generic Google Trends Extraction Using pytrends",
   "widgets": {
    "country": {
     "currentValue": "india",
     "nuid": "998567c2-5d4b-46f7-8c9a-e15eb6b673d0",
     "widgetInfo": {
      "widgetType": "text",
      "defaultValue": "india",
      "label": "Country",
      "name": "country",
      "options": {
       "widgetType": "text",
       "validationRegex": null
      }
     }
    }
   }
  }
 },
 "nbformat": 4,
 "nbformat_minor": 0
}
